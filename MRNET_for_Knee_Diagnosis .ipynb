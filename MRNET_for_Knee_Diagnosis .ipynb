{
  "nbformat": 4,
  "nbformat_minor": 0,
  "metadata": {
    "colab": {
      "name": "MRNET_for_Knee_Diagnosis.ipynb",
      "provenance": [],
      "collapsed_sections": []
    },
    "kernelspec": {
      "name": "python3",
      "display_name": "Python 3"
    },
    "accelerator": "GPU"
  },
  "cells": [
    {
      "cell_type": "code",
      "metadata": {
        "id": "q89IFjvFdbej",
        "colab_type": "code",
        "colab": {
          "base_uri": "https://localhost:8080/",
          "height": 122
        },
        "outputId": "6dbbdc4f-b065-448e-c5e2-d15bc01ae97c"
      },
      "source": [
        "from google.colab import drive\n",
        "drive.mount('/content/gdrive')"
      ],
      "execution_count": null,
      "outputs": [
        {
          "output_type": "stream",
          "text": [
            "Go to this URL in a browser: https://accounts.google.com/o/oauth2/auth?client_id=947318989803-6bn6qk8qdgf4n4g3pfee6491hc0brc4i.apps.googleusercontent.com&redirect_uri=urn%3aietf%3awg%3aoauth%3a2.0%3aoob&response_type=code&scope=email%20https%3a%2f%2fwww.googleapis.com%2fauth%2fdocs.test%20https%3a%2f%2fwww.googleapis.com%2fauth%2fdrive%20https%3a%2f%2fwww.googleapis.com%2fauth%2fdrive.photos.readonly%20https%3a%2f%2fwww.googleapis.com%2fauth%2fpeopleapi.readonly\n",
            "\n",
            "Enter your authorization code:\n",
            "··········\n",
            "Mounted at /content/gdrive\n"
          ],
          "name": "stdout"
        }
      ]
    },
    {
      "cell_type": "markdown",
      "metadata": {
        "id": "ThYVnMr32Eej",
        "colab_type": "text"
      },
      "source": [
        "# MRNET for Knee Diagnosis by using\n",
        "\n",
        "1.   VGG model(implemented from scratch)\n",
        "2.   ResNet model(implemented from scratch)\n",
        "3.   Inception v3 model(implemented from scratch)\n",
        "\n"
      ]
    },
    {
      "cell_type": "markdown",
      "metadata": {
        "id": "OaigynhErxqy",
        "colab_type": "text"
      },
      "source": [
        "# Generator to load data from drive"
      ]
    },
    {
      "cell_type": "code",
      "metadata": {
        "id": "1_OUk4BWdtAU",
        "colab_type": "code",
        "colab": {}
      },
      "source": [
        "import numpy as np\n",
        "import os\n",
        "from keras.preprocessing import image\n",
        "from keras.applications.vgg16 import preprocess_input\n",
        "from numpy import moveaxis\n",
        "from numpy import asarray\n",
        "import pandas as pd\n",
        "import keras "
      ],
      "execution_count": null,
      "outputs": []
    },
    {
      "cell_type": "code",
      "metadata": {
        "id": "Vo6aPDYYd1zX",
        "colab_type": "code",
        "colab": {}
      },
      "source": [
        "class Generator(keras.utils.Sequence):\n",
        "    #constructor\n",
        "    def __init__(self,illness, plane, type1 ):\n",
        "        # the data bath on the drive\n",
        "        data_path = '/content/gdrive/My Drive/DataSet/MRNET data set/MRNet-v1.0/'\n",
        "        super().__init__()\n",
        "        self.illness = illness\n",
        "        self.plane = plane\n",
        "        self.type1 = type1\n",
        "\n",
        "        #if the task is train or valid then its folder is ‘train’ and if the task is test then its folder is ‘valid’  \n",
        "\n",
        "        if(type1 == \"test\"):\n",
        "          type2 = \"valid\"\n",
        "        if(type1 == \"train\"):\n",
        "          type2 = \"train\"\n",
        "        if(type1 == \"valid\"):\n",
        "          type2 = \"train\"\n",
        "\n",
        "\n",
        "        # get folder od exams path\n",
        "        self.folder_path = data_path + type2 +\"/\" + plane\n",
        "\n",
        "        #get labels path\n",
        "        self.records = pd.read_csv(\n",
        "              data_path +type2+\"-\"+illness+\".csv\", header=None, names=['id', 'label'])\n",
        "        \n",
        "        \n",
        "        #creating an id for each label to be equal to its exam name (id.npy) by appending zero to its iteration until its length is 4.\n",
        "        self.records['id'] = self.records['id'].map(lambda i: '0' * (4 - len(str(i))) + str(i))\n",
        "        \n",
        "        # return the true data\n",
        "        #→ If the requirement is train( loading from the calculated  path first 1017 elements)                            \n",
        "        #→ If the requirement is valid( loading from the calculated path last 113 elements)      \n",
        "        #→ If the requirement is test( loading from the calculated  path ahh the elements)      \n",
        "\n",
        "        if(type1 == \"train\"):\n",
        "          self.paths = [self.folder_path+\"/\" + filename +\n",
        "                      '.npy' for filename in self.records['id'].tolist()[:1017] ]\n",
        "          self.labels = self.records['label'].tolist()[:1017]\n",
        "          \n",
        "\n",
        "        if(type1 == \"valid\"):\n",
        "          self.paths = [self.folder_path+\"/\" + filename +\n",
        "                      '.npy' for filename in self.records['id'].tolist()[1017:] ]\n",
        "          self.labels = self.records['label'].tolist()[1017:]\n",
        "\n",
        "        if(type1 == \"test\"):\n",
        "          self.paths = [self.folder_path+\"/\" + filename +\n",
        "                      '.npy' for filename in self.records['id'].tolist() ]\n",
        "          self.labels = self.records['label'].tolist()\n",
        "\n",
        "    #return the length of the data  \n",
        "    def __len__(self):\n",
        "        return len(self.paths)\n",
        "    # return the exam and its label according to the index\n",
        "    def __getitem__(self, index):\n",
        "\n",
        "\n",
        "        array = np.load(self.paths[index])\n",
        "        \n",
        "        label = self.labels[index]\n",
        "        array = np.stack((array,)*3, axis=0)\n",
        "        \n",
        "        array = np.expand_dims(array, axis=0)\n",
        "        array = moveaxis(array ,1,4)\n",
        "        label = [label]\n",
        "        label = np.array([label])\n",
        "        \n",
        "        #print('\\nThe exam shape: {}, It\\'s label: {}\\n'.format(array.shape, label[0][0]))\n",
        "\n",
        "        return array, label"
      ],
      "execution_count": null,
      "outputs": []
    },
    {
      "cell_type": "markdown",
      "metadata": {
        "id": "_WxhXQ3Rr28p",
        "colab_type": "text"
      },
      "source": [
        "# VGG implementation from scratch"
      ]
    },
    {
      "cell_type": "code",
      "metadata": {
        "id": "fYbRvVQeeNjU",
        "colab_type": "code",
        "colab": {}
      },
      "source": [
        "from keras import models\n",
        "from keras import layers\n",
        "from keras.models import Model\n",
        "from keras.layers.wrappers import TimeDistributed\n",
        "from keras.layers import Dense, Input\n",
        "from keras.layers.convolutional import Conv2D\n",
        "from keras.layers import Conv2D, MaxPooling2D, Embedding, Reshape, Concatenate, Dropout\n",
        "from keras.layers import GlobalAveragePooling2D\n",
        "from keras.utils import plot_model \n",
        "from keras.layers import Activation"
      ],
      "execution_count": null,
      "outputs": []
    },
    {
      "cell_type": "code",
      "metadata": {
        "id": "imK7y0E_Elz3",
        "colab_type": "code",
        "colab": {}
      },
      "source": [
        "# implement VGG for extraction features\n",
        "def vgg_block(layer_in, n_filters, n_conv):\n",
        "\t# add convolutional layers\n",
        "\tfor _ in range(n_conv):\n",
        "\t\tlayer_in = TimeDistributed(Conv2D(n_filters, (3,3), padding='same', activation='relu'))(layer_in)\n",
        "\t# add max pooling layer\n",
        "\tlayer_in = TimeDistributed(MaxPooling2D((2,2), strides=(2,2)))(layer_in)\n",
        "\treturn layer_in\n"
      ],
      "execution_count": null,
      "outputs": []
    },
    {
      "cell_type": "code",
      "metadata": {
        "id": "TdZJGLyVKamD",
        "colab_type": "code",
        "colab": {}
      },
      "source": [
        "from keras.models import load_model"
      ],
      "execution_count": null,
      "outputs": []
    },
    {
      "cell_type": "markdown",
      "metadata": {
        "id": "CNrWW9hZ8wxc",
        "colab_type": "text"
      },
      "source": [
        "# *VGG Model* "
      ]
    },
    {
      "cell_type": "code",
      "metadata": {
        "id": "RqjBchxJ83T5",
        "colab_type": "code",
        "colab": {}
      },
      "source": [
        "def build_model():\n",
        "  visible = Input( shape=(None, 256, 256, 3) )\n",
        "  # add vgg module\n",
        "  layer = vgg_block(visible, 64, 2)\n",
        "  # add vgg module\n",
        "  layer = vgg_block(layer, 128, 2)\n",
        "  # add vgg module\n",
        "  layer = vgg_block(layer, 256, 3)\n",
        "  layer = vgg_block(layer,512,3)\n",
        "  layer = vgg_block(layer,512,3)\n",
        "\n",
        "  # add Average pooling layer\n",
        "  layer = TimeDistributed(GlobalAveragePooling2D())(layer)\n",
        "  # time distributed with fully connected layer\n",
        "\n",
        "  input2 = Input((None, 512))\n",
        "  output2 = (keras.layers.pooling.GlobalMaxPooling1D())(input2)\n",
        "  output2 = Model(inputs = input2  ,output = output2 )\n",
        "\n",
        "  layer = (output2)(layer)\n",
        "  layer = layers.Dense(1, activation= 'sigmoid')(layer)\n",
        "\n",
        "  # create model\n",
        "  model = Model(inputs=visible, outputs=layer)\n",
        "\n",
        "  # compile model\n",
        "  model.compile(loss = \"binary_crossentropy\", optimizer = \"adam\",metrics=['accuracy'])\n",
        "\n",
        "  # summarize model\n",
        "  model.summary()\n",
        "\n",
        "  return model"
      ],
      "execution_count": null,
      "outputs": []
    },
    {
      "cell_type": "code",
      "metadata": {
        "id": "jV9M9U9wnKOX",
        "colab_type": "code",
        "colab": {}
      },
      "source": [
        "!mkdir -p saved_model"
      ],
      "execution_count": null,
      "outputs": []
    },
    {
      "cell_type": "markdown",
      "metadata": {
        "id": "Ksyup_QUsMdg",
        "colab_type": "text"
      },
      "source": [
        "# the 9 Models using VGG \n",
        "\n",
        "1.   train the models\n",
        "2.   test the models and get thier accuracy and loss\n",
        "\n",
        "\n",
        "\n"
      ]
    },
    {
      "cell_type": "markdown",
      "metadata": {
        "id": "MIC5gvzOrLxA",
        "colab_type": "text"
      },
      "source": [
        "# --> Abnormal"
      ]
    },
    {
      "cell_type": "markdown",
      "metadata": {
        "id": "W0giJyUTrZhf",
        "colab_type": "text"
      },
      "source": [
        "\n",
        "\n",
        "1.   Axial\n",
        "\n"
      ]
    },
    {
      "cell_type": "code",
      "metadata": {
        "id": "buhxD2atK93A",
        "colab_type": "code",
        "colab": {
          "base_uri": "https://localhost:8080/",
          "height": 1000
        },
        "outputId": "338a6667-a7a3-4b47-aca5-6093b43bbcc8"
      },
      "source": [
        "model_abnormal_axial = build_model()\n",
        "training_generator = Generator( illness = \"abnormal\", plane = \"axial\", type1 = \"train\")\n",
        "validation_generator = Generator(illness = \"abnormal\", plane = \"axial\", type1 = \"valid\")\n",
        "\n",
        "# Train model on dataset\n",
        "history_abnormal_axial = model_abnormal_axial.fit_generator(generator=training_generator,\n",
        "                    validation_data=validation_generator,\n",
        "                    use_multiprocessing=True,\n",
        "                    workers=6, epochs = 5)"
      ],
      "execution_count": null,
      "outputs": [
        {
          "output_type": "stream",
          "text": [
            "/usr/local/lib/python3.6/dist-packages/ipykernel_launcher.py:18: UserWarning: Update your `Model` call to the Keras 2 API: `Model(inputs=Tensor(\"in..., outputs=Tensor(\"gl...)`\n"
          ],
          "name": "stderr"
        },
        {
          "output_type": "stream",
          "text": [
            "Model: \"model_2\"\n",
            "_________________________________________________________________\n",
            "Layer (type)                 Output Shape              Param #   \n",
            "=================================================================\n",
            "input_1 (InputLayer)         (None, None, 256, 256, 3) 0         \n",
            "_________________________________________________________________\n",
            "time_distributed_1 (TimeDist (None, None, 256, 256, 64 1792      \n",
            "_________________________________________________________________\n",
            "time_distributed_2 (TimeDist (None, None, 256, 256, 64 36928     \n",
            "_________________________________________________________________\n",
            "time_distributed_3 (TimeDist (None, None, 128, 128, 64 0         \n",
            "_________________________________________________________________\n",
            "time_distributed_4 (TimeDist (None, None, 128, 128, 12 73856     \n",
            "_________________________________________________________________\n",
            "time_distributed_5 (TimeDist (None, None, 128, 128, 12 147584    \n",
            "_________________________________________________________________\n",
            "time_distributed_6 (TimeDist (None, None, 64, 64, 128) 0         \n",
            "_________________________________________________________________\n",
            "time_distributed_7 (TimeDist (None, None, 64, 64, 256) 295168    \n",
            "_________________________________________________________________\n",
            "time_distributed_8 (TimeDist (None, None, 64, 64, 256) 590080    \n",
            "_________________________________________________________________\n",
            "time_distributed_9 (TimeDist (None, None, 64, 64, 256) 590080    \n",
            "_________________________________________________________________\n",
            "time_distributed_10 (TimeDis (None, None, 32, 32, 256) 0         \n",
            "_________________________________________________________________\n",
            "time_distributed_11 (TimeDis (None, None, 32, 32, 512) 1180160   \n",
            "_________________________________________________________________\n",
            "time_distributed_12 (TimeDis (None, None, 32, 32, 512) 2359808   \n",
            "_________________________________________________________________\n",
            "time_distributed_13 (TimeDis (None, None, 32, 32, 512) 2359808   \n",
            "_________________________________________________________________\n",
            "time_distributed_14 (TimeDis (None, None, 16, 16, 512) 0         \n",
            "_________________________________________________________________\n",
            "time_distributed_15 (TimeDis (None, None, 16, 16, 512) 2359808   \n",
            "_________________________________________________________________\n",
            "time_distributed_16 (TimeDis (None, None, 16, 16, 512) 2359808   \n",
            "_________________________________________________________________\n",
            "time_distributed_17 (TimeDis (None, None, 16, 16, 512) 2359808   \n",
            "_________________________________________________________________\n",
            "time_distributed_18 (TimeDis (None, None, 8, 8, 512)   0         \n",
            "_________________________________________________________________\n",
            "time_distributed_19 (TimeDis (None, None, 512)         0         \n",
            "_________________________________________________________________\n",
            "model_1 (Model)              (None, 512)               0         \n",
            "_________________________________________________________________\n",
            "dense_1 (Dense)              (None, 1)                 513       \n",
            "=================================================================\n",
            "Total params: 14,715,201\n",
            "Trainable params: 14,715,201\n",
            "Non-trainable params: 0\n",
            "_________________________________________________________________\n",
            "Epoch 1/5\n",
            "1016/1017 [============================>.] - ETA: 1s - loss: 10126.2197 - accuracy: 0.8022Epoch 1/5\n",
            "1017/1017 [==============================] - 1122s 1s/step - loss: 10116.2630 - accuracy: 0.8024 - val_loss: 0.2088 - val_accuracy: 0.8053\n",
            "Epoch 2/5\n",
            "1017/1017 [==============================] - 897s 882ms/step - loss: 0.4906 - accuracy: 0.8083 - val_loss: 0.2417 - val_accuracy: 0.8053\n",
            "Epoch 3/5\n",
            "1017/1017 [==============================] - 891s 876ms/step - loss: 19.2549 - accuracy: 0.8053 - val_loss: 0.4682 - val_accuracy: 0.8053\n",
            "Epoch 4/5\n",
            "1017/1017 [==============================] - 891s 876ms/step - loss: 0.5381 - accuracy: 0.8083 - val_loss: 0.3534 - val_accuracy: 0.8053\n",
            "Epoch 5/5\n",
            "1017/1017 [==============================] - 892s 877ms/step - loss: 0.5080 - accuracy: 0.8083 - val_loss: 0.2967 - val_accuracy: 0.8053\n"
          ],
          "name": "stdout"
        }
      ]
    },
    {
      "cell_type": "code",
      "metadata": {
        "id": "aggb_D6i4VwS",
        "colab_type": "code",
        "colab": {}
      },
      "source": [
        "model_abnormal_axial.save(\"/content/gdrive/My Drive/VGG_models/model_abnormal_axial.h5\")"
      ],
      "execution_count": null,
      "outputs": []
    },
    {
      "cell_type": "code",
      "metadata": {
        "colab_type": "code",
        "id": "Jsw4pLyXIT3v",
        "colab": {
          "base_uri": "https://localhost:8080/",
          "height": 34
        },
        "outputId": "caec91d0-f1fb-4b93-989b-28d58cc5f22b"
      },
      "source": [
        "model_abnormal_axial = load_model(\"/content/gdrive/My Drive/VGG_models/model_abnormal_axial.h5\")\n",
        "print(model_abnormal_axial)"
      ],
      "execution_count": null,
      "outputs": [
        {
          "output_type": "stream",
          "text": [
            "<keras.engine.training.Model object at 0x7faf201997b8>\n"
          ],
          "name": "stdout"
        }
      ]
    },
    {
      "cell_type": "code",
      "metadata": {
        "id": "cfOSMM25txnz",
        "colab_type": "code",
        "colab": {
          "base_uri": "https://localhost:8080/",
          "height": 85
        },
        "outputId": "1638e93f-b99c-4068-b61f-7ccc401051ff"
      },
      "source": [
        "generator = Generator( illness = \"abnormal\", plane = \"axial\", type1 = \"test\")\n",
        "evaluate_abnormal_axial = model_abnormal_axial.evaluate_generator( generator)\n",
        "loss , acc = evaluate_abnormal_axial\n",
        "print(\"evaluation done\")\n",
        "print('\\nTesting loss: {}, acc: {}\\n'.format(loss, acc))"
      ],
      "execution_count": null,
      "outputs": [
        {
          "output_type": "stream",
          "text": [
            "evaluation done\n",
            "\n",
            "Testing loss: 0.2018851786851883, acc: 0.7916666865348816\n",
            "\n"
          ],
          "name": "stdout"
        }
      ]
    },
    {
      "cell_type": "markdown",
      "metadata": {
        "id": "nPszlxWUrho4",
        "colab_type": "text"
      },
      "source": [
        "\n",
        "\n",
        "2.   Coronal\n",
        "\n"
      ]
    },
    {
      "cell_type": "code",
      "metadata": {
        "id": "ZyTJRL4soNRJ",
        "colab_type": "code",
        "colab": {
          "base_uri": "https://localhost:8080/",
          "height": 1000
        },
        "outputId": "74dfa7e6-b6da-4a85-9ab1-1b02c42f933e"
      },
      "source": [
        "model_abnormal_coronal =  build_model()\n",
        "training_generator = Generator( illness = \"abnormal\", plane = \"coronal\", type1 = \"train\")\n",
        "validation_generator = Generator(illness = \"abnormal\", plane = \"coronal\", type1 = \"valid\")\n",
        "\n",
        "\n",
        "# Train model on dataset\n",
        "history_abnormal_coronal = model_abnormal_coronal.fit_generator(generator=training_generator,\n",
        "                    validation_data=validation_generator,\n",
        "                    use_multiprocessing=False,\n",
        "                    workers=6, epochs = 5)"
      ],
      "execution_count": null,
      "outputs": [
        {
          "output_type": "stream",
          "text": [
            "/usr/local/lib/python3.6/dist-packages/ipykernel_launcher.py:18: UserWarning: Update your `Model` call to the Keras 2 API: `Model(inputs=Tensor(\"in..., outputs=Tensor(\"gl...)`\n"
          ],
          "name": "stderr"
        },
        {
          "output_type": "stream",
          "text": [
            "Model: \"model_2\"\n",
            "_________________________________________________________________\n",
            "Layer (type)                 Output Shape              Param #   \n",
            "=================================================================\n",
            "input_1 (InputLayer)         (None, None, 256, 256, 3) 0         \n",
            "_________________________________________________________________\n",
            "time_distributed_1 (TimeDist (None, None, 256, 256, 64 1792      \n",
            "_________________________________________________________________\n",
            "time_distributed_2 (TimeDist (None, None, 256, 256, 64 36928     \n",
            "_________________________________________________________________\n",
            "time_distributed_3 (TimeDist (None, None, 128, 128, 64 0         \n",
            "_________________________________________________________________\n",
            "time_distributed_4 (TimeDist (None, None, 128, 128, 12 73856     \n",
            "_________________________________________________________________\n",
            "time_distributed_5 (TimeDist (None, None, 128, 128, 12 147584    \n",
            "_________________________________________________________________\n",
            "time_distributed_6 (TimeDist (None, None, 64, 64, 128) 0         \n",
            "_________________________________________________________________\n",
            "time_distributed_7 (TimeDist (None, None, 64, 64, 256) 295168    \n",
            "_________________________________________________________________\n",
            "time_distributed_8 (TimeDist (None, None, 64, 64, 256) 590080    \n",
            "_________________________________________________________________\n",
            "time_distributed_9 (TimeDist (None, None, 64, 64, 256) 590080    \n",
            "_________________________________________________________________\n",
            "time_distributed_10 (TimeDis (None, None, 32, 32, 256) 0         \n",
            "_________________________________________________________________\n",
            "time_distributed_11 (TimeDis (None, None, 32, 32, 512) 1180160   \n",
            "_________________________________________________________________\n",
            "time_distributed_12 (TimeDis (None, None, 32, 32, 512) 2359808   \n",
            "_________________________________________________________________\n",
            "time_distributed_13 (TimeDis (None, None, 32, 32, 512) 2359808   \n",
            "_________________________________________________________________\n",
            "time_distributed_14 (TimeDis (None, None, 16, 16, 512) 0         \n",
            "_________________________________________________________________\n",
            "time_distributed_15 (TimeDis (None, None, 16, 16, 512) 2359808   \n",
            "_________________________________________________________________\n",
            "time_distributed_16 (TimeDis (None, None, 16, 16, 512) 2359808   \n",
            "_________________________________________________________________\n",
            "time_distributed_17 (TimeDis (None, None, 16, 16, 512) 2359808   \n",
            "_________________________________________________________________\n",
            "time_distributed_18 (TimeDis (None, None, 8, 8, 512)   0         \n",
            "_________________________________________________________________\n",
            "time_distributed_19 (TimeDis (None, None, 512)         0         \n",
            "_________________________________________________________________\n",
            "model_1 (Model)              (None, 512)               0         \n",
            "_________________________________________________________________\n",
            "dense_1 (Dense)              (None, 1)                 513       \n",
            "=================================================================\n",
            "Total params: 14,715,201\n",
            "Trainable params: 14,715,201\n",
            "Non-trainable params: 0\n",
            "_________________________________________________________________\n",
            "Epoch 1/5\n",
            "1017/1017 [==============================] - 933s 918ms/step - loss: 1.7823 - accuracy: 0.8053 - val_loss: 0.2303 - val_accuracy: 0.8053\n",
            "Epoch 2/5\n",
            "1017/1017 [==============================] - 623s 612ms/step - loss: 0.4888 - accuracy: 0.8083 - val_loss: 0.1642 - val_accuracy: 0.8053\n",
            "Epoch 3/5\n",
            "1017/1017 [==============================] - 622s 612ms/step - loss: 0.4894 - accuracy: 0.8083 - val_loss: 0.2609 - val_accuracy: 0.8053\n",
            "Epoch 4/5\n",
            "1017/1017 [==============================] - 623s 612ms/step - loss: 0.4912 - accuracy: 0.8083 - val_loss: 0.2023 - val_accuracy: 0.8053\n",
            "Epoch 5/5\n",
            "1017/1017 [==============================] - 623s 612ms/step - loss: 0.4919 - accuracy: 0.8083 - val_loss: 0.2155 - val_accuracy: 0.8053\n"
          ],
          "name": "stdout"
        }
      ]
    },
    {
      "cell_type": "code",
      "metadata": {
        "id": "SgfNgYH1zFKp",
        "colab_type": "code",
        "colab": {}
      },
      "source": [
        "model_abnormal_coronal.save(\"/content/gdrive/My Drive/VGG_models/model_abnormal_coronal.h5\")"
      ],
      "execution_count": null,
      "outputs": []
    },
    {
      "cell_type": "code",
      "metadata": {
        "colab_type": "code",
        "id": "HE4BEfF0IT4F",
        "colab": {
          "base_uri": "https://localhost:8080/",
          "height": 34
        },
        "outputId": "e0914cd1-2174-4a8a-f97e-0a50c16e4693"
      },
      "source": [
        "model_abnormal_coronal = load_model(\"/content/gdrive/My Drive/VGG_models/model_abnormal_coronal.h5\")\n",
        "print(model_abnormal_coronal)"
      ],
      "execution_count": null,
      "outputs": [
        {
          "output_type": "stream",
          "text": [
            "<keras.engine.training.Model object at 0x7faf26081f98>\n"
          ],
          "name": "stdout"
        }
      ]
    },
    {
      "cell_type": "code",
      "metadata": {
        "id": "cyfttxkLuKAR",
        "colab_type": "code",
        "colab": {
          "base_uri": "https://localhost:8080/",
          "height": 85
        },
        "outputId": "6a4d81e7-0c8a-4f1f-b7c0-602d824d8398"
      },
      "source": [
        "generator = Generator( illness = \"abnormal\", plane = \"coronal\", type1 = \"test\")\n",
        "evaluate_abnormal_coronal = model_abnormal_coronal.evaluate_generator(generator=generator)\n",
        "loss , acc = evaluate_abnormal_coronal\n",
        "print(\"evaluation done\")\n",
        "print('\\nTesting loss: {}, acc: {}\\n'.format(loss, acc))"
      ],
      "execution_count": null,
      "outputs": [
        {
          "output_type": "stream",
          "text": [
            "evaluation done\n",
            "\n",
            "Testing loss: 0.21547695994377136, acc: 0.7916666865348816\n",
            "\n"
          ],
          "name": "stdout"
        }
      ]
    },
    {
      "cell_type": "markdown",
      "metadata": {
        "id": "4URs9OoirrL_",
        "colab_type": "text"
      },
      "source": [
        "\n",
        "\n",
        "3.   Sagittal\n",
        "\n"
      ]
    },
    {
      "cell_type": "code",
      "metadata": {
        "id": "N7ty6KYCER8K",
        "colab_type": "code",
        "colab": {
          "base_uri": "https://localhost:8080/",
          "height": 1000
        },
        "outputId": "3cbda37f-397e-4b1f-c8b3-12b6a6fa2203"
      },
      "source": [
        "model_abnormal_sagittal =  build_model()\n",
        "training_generator = Generator( illness = \"abnormal\", plane = \"sagittal\", type1 = \"train\")\n",
        "validation_generator = Generator(illness = \"abnormal\", plane = \"sagittal\", type1 = \"valid\")\n",
        "\n",
        "\n",
        "# Train model on dataset\n",
        "history_abnormal_sagittal = model_abnormal_sagittal.fit_generator(generator=training_generator,\n",
        "                    validation_data=validation_generator,\n",
        "                    use_multiprocessing=False,\n",
        "                    workers=6, epochs = 5 )"
      ],
      "execution_count": null,
      "outputs": [
        {
          "output_type": "stream",
          "text": [
            "/usr/local/lib/python3.6/dist-packages/ipykernel_launcher.py:18: UserWarning: Update your `Model` call to the Keras 2 API: `Model(inputs=Tensor(\"in..., outputs=Tensor(\"gl...)`\n"
          ],
          "name": "stderr"
        },
        {
          "output_type": "stream",
          "text": [
            "Model: \"model_6\"\n",
            "_________________________________________________________________\n",
            "Layer (type)                 Output Shape              Param #   \n",
            "=================================================================\n",
            "input_5 (InputLayer)         (None, None, 256, 256, 3) 0         \n",
            "_________________________________________________________________\n",
            "time_distributed_39 (TimeDis (None, None, 256, 256, 64 1792      \n",
            "_________________________________________________________________\n",
            "time_distributed_40 (TimeDis (None, None, 256, 256, 64 36928     \n",
            "_________________________________________________________________\n",
            "time_distributed_41 (TimeDis (None, None, 128, 128, 64 0         \n",
            "_________________________________________________________________\n",
            "time_distributed_42 (TimeDis (None, None, 128, 128, 12 73856     \n",
            "_________________________________________________________________\n",
            "time_distributed_43 (TimeDis (None, None, 128, 128, 12 147584    \n",
            "_________________________________________________________________\n",
            "time_distributed_44 (TimeDis (None, None, 64, 64, 128) 0         \n",
            "_________________________________________________________________\n",
            "time_distributed_45 (TimeDis (None, None, 64, 64, 256) 295168    \n",
            "_________________________________________________________________\n",
            "time_distributed_46 (TimeDis (None, None, 64, 64, 256) 590080    \n",
            "_________________________________________________________________\n",
            "time_distributed_47 (TimeDis (None, None, 64, 64, 256) 590080    \n",
            "_________________________________________________________________\n",
            "time_distributed_48 (TimeDis (None, None, 32, 32, 256) 0         \n",
            "_________________________________________________________________\n",
            "time_distributed_49 (TimeDis (None, None, 32, 32, 512) 1180160   \n",
            "_________________________________________________________________\n",
            "time_distributed_50 (TimeDis (None, None, 32, 32, 512) 2359808   \n",
            "_________________________________________________________________\n",
            "time_distributed_51 (TimeDis (None, None, 32, 32, 512) 2359808   \n",
            "_________________________________________________________________\n",
            "time_distributed_52 (TimeDis (None, None, 16, 16, 512) 0         \n",
            "_________________________________________________________________\n",
            "time_distributed_53 (TimeDis (None, None, 16, 16, 512) 2359808   \n",
            "_________________________________________________________________\n",
            "time_distributed_54 (TimeDis (None, None, 16, 16, 512) 2359808   \n",
            "_________________________________________________________________\n",
            "time_distributed_55 (TimeDis (None, None, 16, 16, 512) 2359808   \n",
            "_________________________________________________________________\n",
            "time_distributed_56 (TimeDis (None, None, 8, 8, 512)   0         \n",
            "_________________________________________________________________\n",
            "time_distributed_57 (TimeDis (None, None, 512)         0         \n",
            "_________________________________________________________________\n",
            "model_5 (Model)              (None, 512)               0         \n",
            "_________________________________________________________________\n",
            "dense_3 (Dense)              (None, 1)                 513       \n",
            "=================================================================\n",
            "Total params: 14,715,201\n",
            "Trainable params: 14,715,201\n",
            "Non-trainable params: 0\n",
            "_________________________________________________________________\n",
            "Epoch 1/5\n",
            "1017/1017 [==============================] - 639s 628ms/step - loss: 523.8038 - accuracy: 0.8083 - val_loss: 0.1124 - val_accuracy: 0.8053\n",
            "Epoch 2/5\n",
            "1017/1017 [==============================] - 634s 624ms/step - loss: 0.4987 - accuracy: 0.8083 - val_loss: 0.2237 - val_accuracy: 0.8053\n",
            "Epoch 3/5\n",
            "1017/1017 [==============================] - 633s 623ms/step - loss: 17.7789 - accuracy: 0.8053 - val_loss: 0.5187 - val_accuracy: 0.8053\n",
            "Epoch 4/5\n",
            "1017/1017 [==============================] - 630s 619ms/step - loss: 1.2033 - accuracy: 0.8073 - val_loss: 0.3822 - val_accuracy: 0.8053\n",
            "Epoch 5/5\n",
            "1017/1017 [==============================] - 630s 619ms/step - loss: 0.5148 - accuracy: 0.8083 - val_loss: 0.3113 - val_accuracy: 0.8053\n"
          ],
          "name": "stdout"
        }
      ]
    },
    {
      "cell_type": "code",
      "metadata": {
        "colab_type": "code",
        "id": "jwFOQ8pL_UA5",
        "colab": {}
      },
      "source": [
        "model_abnormal_sagittal.save(\"/content/gdrive/My Drive/VGG_models/model_abnormal_sagittal.h5\")"
      ],
      "execution_count": null,
      "outputs": []
    },
    {
      "cell_type": "code",
      "metadata": {
        "colab_type": "code",
        "id": "q_vWNR3-IT4U",
        "colab": {
          "base_uri": "https://localhost:8080/",
          "height": 34
        },
        "outputId": "38627623-f1d4-4075-807d-cb7c5074a386"
      },
      "source": [
        "model_abnormal_sagittal = load_model(\"/content/gdrive/My Drive/VGG_models/model_abnormal_sagittal.h5\")\n",
        "print(model_abnormal_sagittal)"
      ],
      "execution_count": null,
      "outputs": [
        {
          "output_type": "stream",
          "text": [
            "<keras.engine.training.Model object at 0x7faecdb30e48>\n"
          ],
          "name": "stdout"
        }
      ]
    },
    {
      "cell_type": "code",
      "metadata": {
        "id": "j8__KxLfuVVr",
        "colab_type": "code",
        "colab": {
          "base_uri": "https://localhost:8080/",
          "height": 85
        },
        "outputId": "108040ed-29e5-4534-b227-1d0751db319f"
      },
      "source": [
        "generator = Generator( illness = \"abnormal\", plane = \"sagittal\", type1 = \"test\")\n",
        "evaluate_abnormal_sagittal = model_abnormal_sagittal.evaluate_generator(generator=generator)\n",
        "loss , acc = evaluate_abnormal_sagittal\n",
        "print(\"evaluation done\")\n",
        "print('\\nTesting loss: {}, acc: {}\\n'.format(loss, acc))"
      ],
      "execution_count": null,
      "outputs": [
        {
          "output_type": "stream",
          "text": [
            "evaluation done\n",
            "\n",
            "Testing loss: 0.3112970292568207, acc: 0.7916666865348816\n",
            "\n"
          ],
          "name": "stdout"
        }
      ]
    },
    {
      "cell_type": "markdown",
      "metadata": {
        "id": "f2eeajyhq-2E",
        "colab_type": "text"
      },
      "source": [
        "# --> ACL"
      ]
    },
    {
      "cell_type": "markdown",
      "metadata": {
        "colab_type": "text",
        "id": "F41VVfiXr2_O"
      },
      "source": [
        "\n",
        "\n",
        "1.   Axial\n",
        "\n"
      ]
    },
    {
      "cell_type": "code",
      "metadata": {
        "id": "5nq6p5yEE1bc",
        "colab_type": "code",
        "colab": {
          "base_uri": "https://localhost:8080/",
          "height": 1000
        },
        "outputId": "fe5deda1-c89b-4d0b-c682-5e70c4cf4521"
      },
      "source": [
        "model_acl_axial = build_model()\n",
        "training_generator = Generator( illness = \"acl\", plane = \"axial\", type1 = \"train\")\n",
        "validation_generator = Generator(illness = \"acl\", plane = \"axial\", type1 = \"valid\")\n",
        "\n",
        "\n",
        "# Train model on dataset\n",
        "history_acl_axial = model_acl_axial.fit_generator(generator=training_generator,\n",
        "                    validation_data=validation_generator,\n",
        "                    use_multiprocessing=True,\n",
        "                    workers=6, epochs = 5 )"
      ],
      "execution_count": null,
      "outputs": [
        {
          "output_type": "stream",
          "text": [
            "/usr/local/lib/python3.6/dist-packages/ipykernel_launcher.py:18: UserWarning: Update your `Model` call to the Keras 2 API: `Model(inputs=Tensor(\"in..., outputs=Tensor(\"gl...)`\n"
          ],
          "name": "stderr"
        },
        {
          "output_type": "stream",
          "text": [
            "Model: \"model_10\"\n",
            "_________________________________________________________________\n",
            "Layer (type)                 Output Shape              Param #   \n",
            "=================================================================\n",
            "input_9 (InputLayer)         (None, None, 256, 256, 3) 0         \n",
            "_________________________________________________________________\n",
            "time_distributed_77 (TimeDis (None, None, 256, 256, 64 1792      \n",
            "_________________________________________________________________\n",
            "time_distributed_78 (TimeDis (None, None, 256, 256, 64 36928     \n",
            "_________________________________________________________________\n",
            "time_distributed_79 (TimeDis (None, None, 128, 128, 64 0         \n",
            "_________________________________________________________________\n",
            "time_distributed_80 (TimeDis (None, None, 128, 128, 12 73856     \n",
            "_________________________________________________________________\n",
            "time_distributed_81 (TimeDis (None, None, 128, 128, 12 147584    \n",
            "_________________________________________________________________\n",
            "time_distributed_82 (TimeDis (None, None, 64, 64, 128) 0         \n",
            "_________________________________________________________________\n",
            "time_distributed_83 (TimeDis (None, None, 64, 64, 256) 295168    \n",
            "_________________________________________________________________\n",
            "time_distributed_84 (TimeDis (None, None, 64, 64, 256) 590080    \n",
            "_________________________________________________________________\n",
            "time_distributed_85 (TimeDis (None, None, 64, 64, 256) 590080    \n",
            "_________________________________________________________________\n",
            "time_distributed_86 (TimeDis (None, None, 32, 32, 256) 0         \n",
            "_________________________________________________________________\n",
            "time_distributed_87 (TimeDis (None, None, 32, 32, 512) 1180160   \n",
            "_________________________________________________________________\n",
            "time_distributed_88 (TimeDis (None, None, 32, 32, 512) 2359808   \n",
            "_________________________________________________________________\n",
            "time_distributed_89 (TimeDis (None, None, 32, 32, 512) 2359808   \n",
            "_________________________________________________________________\n",
            "time_distributed_90 (TimeDis (None, None, 16, 16, 512) 0         \n",
            "_________________________________________________________________\n",
            "time_distributed_91 (TimeDis (None, None, 16, 16, 512) 2359808   \n",
            "_________________________________________________________________\n",
            "time_distributed_92 (TimeDis (None, None, 16, 16, 512) 2359808   \n",
            "_________________________________________________________________\n",
            "time_distributed_93 (TimeDis (None, None, 16, 16, 512) 2359808   \n",
            "_________________________________________________________________\n",
            "time_distributed_94 (TimeDis (None, None, 8, 8, 512)   0         \n",
            "_________________________________________________________________\n",
            "time_distributed_95 (TimeDis (None, None, 512)         0         \n",
            "_________________________________________________________________\n",
            "model_9 (Model)              (None, 512)               0         \n",
            "_________________________________________________________________\n",
            "dense_5 (Dense)              (None, 1)                 513       \n",
            "=================================================================\n",
            "Total params: 14,715,201\n",
            "Trainable params: 14,715,201\n",
            "Non-trainable params: 0\n",
            "_________________________________________________________________\n",
            "Epoch 1/5\n",
            "1017/1017 [==============================] - 707s 695ms/step - loss: 1958915.6593 - accuracy: 0.8043 - val_loss: 1.2533 - val_accuracy: 0.8496\n",
            "Epoch 2/5\n",
            "1017/1017 [==============================] - 705s 694ms/step - loss: 4.4043 - accuracy: 0.8063 - val_loss: 1.6774 - val_accuracy: 0.8496\n",
            "Epoch 3/5\n",
            "1017/1017 [==============================] - 704s 693ms/step - loss: 0.5439 - accuracy: 0.8112 - val_loss: 1.7165 - val_accuracy: 0.8496\n",
            "Epoch 4/5\n",
            "1016/1017 [============================>.] - ETA: 0s - loss: 0.4840 - accuracy: 0.8120Epoch 4/5\n",
            "1017/1017 [==============================] - 703s 691ms/step - loss: 0.4838 - accuracy: 0.8122 - val_loss: 1.6317 - val_accuracy: 0.8496\n",
            "Epoch 5/5\n",
            "1016/1017 [============================>.] - ETA: 0s - loss: 0.4841 - accuracy: 0.8120Epoch 5/5\n",
            "1017/1017 [==============================] - 703s 691ms/step - loss: 0.4838 - accuracy: 0.8122 - val_loss: 1.7380 - val_accuracy: 0.8496\n"
          ],
          "name": "stdout"
        }
      ]
    },
    {
      "cell_type": "code",
      "metadata": {
        "colab_type": "code",
        "id": "TsvjS1Zy_gk5",
        "colab": {}
      },
      "source": [
        "model_acl_axial.save(\"/content/gdrive/My Drive/VGG_models/model_acl_axial.h5\")"
      ],
      "execution_count": null,
      "outputs": []
    },
    {
      "cell_type": "code",
      "metadata": {
        "colab_type": "code",
        "id": "EbcHPaeuIT4d",
        "colab": {
          "base_uri": "https://localhost:8080/",
          "height": 34
        },
        "outputId": "475e2c19-5797-4c2a-9744-4f9e8a908b19"
      },
      "source": [
        "model_acl_axial = load_model(\"/content/gdrive/My Drive/VGG_models/model_acl_axial.h5\")\n",
        "print(model_acl_axial)"
      ],
      "execution_count": null,
      "outputs": [
        {
          "output_type": "stream",
          "text": [
            "<keras.engine.training.Model object at 0x7faecd6adc50>\n"
          ],
          "name": "stdout"
        }
      ]
    },
    {
      "cell_type": "code",
      "metadata": {
        "id": "MIHa63bWuuwO",
        "colab_type": "code",
        "colab": {
          "base_uri": "https://localhost:8080/",
          "height": 85
        },
        "outputId": "22d99a00-4b0c-4673-9846-c42eaf4655f7"
      },
      "source": [
        "generator = Generator( illness = \"acl\", plane = \"axial\", type1 = \"test\")\n",
        "evaluate_acl_axial = model_acl_axial.evaluate_generator(generator=generator)\n",
        "loss , acc = evaluate_acl_axial\n",
        "print(\"evaluation done\")\n",
        "print('\\nTesting loss: {}, acc: {}\\n'.format(loss, acc))"
      ],
      "execution_count": null,
      "outputs": [
        {
          "output_type": "stream",
          "text": [
            "evaluation done\n",
            "\n",
            "Testing loss: 0.1930832862854004, acc: 0.550000011920929\n",
            "\n"
          ],
          "name": "stdout"
        }
      ]
    },
    {
      "cell_type": "markdown",
      "metadata": {
        "colab_type": "text",
        "id": "1H9p3e-Xr2_V"
      },
      "source": [
        "\n",
        "\n",
        "2.   Coronal\n",
        "\n"
      ]
    },
    {
      "cell_type": "code",
      "metadata": {
        "id": "hteDGz0_E5WC",
        "colab_type": "code",
        "colab": {
          "base_uri": "https://localhost:8080/",
          "height": 1000
        },
        "outputId": "45377d40-d2fd-42e9-9daa-533e02bef67f"
      },
      "source": [
        "model_acl_coronal = build_model()\n",
        "training_generator = Generator( illness = \"acl\", plane = \"coronal\", type1 = \"train\")\n",
        "validation_generator = Generator(illness = \"acl\", plane = \"coronal\", type1 = \"valid\")\n",
        "\n",
        "\n",
        "# Train model on dataset\n",
        "history_acl_coronal = model_acl_coronal.fit_generator(generator=training_generator,\n",
        "                    validation_data=validation_generator,\n",
        "                    use_multiprocessing=True,\n",
        "                    workers=6, epochs = 5 )"
      ],
      "execution_count": null,
      "outputs": [
        {
          "output_type": "stream",
          "text": [
            "/usr/local/lib/python3.6/dist-packages/ipykernel_launcher.py:18: UserWarning: Update your `Model` call to the Keras 2 API: `Model(inputs=Tensor(\"in..., outputs=Tensor(\"gl...)`\n"
          ],
          "name": "stderr"
        },
        {
          "output_type": "stream",
          "text": [
            "Model: \"model_12\"\n",
            "_________________________________________________________________\n",
            "Layer (type)                 Output Shape              Param #   \n",
            "=================================================================\n",
            "input_11 (InputLayer)        (None, None, 256, 256, 3) 0         \n",
            "_________________________________________________________________\n",
            "time_distributed_96 (TimeDis (None, None, 256, 256, 64 1792      \n",
            "_________________________________________________________________\n",
            "time_distributed_97 (TimeDis (None, None, 256, 256, 64 36928     \n",
            "_________________________________________________________________\n",
            "time_distributed_98 (TimeDis (None, None, 128, 128, 64 0         \n",
            "_________________________________________________________________\n",
            "time_distributed_99 (TimeDis (None, None, 128, 128, 12 73856     \n",
            "_________________________________________________________________\n",
            "time_distributed_100 (TimeDi (None, None, 128, 128, 12 147584    \n",
            "_________________________________________________________________\n",
            "time_distributed_101 (TimeDi (None, None, 64, 64, 128) 0         \n",
            "_________________________________________________________________\n",
            "time_distributed_102 (TimeDi (None, None, 64, 64, 256) 295168    \n",
            "_________________________________________________________________\n",
            "time_distributed_103 (TimeDi (None, None, 64, 64, 256) 590080    \n",
            "_________________________________________________________________\n",
            "time_distributed_104 (TimeDi (None, None, 64, 64, 256) 590080    \n",
            "_________________________________________________________________\n",
            "time_distributed_105 (TimeDi (None, None, 32, 32, 256) 0         \n",
            "_________________________________________________________________\n",
            "time_distributed_106 (TimeDi (None, None, 32, 32, 512) 1180160   \n",
            "_________________________________________________________________\n",
            "time_distributed_107 (TimeDi (None, None, 32, 32, 512) 2359808   \n",
            "_________________________________________________________________\n",
            "time_distributed_108 (TimeDi (None, None, 32, 32, 512) 2359808   \n",
            "_________________________________________________________________\n",
            "time_distributed_109 (TimeDi (None, None, 16, 16, 512) 0         \n",
            "_________________________________________________________________\n",
            "time_distributed_110 (TimeDi (None, None, 16, 16, 512) 2359808   \n",
            "_________________________________________________________________\n",
            "time_distributed_111 (TimeDi (None, None, 16, 16, 512) 2359808   \n",
            "_________________________________________________________________\n",
            "time_distributed_112 (TimeDi (None, None, 16, 16, 512) 2359808   \n",
            "_________________________________________________________________\n",
            "time_distributed_113 (TimeDi (None, None, 8, 8, 512)   0         \n",
            "_________________________________________________________________\n",
            "time_distributed_114 (TimeDi (None, None, 512)         0         \n",
            "_________________________________________________________________\n",
            "model_11 (Model)             (None, 512)               0         \n",
            "_________________________________________________________________\n",
            "dense_6 (Dense)              (None, 1)                 513       \n",
            "=================================================================\n",
            "Total params: 14,715,201\n",
            "Trainable params: 14,715,201\n",
            "Non-trainable params: 0\n",
            "_________________________________________________________________\n",
            "Epoch 1/5\n",
            "1016/1017 [============================>.] - ETA: 0s - loss: 57226.1991 - accuracy: 0.7943\n",
            "1017/1017 [==============================] - 628s 618ms/step - loss: 57169.9295 - accuracy: 0.7945 - val_loss: 14.5698 - val_accuracy: 0.8496\n",
            "Epoch 2/5\n",
            "1017/1017 [==============================] - 621s 611ms/step - loss: 19.1195 - accuracy: 0.8014 - val_loss: 1.5943 - val_accuracy: 0.8496\n",
            "Epoch 3/5\n",
            "1016/1017 [============================>.] - ETA: 0s - loss: 0.6326 - accuracy: 0.8071Epoch 3/5\n",
            "1017/1017 [==============================] - 622s 612ms/step - loss: 0.6322 - accuracy: 0.8073 - val_loss: 1.6627 - val_accuracy: 0.8496\n",
            "Epoch 4/5\n",
            "1017/1017 [==============================] - 622s 612ms/step - loss: 0.4837 - accuracy: 0.8122 - val_loss: 1.6451 - val_accuracy: 0.8496\n",
            "Epoch 5/5\n",
            "1017/1017 [==============================] - 623s 612ms/step - loss: 0.4837 - accuracy: 0.8122 - val_loss: 1.6835 - val_accuracy: 0.8496\n"
          ],
          "name": "stdout"
        }
      ]
    },
    {
      "cell_type": "code",
      "metadata": {
        "colab_type": "code",
        "id": "HEB_RUDx_nbU",
        "colab": {}
      },
      "source": [
        "model_acl_coronal.save(\"/content/gdrive/My Drive/VGG_models/model_acl_coronal.h5\")"
      ],
      "execution_count": null,
      "outputs": []
    },
    {
      "cell_type": "code",
      "metadata": {
        "colab_type": "code",
        "id": "16dBMalUIT4j",
        "colab": {
          "base_uri": "https://localhost:8080/",
          "height": 34
        },
        "outputId": "e5f23321-a360-4ea1-a3d7-29baebfa346d"
      },
      "source": [
        "model_acl_coronal = load_model(\"/content/gdrive/My Drive/VGG_models/model_acl_coronal.h5\")\n",
        "print(model_acl_coronal)"
      ],
      "execution_count": null,
      "outputs": [
        {
          "output_type": "stream",
          "text": [
            "<keras.engine.training.Model object at 0x7faeccf6e7f0>\n"
          ],
          "name": "stdout"
        }
      ]
    },
    {
      "cell_type": "code",
      "metadata": {
        "colab_type": "code",
        "id": "Ua1kYQagu41X",
        "colab": {
          "base_uri": "https://localhost:8080/",
          "height": 85
        },
        "outputId": "2cbe8392-c8f4-4b04-e191-8efcfc176b81"
      },
      "source": [
        "generator = Generator( illness = \"acl\", plane = \"coronal\", type1 = \"test\")\n",
        "evaluate_acl_coronal = model_acl_coronal.evaluate_generator(generator=generator)\n",
        "loss , acc = evaluate_acl_coronal\n",
        "print(\"evaluation done\")\n",
        "print('\\nTesting loss: {}, acc: {}\\n'.format(loss, acc))"
      ],
      "execution_count": null,
      "outputs": [
        {
          "output_type": "stream",
          "text": [
            "evaluation done\n",
            "\n",
            "Testing loss: 0.20545101165771484, acc: 0.550000011920929\n",
            "\n"
          ],
          "name": "stdout"
        }
      ]
    },
    {
      "cell_type": "markdown",
      "metadata": {
        "colab_type": "text",
        "id": "rOm9ROShr2_Z"
      },
      "source": [
        "\n",
        "\n",
        "3.   Sagittal\n",
        "\n"
      ]
    },
    {
      "cell_type": "code",
      "metadata": {
        "id": "69VyCqHVFJYV",
        "colab_type": "code",
        "colab": {
          "base_uri": "https://localhost:8080/",
          "height": 1000
        },
        "outputId": "e1783afa-78c6-4894-9b47-86fef019d997"
      },
      "source": [
        "model_acl_sagittal = build_model()\n",
        "training_generator = Generator( illness = \"acl\", plane = \"sagittal\", type1 = \"train\")\n",
        "validation_generator = Generator(illness = \"acl\", plane = \"sagittal\", type1 = \"valid\")\n",
        "\n",
        "\n",
        "# Train model on dataset\n",
        "history_acl_sagittal = model_acl_sagittal.fit_generator(generator=training_generator,\n",
        "                    validation_data=validation_generator,\n",
        "                    use_multiprocessing=True,\n",
        "                    workers=6, epochs = 5 )"
      ],
      "execution_count": null,
      "outputs": [
        {
          "output_type": "stream",
          "text": [
            "/usr/local/lib/python3.6/dist-packages/ipykernel_launcher.py:18: UserWarning: Update your `Model` call to the Keras 2 API: `Model(inputs=Tensor(\"in..., outputs=Tensor(\"gl...)`\n"
          ],
          "name": "stderr"
        },
        {
          "output_type": "stream",
          "text": [
            "Model: \"model_14\"\n",
            "_________________________________________________________________\n",
            "Layer (type)                 Output Shape              Param #   \n",
            "=================================================================\n",
            "input_13 (InputLayer)        (None, None, 256, 256, 3) 0         \n",
            "_________________________________________________________________\n",
            "time_distributed_115 (TimeDi (None, None, 256, 256, 64 1792      \n",
            "_________________________________________________________________\n",
            "time_distributed_116 (TimeDi (None, None, 256, 256, 64 36928     \n",
            "_________________________________________________________________\n",
            "time_distributed_117 (TimeDi (None, None, 128, 128, 64 0         \n",
            "_________________________________________________________________\n",
            "time_distributed_118 (TimeDi (None, None, 128, 128, 12 73856     \n",
            "_________________________________________________________________\n",
            "time_distributed_119 (TimeDi (None, None, 128, 128, 12 147584    \n",
            "_________________________________________________________________\n",
            "time_distributed_120 (TimeDi (None, None, 64, 64, 128) 0         \n",
            "_________________________________________________________________\n",
            "time_distributed_121 (TimeDi (None, None, 64, 64, 256) 295168    \n",
            "_________________________________________________________________\n",
            "time_distributed_122 (TimeDi (None, None, 64, 64, 256) 590080    \n",
            "_________________________________________________________________\n",
            "time_distributed_123 (TimeDi (None, None, 64, 64, 256) 590080    \n",
            "_________________________________________________________________\n",
            "time_distributed_124 (TimeDi (None, None, 32, 32, 256) 0         \n",
            "_________________________________________________________________\n",
            "time_distributed_125 (TimeDi (None, None, 32, 32, 512) 1180160   \n",
            "_________________________________________________________________\n",
            "time_distributed_126 (TimeDi (None, None, 32, 32, 512) 2359808   \n",
            "_________________________________________________________________\n",
            "time_distributed_127 (TimeDi (None, None, 32, 32, 512) 2359808   \n",
            "_________________________________________________________________\n",
            "time_distributed_128 (TimeDi (None, None, 16, 16, 512) 0         \n",
            "_________________________________________________________________\n",
            "time_distributed_129 (TimeDi (None, None, 16, 16, 512) 2359808   \n",
            "_________________________________________________________________\n",
            "time_distributed_130 (TimeDi (None, None, 16, 16, 512) 2359808   \n",
            "_________________________________________________________________\n",
            "time_distributed_131 (TimeDi (None, None, 16, 16, 512) 2359808   \n",
            "_________________________________________________________________\n",
            "time_distributed_132 (TimeDi (None, None, 8, 8, 512)   0         \n",
            "_________________________________________________________________\n",
            "time_distributed_133 (TimeDi (None, None, 512)         0         \n",
            "_________________________________________________________________\n",
            "model_13 (Model)             (None, 512)               0         \n",
            "_________________________________________________________________\n",
            "dense_7 (Dense)              (None, 1)                 513       \n",
            "=================================================================\n",
            "Total params: 14,715,201\n",
            "Trainable params: 14,715,201\n",
            "Non-trainable params: 0\n",
            "_________________________________________________________________\n",
            "Epoch 1/5\n",
            "1017/1017 [==============================] - 642s 631ms/step - loss: 1187757.2416 - accuracy: 0.8043 - val_loss: 0.9699 - val_accuracy: 0.8496\n",
            "Epoch 2/5\n",
            "1017/1017 [==============================] - 625s 615ms/step - loss: 0.5393 - accuracy: 0.8122 - val_loss: 1.1967 - val_accuracy: 0.8496\n",
            "Epoch 3/5\n",
            "1017/1017 [==============================] - 625s 615ms/step - loss: 0.5055 - accuracy: 0.8122 - val_loss: 1.3549 - val_accuracy: 0.8496\n",
            "Epoch 4/5\n",
            "1017/1017 [==============================] - 626s 616ms/step - loss: 0.4923 - accuracy: 0.8122 - val_loss: 1.4618 - val_accuracy: 0.8496\n",
            "Epoch 5/5\n",
            "1016/1017 [============================>.] - ETA: 0s - loss: 0.4873 - accuracy: 0.8120Epoch 5/5\n",
            "1017/1017 [==============================] - 626s 615ms/step - loss: 0.4871 - accuracy: 0.8122 - val_loss: 1.5337 - val_accuracy: 0.8496\n"
          ],
          "name": "stdout"
        }
      ]
    },
    {
      "cell_type": "code",
      "metadata": {
        "colab_type": "code",
        "id": "fKq7X2zo_o8Y",
        "colab": {}
      },
      "source": [
        "model_acl_sagittal.save(\"/content/gdrive/My Drive/VGG_models/model_acl_sagittal.h5\")"
      ],
      "execution_count": null,
      "outputs": []
    },
    {
      "cell_type": "code",
      "metadata": {
        "colab_type": "code",
        "id": "6vUA1B7tIT4n",
        "colab": {
          "base_uri": "https://localhost:8080/",
          "height": 34
        },
        "outputId": "11763268-6560-4850-afe9-24164f7b6097"
      },
      "source": [
        "model_acl_sagittal = load_model(\"/content/gdrive/My Drive/VGG_models/model_acl_sagittal.h5\")\n",
        "print(model_acl_sagittal)"
      ],
      "execution_count": null,
      "outputs": [
        {
          "output_type": "stream",
          "text": [
            "<keras.engine.training.Model object at 0x7faecce90cf8>\n"
          ],
          "name": "stdout"
        }
      ]
    },
    {
      "cell_type": "code",
      "metadata": {
        "colab_type": "code",
        "id": "GYaU7krxvDd8",
        "colab": {
          "base_uri": "https://localhost:8080/",
          "height": 85
        },
        "outputId": "8afdece5-1a82-4db2-e366-ffc2eaa4aaea"
      },
      "source": [
        "generator = Generator( illness = \"acl\", plane = \"sagittal\", type1 = \"test\")\n",
        "evaluate_acl_sagittal = model_acl_sagittal.evaluate_generator(generator=generator)\n",
        "loss , acc = evaluate_acl_sagittal\n",
        "print(\"evaluation done\")\n",
        "print('\\nTesting loss: {}, acc: {}\\n'.format(loss, acc))"
      ],
      "execution_count": null,
      "outputs": [
        {
          "output_type": "stream",
          "text": [
            "evaluation done\n",
            "\n",
            "Testing loss: 0.2430194914340973, acc: 0.550000011920929\n",
            "\n"
          ],
          "name": "stdout"
        }
      ]
    },
    {
      "cell_type": "markdown",
      "metadata": {
        "id": "_-qvDneu0Ns9",
        "colab_type": "text"
      },
      "source": [
        "# --> ***Meniscus***\n",
        "\n",
        "\n",
        "\n",
        "\n",
        "\n"
      ]
    },
    {
      "cell_type": "markdown",
      "metadata": {
        "colab_type": "text",
        "id": "6mSraI7ZsNd7"
      },
      "source": [
        "\n",
        "\n",
        "1.   Axial\n",
        "\n"
      ]
    },
    {
      "cell_type": "code",
      "metadata": {
        "id": "wpvuqenJFNO8",
        "colab_type": "code",
        "colab": {
          "base_uri": "https://localhost:8080/",
          "height": 1000
        },
        "outputId": "37b02d52-effa-47f8-86fb-24cb7be2df50"
      },
      "source": [
        "model_meniscus_axial = build_model()\n",
        "training_generator = Generator( illness = \"meniscus\", plane = \"axial\", type1 = \"train\")\n",
        "validation_generator = Generator(illness = \"meniscus\", plane = \"axial\", type1 = \"valid\")\n",
        "\n",
        "\n",
        "# Train model on dataset\n",
        "history_meniscus_axial = model_meniscus_axial.fit_generator(generator=training_generator,\n",
        "                    validation_data=validation_generator,\n",
        "                    use_multiprocessing=True,\n",
        "                    workers=6, epochs = 5 )\n"
      ],
      "execution_count": null,
      "outputs": [
        {
          "output_type": "stream",
          "text": [
            "/usr/local/lib/python3.6/dist-packages/ipykernel_launcher.py:18: UserWarning: Update your `Model` call to the Keras 2 API: `Model(inputs=Tensor(\"in..., outputs=Tensor(\"gl...)`\n"
          ],
          "name": "stderr"
        },
        {
          "output_type": "stream",
          "text": [
            "Model: \"model_2\"\n",
            "_________________________________________________________________\n",
            "Layer (type)                 Output Shape              Param #   \n",
            "=================================================================\n",
            "input_1 (InputLayer)         (None, None, 256, 256, 3) 0         \n",
            "_________________________________________________________________\n",
            "time_distributed_1 (TimeDist (None, None, 256, 256, 64 1792      \n",
            "_________________________________________________________________\n",
            "time_distributed_2 (TimeDist (None, None, 256, 256, 64 36928     \n",
            "_________________________________________________________________\n",
            "time_distributed_3 (TimeDist (None, None, 128, 128, 64 0         \n",
            "_________________________________________________________________\n",
            "time_distributed_4 (TimeDist (None, None, 128, 128, 12 73856     \n",
            "_________________________________________________________________\n",
            "time_distributed_5 (TimeDist (None, None, 128, 128, 12 147584    \n",
            "_________________________________________________________________\n",
            "time_distributed_6 (TimeDist (None, None, 64, 64, 128) 0         \n",
            "_________________________________________________________________\n",
            "time_distributed_7 (TimeDist (None, None, 64, 64, 256) 295168    \n",
            "_________________________________________________________________\n",
            "time_distributed_8 (TimeDist (None, None, 64, 64, 256) 590080    \n",
            "_________________________________________________________________\n",
            "time_distributed_9 (TimeDist (None, None, 64, 64, 256) 590080    \n",
            "_________________________________________________________________\n",
            "time_distributed_10 (TimeDis (None, None, 32, 32, 256) 0         \n",
            "_________________________________________________________________\n",
            "time_distributed_11 (TimeDis (None, None, 32, 32, 512) 1180160   \n",
            "_________________________________________________________________\n",
            "time_distributed_12 (TimeDis (None, None, 32, 32, 512) 2359808   \n",
            "_________________________________________________________________\n",
            "time_distributed_13 (TimeDis (None, None, 32, 32, 512) 2359808   \n",
            "_________________________________________________________________\n",
            "time_distributed_14 (TimeDis (None, None, 16, 16, 512) 0         \n",
            "_________________________________________________________________\n",
            "time_distributed_15 (TimeDis (None, None, 16, 16, 512) 2359808   \n",
            "_________________________________________________________________\n",
            "time_distributed_16 (TimeDis (None, None, 16, 16, 512) 2359808   \n",
            "_________________________________________________________________\n",
            "time_distributed_17 (TimeDis (None, None, 16, 16, 512) 2359808   \n",
            "_________________________________________________________________\n",
            "time_distributed_18 (TimeDis (None, None, 8, 8, 512)   0         \n",
            "_________________________________________________________________\n",
            "time_distributed_19 (TimeDis (None, None, 512)         0         \n",
            "_________________________________________________________________\n",
            "model_1 (Model)              (None, 512)               0         \n",
            "_________________________________________________________________\n",
            "dense_1 (Dense)              (None, 1)                 513       \n",
            "=================================================================\n",
            "Total params: 14,715,201\n",
            "Trainable params: 14,715,201\n",
            "Non-trainable params: 0\n",
            "_________________________________________________________________\n",
            "Epoch 1/5\n",
            "1016/1017 [============================>.] - ETA: 0s - loss: 85.7446 - accuracy: 0.6388Epoch 1/5\n",
            "1017/1017 [==============================] - 473s 465ms/step - loss: 85.6607 - accuracy: 0.6391 - val_loss: 0.5089 - val_accuracy: 0.6637\n",
            "Epoch 2/5\n",
            "1017/1017 [==============================] - 375s 369ms/step - loss: 0.6613 - accuracy: 0.6480 - val_loss: 0.4762 - val_accuracy: 0.6637\n",
            "Epoch 2/5\n",
            "Epoch 3/5\n",
            "1016/1017 [============================>.] - ETA: 0s - loss: 0.6940 - accuracy: 0.6447Epoch 3/5\n",
            "1017/1017 [==============================] - 375s 369ms/step - loss: 0.6937 - accuracy: 0.6450 - val_loss: 0.4519 - val_accuracy: 0.6637\n",
            "Epoch 4/5\n",
            "1017/1017 [==============================] - 376s 370ms/step - loss: 0.6607 - accuracy: 0.6470 - val_loss: 0.5540 - val_accuracy: 0.6637\n",
            "Epoch 5/5\n",
            "1017/1017 [==============================] - 376s 369ms/step - loss: 0.6598 - accuracy: 0.6470 - val_loss: 0.5231 - val_accuracy: 0.6637\n"
          ],
          "name": "stdout"
        }
      ]
    },
    {
      "cell_type": "code",
      "metadata": {
        "colab_type": "code",
        "id": "fzxQ5IE8_zIC",
        "colab": {}
      },
      "source": [
        "model_meniscus_axial.save(\"/content/gdrive/My Drive/VGG_models/model_meniscus_axial.h5\")"
      ],
      "execution_count": null,
      "outputs": []
    },
    {
      "cell_type": "code",
      "metadata": {
        "colab_type": "code",
        "id": "p6iSS89jIT4r",
        "colab": {
          "base_uri": "https://localhost:8080/",
          "height": 34
        },
        "outputId": "f80e6a37-2629-4e5e-fed5-4ca90ac2b0cb"
      },
      "source": [
        "model_meniscus_axial = load_model(\"/content/gdrive/My Drive/VGG_models/model_meniscus_axial.h5\")\n",
        "print(model_meniscus_axial)"
      ],
      "execution_count": null,
      "outputs": [
        {
          "output_type": "stream",
          "text": [
            "<keras.engine.training.Model object at 0x7faecc2bf198>\n"
          ],
          "name": "stdout"
        }
      ]
    },
    {
      "cell_type": "code",
      "metadata": {
        "id": "YRC3l60VvO_V",
        "colab_type": "code",
        "colab": {
          "base_uri": "https://localhost:8080/",
          "height": 85
        },
        "outputId": "a951ebc4-bbf6-4934-a676-ccde312421e9"
      },
      "source": [
        "generator = Generator( illness = \"meniscus\", plane = \"axial\", type1 = \"test\")\n",
        "evaluate_meniscus_axial = model_meniscus_axial.evaluate_generator(generator=generator)\n",
        "loss , acc = evaluate_meniscus_axial\n",
        "print(\"evaluation done\")\n",
        "print('\\nTesting loss: {}, acc: {}\\n'.format(loss, acc))"
      ],
      "execution_count": null,
      "outputs": [
        {
          "output_type": "stream",
          "text": [
            "evaluation done\n",
            "\n",
            "Testing loss: 0.8985384702682495, acc: 0.5666666626930237\n",
            "\n"
          ],
          "name": "stdout"
        }
      ]
    },
    {
      "cell_type": "markdown",
      "metadata": {
        "colab_type": "text",
        "id": "B70ClT6vsJjK"
      },
      "source": [
        "\n",
        "\n",
        "2.   Coronal\n",
        "\n"
      ]
    },
    {
      "cell_type": "code",
      "metadata": {
        "id": "sMN_aNnQFN8l",
        "colab_type": "code",
        "colab": {
          "base_uri": "https://localhost:8080/",
          "height": 1000
        },
        "outputId": "0d10b898-cdc2-4299-80f4-2516fdf00931"
      },
      "source": [
        "model_meniscus_coronal = build_model()\n",
        "training_generator = Generator( illness = \"meniscus\", plane = \"coronal\", type1 = \"train\")\n",
        "validation_generator = Generator(illness = \"meniscus\", plane = \"coronal\", type1 = \"valid\")\n",
        "\n",
        "\n",
        "# Train model on dataset\n",
        "history_meniscus_coronal = model_meniscus_coronal.fit_generator(generator=training_generator,\n",
        "                    validation_data=validation_generator,\n",
        "                    use_multiprocessing=True,\n",
        "                    workers=6, epochs = 5 )"
      ],
      "execution_count": null,
      "outputs": [
        {
          "output_type": "stream",
          "text": [
            "/usr/local/lib/python3.6/dist-packages/ipykernel_launcher.py:18: UserWarning: Update your `Model` call to the Keras 2 API: `Model(inputs=Tensor(\"in..., outputs=Tensor(\"gl...)`\n"
          ],
          "name": "stderr"
        },
        {
          "output_type": "stream",
          "text": [
            "Model: \"model_4\"\n",
            "_________________________________________________________________\n",
            "Layer (type)                 Output Shape              Param #   \n",
            "=================================================================\n",
            "input_3 (InputLayer)         (None, None, 256, 256, 3) 0         \n",
            "_________________________________________________________________\n",
            "time_distributed_20 (TimeDis (None, None, 256, 256, 64 1792      \n",
            "_________________________________________________________________\n",
            "time_distributed_21 (TimeDis (None, None, 256, 256, 64 36928     \n",
            "_________________________________________________________________\n",
            "time_distributed_22 (TimeDis (None, None, 128, 128, 64 0         \n",
            "_________________________________________________________________\n",
            "time_distributed_23 (TimeDis (None, None, 128, 128, 12 73856     \n",
            "_________________________________________________________________\n",
            "time_distributed_24 (TimeDis (None, None, 128, 128, 12 147584    \n",
            "_________________________________________________________________\n",
            "time_distributed_25 (TimeDis (None, None, 64, 64, 128) 0         \n",
            "_________________________________________________________________\n",
            "time_distributed_26 (TimeDis (None, None, 64, 64, 256) 295168    \n",
            "_________________________________________________________________\n",
            "time_distributed_27 (TimeDis (None, None, 64, 64, 256) 590080    \n",
            "_________________________________________________________________\n",
            "time_distributed_28 (TimeDis (None, None, 64, 64, 256) 590080    \n",
            "_________________________________________________________________\n",
            "time_distributed_29 (TimeDis (None, None, 32, 32, 256) 0         \n",
            "_________________________________________________________________\n",
            "time_distributed_30 (TimeDis (None, None, 32, 32, 512) 1180160   \n",
            "_________________________________________________________________\n",
            "time_distributed_31 (TimeDis (None, None, 32, 32, 512) 2359808   \n",
            "_________________________________________________________________\n",
            "time_distributed_32 (TimeDis (None, None, 32, 32, 512) 2359808   \n",
            "_________________________________________________________________\n",
            "time_distributed_33 (TimeDis (None, None, 16, 16, 512) 0         \n",
            "_________________________________________________________________\n",
            "time_distributed_34 (TimeDis (None, None, 16, 16, 512) 2359808   \n",
            "_________________________________________________________________\n",
            "time_distributed_35 (TimeDis (None, None, 16, 16, 512) 2359808   \n",
            "_________________________________________________________________\n",
            "time_distributed_36 (TimeDis (None, None, 16, 16, 512) 2359808   \n",
            "_________________________________________________________________\n",
            "time_distributed_37 (TimeDis (None, None, 8, 8, 512)   0         \n",
            "_________________________________________________________________\n",
            "time_distributed_38 (TimeDis (None, None, 512)         0         \n",
            "_________________________________________________________________\n",
            "model_3 (Model)              (None, 512)               0         \n",
            "_________________________________________________________________\n",
            "dense_2 (Dense)              (None, 1)                 513       \n",
            "=================================================================\n",
            "Total params: 14,715,201\n",
            "Trainable params: 14,715,201\n",
            "Non-trainable params: 0\n",
            "_________________________________________________________________\n",
            "Epoch 1/5\n",
            "1016/1017 [============================>.] - ETA: 0s - loss: 25.1033 - accuracy: 0.6447Epoch 1/5\n",
            "1017/1017 [==============================] - 342s 336ms/step - loss: 25.0791 - accuracy: 0.6450 - val_loss: 0.4520 - val_accuracy: 0.6637\n",
            "Epoch 2/5\n",
            "1017/1017 [==============================] - 335s 329ms/step - loss: 0.6514 - accuracy: 0.6470 - val_loss: 0.4550 - val_accuracy: 0.6637\n",
            "Epoch 3/5\n",
            "1016/1017 [============================>.] - ETA: 0s - loss: 1.0716 - accuracy: 0.6457Epoch 3/5\n",
            "1017/1017 [==============================] - 335s 329ms/step - loss: 1.0712 - accuracy: 0.6460 - val_loss: 0.5761 - val_accuracy: 0.6637\n",
            "Epoch 4/5\n",
            "1016/1017 [============================>.] - ETA: 0s - loss: 0.6610 - accuracy: 0.6476Epoch 4/5\n",
            "1017/1017 [==============================] - 335s 330ms/step - loss: 0.6613 - accuracy: 0.6470 - val_loss: 0.4800 - val_accuracy: 0.6637\n",
            "Epoch 5/5\n",
            "1017/1017 [==============================] - 335s 329ms/step - loss: 0.6524 - accuracy: 0.6470 - val_loss: 0.4989 - val_accuracy: 0.6637\n"
          ],
          "name": "stdout"
        }
      ]
    },
    {
      "cell_type": "code",
      "metadata": {
        "colab_type": "code",
        "id": "1Ivprel8_0TN",
        "colab": {}
      },
      "source": [
        "model_meniscus_coronal.save(\"/content/gdrive/My Drive/VGG_models/model_meniscus_coronal.h5\")"
      ],
      "execution_count": null,
      "outputs": []
    },
    {
      "cell_type": "code",
      "metadata": {
        "colab_type": "code",
        "id": "zxLg7UfTIT4t",
        "colab": {
          "base_uri": "https://localhost:8080/",
          "height": 34
        },
        "outputId": "cf96ec17-4f5b-479d-f8d4-129642d3cc21"
      },
      "source": [
        "model_meniscus_coronal = load_model(\"/content/gdrive/My Drive/VGG_models/model_meniscus_coronal.h5\")\n",
        "print(model_meniscus_coronal)"
      ],
      "execution_count": null,
      "outputs": [
        {
          "output_type": "stream",
          "text": [
            "<keras.engine.training.Model object at 0x7faecbad60b8>\n"
          ],
          "name": "stdout"
        }
      ]
    },
    {
      "cell_type": "code",
      "metadata": {
        "id": "iuTV39UXvRYQ",
        "colab_type": "code",
        "colab": {
          "base_uri": "https://localhost:8080/",
          "height": 85
        },
        "outputId": "a8676fea-00d0-4ddc-a29d-97a9d1e69672"
      },
      "source": [
        "generator = Generator( illness = \"meniscus\", plane = \"coronal\", type1 = \"test\")\n",
        "evaluate_meniscus_coronal = model_meniscus_coronal.evaluate_generator(generator=generator)\n",
        "loss , acc = evaluate_meniscus_coronal\n",
        "print(\"evaluation done\")\n",
        "print('\\nTesting loss: {}, acc: {}\\n'.format(loss, acc))"
      ],
      "execution_count": null,
      "outputs": [
        {
          "output_type": "stream",
          "text": [
            "evaluation done\n",
            "\n",
            "Testing loss: 0.9344514608383179, acc: 0.5666666626930237\n",
            "\n"
          ],
          "name": "stdout"
        }
      ]
    },
    {
      "cell_type": "markdown",
      "metadata": {
        "colab_type": "text",
        "id": "QQklQUhUsDk5"
      },
      "source": [
        "\n",
        "\n",
        "3.   Sagittal\n",
        "\n"
      ]
    },
    {
      "cell_type": "code",
      "metadata": {
        "id": "6r32d_ClFOHG",
        "colab_type": "code",
        "colab": {
          "base_uri": "https://localhost:8080/",
          "height": 1000
        },
        "outputId": "d82c5259-eef1-47e4-eee7-03f8565ee851"
      },
      "source": [
        "model_meniscus_sagittal = build_model()\n",
        "training_generator = Generator( illness = \"meniscus\", plane = \"sagittal\", type1 = \"train\")\n",
        "validation_generator = Generator(illness = \"meniscus\", plane = \"sagittal\", type1 = \"valid\")\n",
        "\n",
        "\n",
        "# Train model on dataset\n",
        "history_meniscus_sagittal = model_meniscus_sagittal.fit_generator(generator=training_generator,\n",
        "                    validation_data=validation_generator,\n",
        "                    use_multiprocessing=True,\n",
        "                    workers=6, epochs = 5 )"
      ],
      "execution_count": null,
      "outputs": [
        {
          "output_type": "stream",
          "text": [
            "/usr/local/lib/python3.6/dist-packages/ipykernel_launcher.py:18: UserWarning: Update your `Model` call to the Keras 2 API: `Model(inputs=Tensor(\"in..., outputs=Tensor(\"gl...)`\n"
          ],
          "name": "stderr"
        },
        {
          "output_type": "stream",
          "text": [
            "Model: \"model_6\"\n",
            "_________________________________________________________________\n",
            "Layer (type)                 Output Shape              Param #   \n",
            "=================================================================\n",
            "input_5 (InputLayer)         (None, None, 256, 256, 3) 0         \n",
            "_________________________________________________________________\n",
            "time_distributed_39 (TimeDis (None, None, 256, 256, 64 1792      \n",
            "_________________________________________________________________\n",
            "time_distributed_40 (TimeDis (None, None, 256, 256, 64 36928     \n",
            "_________________________________________________________________\n",
            "time_distributed_41 (TimeDis (None, None, 128, 128, 64 0         \n",
            "_________________________________________________________________\n",
            "time_distributed_42 (TimeDis (None, None, 128, 128, 12 73856     \n",
            "_________________________________________________________________\n",
            "time_distributed_43 (TimeDis (None, None, 128, 128, 12 147584    \n",
            "_________________________________________________________________\n",
            "time_distributed_44 (TimeDis (None, None, 64, 64, 128) 0         \n",
            "_________________________________________________________________\n",
            "time_distributed_45 (TimeDis (None, None, 64, 64, 256) 295168    \n",
            "_________________________________________________________________\n",
            "time_distributed_46 (TimeDis (None, None, 64, 64, 256) 590080    \n",
            "_________________________________________________________________\n",
            "time_distributed_47 (TimeDis (None, None, 64, 64, 256) 590080    \n",
            "_________________________________________________________________\n",
            "time_distributed_48 (TimeDis (None, None, 32, 32, 256) 0         \n",
            "_________________________________________________________________\n",
            "time_distributed_49 (TimeDis (None, None, 32, 32, 512) 1180160   \n",
            "_________________________________________________________________\n",
            "time_distributed_50 (TimeDis (None, None, 32, 32, 512) 2359808   \n",
            "_________________________________________________________________\n",
            "time_distributed_51 (TimeDis (None, None, 32, 32, 512) 2359808   \n",
            "_________________________________________________________________\n",
            "time_distributed_52 (TimeDis (None, None, 16, 16, 512) 0         \n",
            "_________________________________________________________________\n",
            "time_distributed_53 (TimeDis (None, None, 16, 16, 512) 2359808   \n",
            "_________________________________________________________________\n",
            "time_distributed_54 (TimeDis (None, None, 16, 16, 512) 2359808   \n",
            "_________________________________________________________________\n",
            "time_distributed_55 (TimeDis (None, None, 16, 16, 512) 2359808   \n",
            "_________________________________________________________________\n",
            "time_distributed_56 (TimeDis (None, None, 8, 8, 512)   0         \n",
            "_________________________________________________________________\n",
            "time_distributed_57 (TimeDis (None, None, 512)         0         \n",
            "_________________________________________________________________\n",
            "model_5 (Model)              (None, 512)               0         \n",
            "_________________________________________________________________\n",
            "dense_3 (Dense)              (None, 1)                 513       \n",
            "=================================================================\n",
            "Total params: 14,715,201\n",
            "Trainable params: 14,715,201\n",
            "Non-trainable params: 0\n",
            "_________________________________________________________________\n",
            "Epoch 1/5\n",
            "1017/1017 [==============================] - 358s 352ms/step - loss: 10.8877 - accuracy: 0.6401 - val_loss: 0.4309 - val_accuracy: 0.6637\n",
            "Epoch 2/5\n",
            "1017/1017 [==============================] - 339s 333ms/step - loss: 0.6526 - accuracy: 0.6470 - val_loss: 0.3811 - val_accuracy: 0.6637\n",
            "Epoch 3/5\n",
            "1016/1017 [============================>.] - ETA: 0s - loss: 0.6519 - accuracy: 0.6467Epoch 3/5\n",
            "1017/1017 [==============================] - 339s 333ms/step - loss: 0.6517 - accuracy: 0.6470 - val_loss: 0.4801 - val_accuracy: 0.6637\n",
            "Epoch 4/5\n",
            "1017/1017 [==============================] - 339s 333ms/step - loss: 0.6520 - accuracy: 0.6470 - val_loss: 0.4908 - val_accuracy: 0.6637\n",
            "Epoch 5/5\n",
            "1016/1017 [============================>.] - ETA: 0s - loss: 0.6528 - accuracy: 0.6467Epoch 5/5\n",
            "1017/1017 [==============================] - 339s 333ms/step - loss: 0.6526 - accuracy: 0.6470 - val_loss: 0.4602 - val_accuracy: 0.6637\n"
          ],
          "name": "stdout"
        }
      ]
    },
    {
      "cell_type": "code",
      "metadata": {
        "colab_type": "code",
        "id": "F7ENnciQ_1NX",
        "colab": {}
      },
      "source": [
        "model_meniscus_sagittal.save(\"/content/gdrive/My Drive/VGG_models/model_meniscus_sagittal.h5\")"
      ],
      "execution_count": null,
      "outputs": []
    },
    {
      "cell_type": "code",
      "metadata": {
        "colab_type": "code",
        "id": "FcWNoVPUIT4x",
        "colab": {
          "base_uri": "https://localhost:8080/",
          "height": 34
        },
        "outputId": "68a9df71-9325-45ba-cfff-3d1c693a6646"
      },
      "source": [
        "model_meniscus_sagittal = load_model(\"/content/gdrive/My Drive/VGG_models/model_meniscus_sagittal.h5\")\n",
        "print(model_meniscus_sagittal)"
      ],
      "execution_count": null,
      "outputs": [
        {
          "output_type": "stream",
          "text": [
            "<keras.engine.training.Model object at 0x7faecb63a780>\n"
          ],
          "name": "stdout"
        }
      ]
    },
    {
      "cell_type": "code",
      "metadata": {
        "id": "Gmn3AMmnvYBg",
        "colab_type": "code",
        "colab": {
          "base_uri": "https://localhost:8080/",
          "height": 85
        },
        "outputId": "165af3cf-48d8-4932-e1b2-f3370460312e"
      },
      "source": [
        "generator = Generator( illness = \"meniscus\", plane = \"sagittal\", type1 = \"test\")\n",
        "evaluate_meniscus_sagittal = model_meniscus_sagittal.evaluate_generator(generator=generator)\n",
        "loss , acc = evaluate_meniscus_sagittal\n",
        "print(\"evaluation done\")\n",
        "print('\\nTesting loss: {}, acc: {}\\n'.format(loss, acc))"
      ],
      "execution_count": null,
      "outputs": [
        {
          "output_type": "stream",
          "text": [
            "evaluation done\n",
            "\n",
            "Testing loss: 0.9974617958068848, acc: 0.5666666626930237\n",
            "\n"
          ],
          "name": "stdout"
        }
      ]
    },
    {
      "cell_type": "markdown",
      "metadata": {
        "id": "L3GzwZMayVLq",
        "colab_type": "text"
      },
      "source": [
        "# Logistic Regression Model"
      ]
    },
    {
      "cell_type": "code",
      "metadata": {
        "id": "XzTqL0EdyUqG",
        "colab_type": "code",
        "colab": {
          "base_uri": "https://localhost:8080/",
          "height": 272
        },
        "outputId": "24678afb-9baa-405d-ee77-60af300492e0"
      },
      "source": [
        "from keras.models import Sequential\n",
        "from keras.layers import Dense, Activation\n",
        "def logistic_regression():\n",
        "\n",
        "  model = Sequential([\n",
        "      Dense(1, input_dim=(3)),\n",
        "      Activation('sigmoid'),\n",
        "  ])\n",
        "  model.add(Dropout(1))\n",
        "  model.summary()\n",
        "  model.compile(loss = \"binary_crossentropy\", optimizer = \"adam\",metrics=['accuracy'])\n",
        "  return model\n",
        "logistic_regression()"
      ],
      "execution_count": null,
      "outputs": [
        {
          "output_type": "stream",
          "text": [
            "Model: \"sequential_8\"\n",
            "_________________________________________________________________\n",
            "Layer (type)                 Output Shape              Param #   \n",
            "=================================================================\n",
            "dense_8 (Dense)              (None, 1)                 4         \n",
            "_________________________________________________________________\n",
            "activation_8 (Activation)    (None, 1)                 0         \n",
            "_________________________________________________________________\n",
            "dropout_9 (Dropout)          (None, 1)                 0         \n",
            "=================================================================\n",
            "Total params: 4\n",
            "Trainable params: 4\n",
            "Non-trainable params: 0\n",
            "_________________________________________________________________\n"
          ],
          "name": "stdout"
        },
        {
          "output_type": "execute_result",
          "data": {
            "text/plain": [
              "<keras.engine.sequential.Sequential at 0x7faeca95dba8>"
            ]
          },
          "metadata": {
            "tags": []
          },
          "execution_count": 55
        }
      ]
    },
    {
      "cell_type": "markdown",
      "metadata": {
        "id": "_8RtqsamQmz3",
        "colab_type": "text"
      },
      "source": [
        "# Get labels"
      ]
    },
    {
      "cell_type": "code",
      "metadata": {
        "id": "Pi8oKl2BtvVg",
        "colab_type": "code",
        "colab": {}
      },
      "source": [
        "def load_labels(type3, type2):\n",
        "  data_path = '/content/gdrive/My Drive/DataSet/MRNET data set/MRNet-v1.0/'\n",
        "  if(type3 == \"valid\"):\n",
        "    type1 = \"train\"\n",
        "  if(type3 == \"train\"):\n",
        "    type1 = \"train\"\n",
        "  if(type3 == \"test\"):\n",
        "    type1 = \"valid\"\n",
        "  csv_path = data_path + type1+\"-\"+type2+\".csv\"\n",
        "  labels = pd.read_csv(\n",
        "              csv_path,header = None, names=['id', 'label'])\n",
        "  if(type3 == \"train\"):\n",
        "    labels =labels['label'].tolist()[0:1017]\n",
        "  if(type3 == \"valid\"):\n",
        "    labels =labels['label'].tolist()[1017:1130]\n",
        "  if(type3 == \"test\"):\n",
        "    labels =labels['label'].tolist()\n",
        "  return labels"
      ],
      "execution_count": null,
      "outputs": []
    },
    {
      "cell_type": "code",
      "metadata": {
        "id": "BWsrToyFVcPj",
        "colab_type": "code",
        "colab": {}
      },
      "source": [
        "abnormalTestLabels = load_labels('test','abnormal')\n",
        "aclTestLabels = load_labels('test','acl')\n",
        "meniscusTestLabels = load_labels('test','meniscus')\n",
        "\n",
        "abnormalTrainLabels = load_labels('train','abnormal')\n",
        "aclTrainLabels = load_labels('train','acl')\n",
        "meniscusTrainLabels = load_labels('train','meniscus')\n",
        "\n",
        "abnormalValidLabels = load_labels('valid','abnormal')\n",
        "aclValidLabels = load_labels('valid','acl')\n",
        "meniscusValidLabels = load_labels('valid','meniscus')\n"
      ],
      "execution_count": null,
      "outputs": []
    },
    {
      "cell_type": "markdown",
      "metadata": {
        "id": "5ALow1ka0QIp",
        "colab_type": "text"
      },
      "source": [
        "# Load Models and get its predictions"
      ]
    },
    {
      "cell_type": "markdown",
      "metadata": {
        "id": "xCiFKVAl11Ku",
        "colab_type": "text"
      },
      "source": [
        "Load the models and get thier prediction"
      ]
    },
    {
      "cell_type": "code",
      "metadata": {
        "colab_type": "code",
        "id": "c6YBDMi5L3RY",
        "colab": {
          "base_uri": "https://localhost:8080/",
          "height": 35
        },
        "outputId": "d1438484-48b7-4991-9879-eedf51b1f30e"
      },
      "source": [
        "model_abnormal_axial = load_model(\"/content/gdrive/My Drive/VGG_models/model_abnormal_axial.h5\")\n",
        "print(model_abnormal_axial)"
      ],
      "execution_count": null,
      "outputs": [
        {
          "output_type": "stream",
          "text": [
            "<keras.engine.training.Model object at 0x7fb1f7482080>\n"
          ],
          "name": "stdout"
        }
      ]
    },
    {
      "cell_type": "code",
      "metadata": {
        "id": "cLDXa96mHqIw",
        "colab_type": "code",
        "colab": {
          "base_uri": "https://localhost:8080/",
          "height": 35
        },
        "outputId": "f54db257-d4e0-41f1-edd6-9e7201eee497"
      },
      "source": [
        "generator = Generator( illness = \"abnormal\", plane = \"axial\", type1 = \"test\")\n",
        "predict_abnormal_axial_test = model_abnormal_axial.predict_generator(generator)\n",
        "\n",
        "generator = Generator( illness = \"abnormal\", plane = \"axial\", type1 = \"train\")\n",
        "predict_abnormal_axial_train = model_abnormal_axial.predict_generator(generator)\n",
        "\n",
        "generator = Generator( illness = \"abnormal\", plane = \"axial\", type1 = \"valid\")\n",
        "predict_abnormal_axial_valid = model_abnormal_axial.predict_generator(generator)\n",
        "\n",
        "print(\"prediction done\")"
      ],
      "execution_count": null,
      "outputs": [
        {
          "output_type": "stream",
          "text": [
            "prediction done\n"
          ],
          "name": "stdout"
        }
      ]
    },
    {
      "cell_type": "code",
      "metadata": {
        "colab_type": "code",
        "id": "xOfkmtkJLtAl",
        "colab": {
          "base_uri": "https://localhost:8080/",
          "height": 35
        },
        "outputId": "ecfb485d-8171-4466-f664-8b09de121b8e"
      },
      "source": [
        "model_abnormal_coronal = load_model(\"/content/gdrive/My Drive/VGG_models/model_abnormal_coronal.h5\")\n",
        "print(model_abnormal_coronal)"
      ],
      "execution_count": null,
      "outputs": [
        {
          "output_type": "stream",
          "text": [
            "<keras.engine.training.Model object at 0x7fb1f6e68710>\n"
          ],
          "name": "stdout"
        }
      ]
    },
    {
      "cell_type": "code",
      "metadata": {
        "id": "0Vq-qCqiL99L",
        "colab_type": "code",
        "colab": {
          "base_uri": "https://localhost:8080/",
          "height": 35
        },
        "outputId": "c98cabc0-d19f-4ad2-e2bb-c706211378a8"
      },
      "source": [
        "generator = Generator( illness = \"abnormal\", plane = \"coronal\", type1 = \"test\")\n",
        "predict_abnormal_coronal_test = model_abnormal_coronal.predict_generator(generator=generator)\n",
        "\n",
        "generator = Generator( illness = \"abnormal\", plane = \"coronal\", type1 = \"train\")\n",
        "predict_abnormal_coronal_train = model_abnormal_coronal.predict_generator(generator=generator)\n",
        "\n",
        "generator = Generator( illness = \"abnormal\", plane = \"coronal\", type1 = \"valid\")\n",
        "predict_abnormal_coronal_valid = model_abnormal_coronal.predict_generator(generator=generator)\n",
        "\n",
        "print(\"--> prediction done\")"
      ],
      "execution_count": null,
      "outputs": [
        {
          "output_type": "stream",
          "text": [
            "--> prediction done\n"
          ],
          "name": "stdout"
        }
      ]
    },
    {
      "cell_type": "code",
      "metadata": {
        "colab_type": "code",
        "id": "IHTvVuXPLmpQ",
        "colab": {
          "base_uri": "https://localhost:8080/",
          "height": 35
        },
        "outputId": "46e3a37e-9237-4333-e024-54a4b976339d"
      },
      "source": [
        "model_abnormal_sagittal = load_model(\"/content/gdrive/My Drive/VGG_models/model_abnormal_sagittal.h5\")\n",
        "print(model_abnormal_sagittal)"
      ],
      "execution_count": null,
      "outputs": [
        {
          "output_type": "stream",
          "text": [
            "<keras.engine.training.Model object at 0x7fb1e7d4ba90>\n"
          ],
          "name": "stdout"
        }
      ]
    },
    {
      "cell_type": "code",
      "metadata": {
        "id": "cKXZFuHqMbdM",
        "colab_type": "code",
        "colab": {
          "base_uri": "https://localhost:8080/",
          "height": 35
        },
        "outputId": "0d5f1060-b8a0-4ae4-eb11-96426f1f1760"
      },
      "source": [
        "generator = Generator( illness = \"abnormal\", plane = \"sagittal\", type1 = \"test\")\n",
        "predict_abnormal_sagittal_test = model_abnormal_sagittal.predict_generator(generator=generator)\n",
        "\n",
        "generator = Generator( illness = \"abnormal\", plane = \"sagittal\", type1 = \"train\")\n",
        "predict_abnormal_sagittal_train = model_abnormal_sagittal.predict_generator(generator=generator)\n",
        "\n",
        "generator = Generator( illness = \"abnormal\", plane = \"sagittal\", type1 = \"valid\")\n",
        "predict_abnormal_sagittal_valid = model_abnormal_sagittal.predict_generator(generator=generator)\n",
        "\n",
        "print(\"--> prediction done\")"
      ],
      "execution_count": null,
      "outputs": [
        {
          "output_type": "stream",
          "text": [
            "--> prediction done\n"
          ],
          "name": "stdout"
        }
      ]
    },
    {
      "cell_type": "code",
      "metadata": {
        "colab_type": "code",
        "id": "3wAT1fPvLfhW",
        "colab": {
          "base_uri": "https://localhost:8080/",
          "height": 35
        },
        "outputId": "fbbb62ac-95a5-4cef-ad45-648d658614b5"
      },
      "source": [
        "model_acl_axial = load_model(\"/content/gdrive/My Drive/VGG_models/model_acl_axial.h5\")\n",
        "print(model_acl_axial)"
      ],
      "execution_count": null,
      "outputs": [
        {
          "output_type": "stream",
          "text": [
            "<keras.engine.training.Model object at 0x7fb1e7d45b00>\n"
          ],
          "name": "stdout"
        }
      ]
    },
    {
      "cell_type": "code",
      "metadata": {
        "id": "aDK05G-QPLuo",
        "colab_type": "code",
        "colab": {
          "base_uri": "https://localhost:8080/",
          "height": 35
        },
        "outputId": "813aa8f3-75a6-48c4-de4b-68ac73267234"
      },
      "source": [
        "generator = Generator( illness = \"acl\", plane = \"axial\", type1 = \"test\")\n",
        "predict_acl_axial_test = model_acl_axial.predict_generator(generator=generator)\n",
        "\n",
        "generator = Generator( illness = \"acl\", plane = \"axial\", type1 = \"train\")\n",
        "predict_acl_axial_train = model_acl_axial.predict_generator(generator=generator)\n",
        "\n",
        "generator = Generator( illness = \"acl\", plane = \"axial\", type1 = \"valid\")\n",
        "predict_acl_axial_valid = model_acl_axial.predict_generator(generator=generator)\n",
        "\n",
        "print(\"--> prediction done\")"
      ],
      "execution_count": null,
      "outputs": [
        {
          "output_type": "stream",
          "text": [
            "--> prediction done\n"
          ],
          "name": "stdout"
        }
      ]
    },
    {
      "cell_type": "code",
      "metadata": {
        "colab_type": "code",
        "id": "5dG0vCThLX_m",
        "colab": {
          "base_uri": "https://localhost:8080/",
          "height": 35
        },
        "outputId": "94e57238-3702-4ebf-d863-581df988b7e3"
      },
      "source": [
        "model_acl_coronal = load_model(\"/content/gdrive/My Drive/VGG_models/model_acl_coronal.h5\")\n",
        "print(model_acl_coronal)"
      ],
      "execution_count": null,
      "outputs": [
        {
          "output_type": "stream",
          "text": [
            "<keras.engine.training.Model object at 0x7fb1e6769908>\n"
          ],
          "name": "stdout"
        }
      ]
    },
    {
      "cell_type": "code",
      "metadata": {
        "id": "73ZNdrJmPSif",
        "colab_type": "code",
        "colab": {
          "base_uri": "https://localhost:8080/",
          "height": 35
        },
        "outputId": "0958c564-98ed-4479-9fd0-7c7937a4879b"
      },
      "source": [
        "generator = Generator( illness = \"acl\", plane = \"coronal\", type1 = \"test\")\n",
        "predict_acl_coronal_test = model_acl_coronal.predict_generator(generator=generator)\n",
        "\n",
        "generator = Generator( illness = \"acl\", plane = \"coronal\", type1 = \"train\")\n",
        "predict_acl_coronal_train = model_acl_coronal.predict_generator(generator=generator)\n",
        "\n",
        "generator = Generator( illness = \"acl\", plane = \"coronal\", type1 = \"valid\")\n",
        "predict_acl_coronal_valid = model_acl_coronal.predict_generator(generator=generator)\n",
        "\n",
        "print(\"--> prediction done\")"
      ],
      "execution_count": null,
      "outputs": [
        {
          "output_type": "stream",
          "text": [
            "--> prediction done\n"
          ],
          "name": "stdout"
        }
      ]
    },
    {
      "cell_type": "code",
      "metadata": {
        "id": "dM8cMRt1zpry",
        "colab_type": "code",
        "colab": {
          "base_uri": "https://localhost:8080/",
          "height": 35
        },
        "outputId": "b8004a08-998f-48b9-dbcc-23b8cb144e08"
      },
      "source": [
        "model_acl_sagittal = load_model(\"/content/gdrive/My Drive/VGG_models/model_acl_sagittal.h5\")\n",
        "print(model_acl_sagittal)"
      ],
      "execution_count": null,
      "outputs": [
        {
          "output_type": "stream",
          "text": [
            "<keras.engine.training.Model object at 0x7fb1e60f7978>\n"
          ],
          "name": "stdout"
        }
      ]
    },
    {
      "cell_type": "code",
      "metadata": {
        "id": "zXeVD2gPPXQ6",
        "colab_type": "code",
        "colab": {
          "base_uri": "https://localhost:8080/",
          "height": 35
        },
        "outputId": "72cc478f-5577-4e0a-bcc3-541b34ba9c8d"
      },
      "source": [
        "generator = Generator( illness = \"acl\", plane = \"sagittal\", type1 = \"test\")\n",
        "predict_acl_sagittal_test = model_acl_sagittal.predict_generator(generator=generator)\n",
        "\n",
        "generator = Generator( illness = \"acl\", plane = \"sagittal\", type1 = \"train\")\n",
        "predict_acl_sagittal_train = model_acl_sagittal.predict_generator(generator=generator)\n",
        "\n",
        "generator = Generator( illness = \"acl\", plane = \"sagittal\", type1 = \"valid\")\n",
        "predict_acl_sagittal_valid = model_acl_sagittal.predict_generator(generator=generator)\n",
        "\n",
        "print(\"--> prediction done\")"
      ],
      "execution_count": null,
      "outputs": [
        {
          "output_type": "stream",
          "text": [
            "--> prediction done\n"
          ],
          "name": "stdout"
        }
      ]
    },
    {
      "cell_type": "code",
      "metadata": {
        "colab_type": "code",
        "id": "BMbVjqNGLL3c",
        "colab": {
          "base_uri": "https://localhost:8080/",
          "height": 35
        },
        "outputId": "6109c7bf-e64e-485c-e092-d5b52e40d5ca"
      },
      "source": [
        "model_meniscus_axial = load_model(\"/content/gdrive/My Drive/VGG_models/model_meniscus_axial.h5\")\n",
        "print(model_meniscus_axial)"
      ],
      "execution_count": null,
      "outputs": [
        {
          "output_type": "stream",
          "text": [
            "<keras.engine.training.Model object at 0x7fb1e5bb2748>\n"
          ],
          "name": "stdout"
        }
      ]
    },
    {
      "cell_type": "code",
      "metadata": {
        "id": "N21YdxNRPZni",
        "colab_type": "code",
        "colab": {
          "base_uri": "https://localhost:8080/",
          "height": 35
        },
        "outputId": "e0077128-6aa7-460c-8c30-8f98bb0fea6a"
      },
      "source": [
        "generator = Generator( illness = \"meniscus\", plane = \"axial\", type1 = \"test\")\n",
        "predict_meniscus_axial_test = model_meniscus_axial.predict_generator(generator=generator)\n",
        "\n",
        "generator = Generator( illness = \"meniscus\", plane = \"axial\", type1 = \"train\")\n",
        "predict_meniscus_axial_train = model_meniscus_axial.predict_generator(generator=generator)\n",
        "\n",
        "generator = Generator( illness = \"meniscus\", plane = \"axial\", type1 = \"valid\")\n",
        "predict_meniscus_axial_valid = model_meniscus_axial.predict_generator(generator=generator)\n",
        "\n",
        "print(\"--> prediction done\")"
      ],
      "execution_count": null,
      "outputs": [
        {
          "output_type": "stream",
          "text": [
            "--> prediction done\n"
          ],
          "name": "stdout"
        }
      ]
    },
    {
      "cell_type": "code",
      "metadata": {
        "colab_type": "code",
        "id": "kbvXOrVCLAtp",
        "colab": {
          "base_uri": "https://localhost:8080/",
          "height": 35
        },
        "outputId": "eed950dd-131c-4033-ab0e-b1563dea0f47"
      },
      "source": [
        "model_meniscus_coronal = load_model(\"/content/gdrive/My Drive/VGG_models/model_meniscus_coronal.h5\")\n",
        "print(model_meniscus_coronal)"
      ],
      "execution_count": null,
      "outputs": [
        {
          "output_type": "stream",
          "text": [
            "<keras.engine.training.Model object at 0x7fb1e5754f98>\n"
          ],
          "name": "stdout"
        }
      ]
    },
    {
      "cell_type": "code",
      "metadata": {
        "id": "FzVmsbYDPfbK",
        "colab_type": "code",
        "colab": {
          "base_uri": "https://localhost:8080/",
          "height": 35
        },
        "outputId": "91d3d0ce-89fa-40da-d9f7-9f9f427fc113"
      },
      "source": [
        "generator = Generator( illness = \"meniscus\", plane = \"coronal\", type1 = \"test\")\n",
        "predict_meniscus_coronal_test = model_meniscus_coronal.predict_generator(generator=generator)\n",
        "\n",
        "generator = Generator( illness = \"meniscus\", plane = \"coronal\", type1 = \"train\")\n",
        "predict_meniscus_coronal_train = model_meniscus_coronal.predict_generator(generator=generator)\n",
        "\n",
        "generator = Generator( illness = \"meniscus\", plane = \"coronal\", type1 = \"valid\")\n",
        "predict_meniscus_coronal_valid = model_meniscus_coronal.predict_generator(generator=generator)\n",
        "\n",
        "print(\"--> prediction done\")"
      ],
      "execution_count": null,
      "outputs": [
        {
          "output_type": "stream",
          "text": [
            "--> prediction done\n"
          ],
          "name": "stdout"
        }
      ]
    },
    {
      "cell_type": "code",
      "metadata": {
        "id": "NMyT0qnbK1kz",
        "colab_type": "code",
        "colab": {
          "base_uri": "https://localhost:8080/",
          "height": 35
        },
        "outputId": "aef1cf7a-4000-4d65-bfd7-59d2948d37d7"
      },
      "source": [
        "model_meniscus_sagittal = load_model(\"/content/gdrive/My Drive/VGG_models/model_meniscus_sagittal.h5\")\n",
        "print(model_meniscus_sagittal)"
      ],
      "execution_count": null,
      "outputs": [
        {
          "output_type": "stream",
          "text": [
            "<keras.engine.training.Model object at 0x7fb1e4f9a438>\n"
          ],
          "name": "stdout"
        }
      ]
    },
    {
      "cell_type": "code",
      "metadata": {
        "id": "cbVLRgqWPkP-",
        "colab_type": "code",
        "colab": {
          "base_uri": "https://localhost:8080/",
          "height": 35
        },
        "outputId": "efa26733-9172-44d8-a69f-8bf163769743"
      },
      "source": [
        "generator = Generator( illness = \"meniscus\", plane = \"sagittal\", type1 = \"test\")\n",
        "predict_meniscus_sagittal_test = model_meniscus_sagittal.predict_generator(generator=generator)\n",
        "\n",
        "generator = Generator( illness = \"meniscus\", plane = \"sagittal\", type1 = \"train\")\n",
        "predict_meniscus_sagittal_train = model_meniscus_sagittal.predict_generator(generator=generator)\n",
        "\n",
        "generator = Generator( illness = \"meniscus\", plane = \"sagittal\", type1 = \"valid\")\n",
        "predict_meniscus_sagittal_valid = model_meniscus_sagittal.predict_generator(generator=generator)\n",
        "\n",
        "print(\"--> prediction done\")"
      ],
      "execution_count": null,
      "outputs": [
        {
          "output_type": "stream",
          "text": [
            "--> prediction done\n"
          ],
          "name": "stdout"
        }
      ]
    },
    {
      "cell_type": "markdown",
      "metadata": {
        "id": "ZhGxRJRE4Ofr",
        "colab_type": "text"
      },
      "source": [
        "# Last Abnormal Model\n",
        "1.   create the model\n",
        "3.   train the model\n",
        "2.   test the models and get thier accuracy and loss"
      ]
    },
    {
      "cell_type": "code",
      "metadata": {
        "id": "NA7ABNkd0OkP",
        "colab_type": "code",
        "colab": {
          "base_uri": "https://localhost:8080/",
          "height": 1000
        },
        "outputId": "9b22842d-24f8-4dc8-f363-4c61c86c0143"
      },
      "source": [
        "Abnormal_model = logistic_regression()\n",
        "\n",
        "abnormal_train_predictions = []\n",
        "\n",
        "abnormal_train_predictions.append(predict_abnormal_axial_train)\n",
        "abnormal_train_predictions.append(predict_abnormal_coronal_train)\n",
        "abnormal_train_predictions.append(predict_abnormal_sagittal_train)\n",
        "\n",
        "abnormal_train_predictions = np.transpose(abnormal_train_predictions)\n",
        "\n",
        "#print(np.array(abnormal_train_predictions)[0].shape)\n",
        "\n",
        "abnormal_valid_predictions = []\n",
        "abnormal_valid_predictions.append(predict_abnormal_axial_valid)\n",
        "abnormal_valid_predictions.append(predict_abnormal_coronal_valid)\n",
        "abnormal_valid_predictions.append(predict_abnormal_sagittal_valid)\n",
        "\n",
        "#print(np.array(abnormalValidLabels).shape)\n",
        "\n",
        "abnormal_valid_predictions = np.transpose(abnormal_valid_predictions)\n",
        "\n",
        "\n",
        "Abnormal_model.fit( np.array(abnormal_train_predictions)[0] , [abnormalTrainLabels],\n",
        "                   validation_data = ( np.array(abnormal_valid_predictions)[0] , np.array(abnormalValidLabels)),\n",
        "                   epochs = 50,use_multiprocessing=True, workers=6)\n",
        "\n",
        "Abnormal_model.save(\"/content/gdrive/My Drive/VGG_models/Abnormal_model.h5\")\n"
      ],
      "execution_count": null,
      "outputs": [
        {
          "output_type": "stream",
          "text": [
            "Train on 1017 samples, validate on 113 samples\n",
            "Epoch 1/50\n",
            "1017/1017 [==============================] - 0s 132us/step - loss: 0.5752 - accuracy: 0.8083 - val_loss: 0.5672 - val_accuracy: 0.8053\n",
            "Epoch 2/50\n",
            "1017/1017 [==============================] - 0s 71us/step - loss: 0.5577 - accuracy: 0.8083 - val_loss: 0.5515 - val_accuracy: 0.8053\n",
            "Epoch 3/50\n",
            "1017/1017 [==============================] - 0s 72us/step - loss: 0.5432 - accuracy: 0.8083 - val_loss: 0.5388 - val_accuracy: 0.8053\n",
            "Epoch 4/50\n",
            "1017/1017 [==============================] - 0s 71us/step - loss: 0.5314 - accuracy: 0.8083 - val_loss: 0.5287 - val_accuracy: 0.8053\n",
            "Epoch 5/50\n",
            "1017/1017 [==============================] - 0s 71us/step - loss: 0.5222 - accuracy: 0.8083 - val_loss: 0.5201 - val_accuracy: 0.8053\n",
            "Epoch 6/50\n",
            "1017/1017 [==============================] - 0s 77us/step - loss: 0.5146 - accuracy: 0.8083 - val_loss: 0.5138 - val_accuracy: 0.8053\n",
            "Epoch 7/50\n",
            "1017/1017 [==============================] - 0s 71us/step - loss: 0.5086 - accuracy: 0.8083 - val_loss: 0.5090 - val_accuracy: 0.8053\n",
            "Epoch 8/50\n",
            "1017/1017 [==============================] - 0s 83us/step - loss: 0.5040 - accuracy: 0.8083 - val_loss: 0.5049 - val_accuracy: 0.8053\n",
            "Epoch 9/50\n",
            "1017/1017 [==============================] - 0s 75us/step - loss: 0.5003 - accuracy: 0.8083 - val_loss: 0.5020 - val_accuracy: 0.8053\n",
            "Epoch 10/50\n",
            "1017/1017 [==============================] - 0s 72us/step - loss: 0.4974 - accuracy: 0.8083 - val_loss: 0.4996 - val_accuracy: 0.8053\n",
            "Epoch 11/50\n",
            "1017/1017 [==============================] - 0s 73us/step - loss: 0.4953 - accuracy: 0.8083 - val_loss: 0.4977 - val_accuracy: 0.8053\n",
            "Epoch 12/50\n",
            "1017/1017 [==============================] - 0s 74us/step - loss: 0.4936 - accuracy: 0.8083 - val_loss: 0.4965 - val_accuracy: 0.8053\n",
            "Epoch 13/50\n",
            "1017/1017 [==============================] - 0s 81us/step - loss: 0.4924 - accuracy: 0.8083 - val_loss: 0.4955 - val_accuracy: 0.8053\n",
            "Epoch 14/50\n",
            "1017/1017 [==============================] - 0s 73us/step - loss: 0.4914 - accuracy: 0.8083 - val_loss: 0.4948 - val_accuracy: 0.8053\n",
            "Epoch 15/50\n",
            "1017/1017 [==============================] - 0s 73us/step - loss: 0.4907 - accuracy: 0.8083 - val_loss: 0.4942 - val_accuracy: 0.8053\n",
            "Epoch 16/50\n",
            "1017/1017 [==============================] - 0s 96us/step - loss: 0.4901 - accuracy: 0.8083 - val_loss: 0.4938 - val_accuracy: 0.8053\n",
            "Epoch 17/50\n",
            "1017/1017 [==============================] - 0s 89us/step - loss: 0.4898 - accuracy: 0.8083 - val_loss: 0.4935 - val_accuracy: 0.8053\n",
            "Epoch 18/50\n",
            "1017/1017 [==============================] - 0s 86us/step - loss: 0.4895 - accuracy: 0.8083 - val_loss: 0.4933 - val_accuracy: 0.8053\n",
            "Epoch 19/50\n",
            "1017/1017 [==============================] - 0s 81us/step - loss: 0.4893 - accuracy: 0.8083 - val_loss: 0.4932 - val_accuracy: 0.8053\n",
            "Epoch 20/50\n",
            "1017/1017 [==============================] - 0s 73us/step - loss: 0.4892 - accuracy: 0.8083 - val_loss: 0.4931 - val_accuracy: 0.8053\n",
            "Epoch 21/50\n",
            "1017/1017 [==============================] - 0s 80us/step - loss: 0.4890 - accuracy: 0.8083 - val_loss: 0.4930 - val_accuracy: 0.8053\n",
            "Epoch 22/50\n",
            "1017/1017 [==============================] - 0s 74us/step - loss: 0.4889 - accuracy: 0.8083 - val_loss: 0.4930 - val_accuracy: 0.8053\n",
            "Epoch 23/50\n",
            "1017/1017 [==============================] - 0s 75us/step - loss: 0.4889 - accuracy: 0.8083 - val_loss: 0.4930 - val_accuracy: 0.8053\n",
            "Epoch 24/50\n",
            "1017/1017 [==============================] - 0s 72us/step - loss: 0.4888 - accuracy: 0.8083 - val_loss: 0.4930 - val_accuracy: 0.8053\n",
            "Epoch 25/50\n",
            "1017/1017 [==============================] - 0s 79us/step - loss: 0.4888 - accuracy: 0.8083 - val_loss: 0.4930 - val_accuracy: 0.8053\n",
            "Epoch 26/50\n",
            "1017/1017 [==============================] - 0s 71us/step - loss: 0.4888 - accuracy: 0.8083 - val_loss: 0.4930 - val_accuracy: 0.8053\n",
            "Epoch 27/50\n",
            "1017/1017 [==============================] - 0s 74us/step - loss: 0.4888 - accuracy: 0.8083 - val_loss: 0.4930 - val_accuracy: 0.8053\n",
            "Epoch 28/50\n",
            "1017/1017 [==============================] - 0s 73us/step - loss: 0.4888 - accuracy: 0.8083 - val_loss: 0.4930 - val_accuracy: 0.8053\n",
            "Epoch 29/50\n",
            "1017/1017 [==============================] - 0s 74us/step - loss: 0.4888 - accuracy: 0.8083 - val_loss: 0.4930 - val_accuracy: 0.8053\n",
            "Epoch 30/50\n",
            "1017/1017 [==============================] - 0s 74us/step - loss: 0.4888 - accuracy: 0.8083 - val_loss: 0.4930 - val_accuracy: 0.8053\n",
            "Epoch 31/50\n",
            "1017/1017 [==============================] - 0s 72us/step - loss: 0.4888 - accuracy: 0.8083 - val_loss: 0.4930 - val_accuracy: 0.8053\n",
            "Epoch 32/50\n",
            "1017/1017 [==============================] - 0s 86us/step - loss: 0.4888 - accuracy: 0.8083 - val_loss: 0.4930 - val_accuracy: 0.8053\n",
            "Epoch 33/50\n",
            "1017/1017 [==============================] - 0s 97us/step - loss: 0.4888 - accuracy: 0.8083 - val_loss: 0.4930 - val_accuracy: 0.8053\n",
            "Epoch 34/50\n",
            "1017/1017 [==============================] - 0s 73us/step - loss: 0.4888 - accuracy: 0.8083 - val_loss: 0.4930 - val_accuracy: 0.8053\n",
            "Epoch 35/50\n",
            "1017/1017 [==============================] - 0s 70us/step - loss: 0.4888 - accuracy: 0.8083 - val_loss: 0.4930 - val_accuracy: 0.8053\n",
            "Epoch 36/50\n",
            "1017/1017 [==============================] - 0s 72us/step - loss: 0.4887 - accuracy: 0.8083 - val_loss: 0.4930 - val_accuracy: 0.8053\n",
            "Epoch 37/50\n",
            "1017/1017 [==============================] - 0s 77us/step - loss: 0.4888 - accuracy: 0.8083 - val_loss: 0.4930 - val_accuracy: 0.8053\n",
            "Epoch 38/50\n",
            "1017/1017 [==============================] - 0s 72us/step - loss: 0.4888 - accuracy: 0.8083 - val_loss: 0.4930 - val_accuracy: 0.8053\n",
            "Epoch 39/50\n",
            "1017/1017 [==============================] - 0s 71us/step - loss: 0.4888 - accuracy: 0.8083 - val_loss: 0.4930 - val_accuracy: 0.8053\n",
            "Epoch 40/50\n",
            "1017/1017 [==============================] - 0s 72us/step - loss: 0.4888 - accuracy: 0.8083 - val_loss: 0.4930 - val_accuracy: 0.8053\n",
            "Epoch 41/50\n",
            "1017/1017 [==============================] - 0s 74us/step - loss: 0.4888 - accuracy: 0.8083 - val_loss: 0.4930 - val_accuracy: 0.8053\n",
            "Epoch 42/50\n",
            "1017/1017 [==============================] - 0s 72us/step - loss: 0.4888 - accuracy: 0.8083 - val_loss: 0.4930 - val_accuracy: 0.8053\n",
            "Epoch 43/50\n",
            "1017/1017 [==============================] - 0s 72us/step - loss: 0.4888 - accuracy: 0.8083 - val_loss: 0.4930 - val_accuracy: 0.8053\n",
            "Epoch 44/50\n",
            "1017/1017 [==============================] - 0s 73us/step - loss: 0.4888 - accuracy: 0.8083 - val_loss: 0.4930 - val_accuracy: 0.8053\n",
            "Epoch 45/50\n",
            "1017/1017 [==============================] - 0s 74us/step - loss: 0.4888 - accuracy: 0.8083 - val_loss: 0.4930 - val_accuracy: 0.8053\n",
            "Epoch 46/50\n",
            "1017/1017 [==============================] - 0s 72us/step - loss: 0.4888 - accuracy: 0.8083 - val_loss: 0.4930 - val_accuracy: 0.8053\n",
            "Epoch 47/50\n",
            "1017/1017 [==============================] - 0s 90us/step - loss: 0.4888 - accuracy: 0.8083 - val_loss: 0.4930 - val_accuracy: 0.8053\n",
            "Epoch 48/50\n",
            "1017/1017 [==============================] - 0s 85us/step - loss: 0.4888 - accuracy: 0.8083 - val_loss: 0.4930 - val_accuracy: 0.8053\n",
            "Epoch 49/50\n",
            "1017/1017 [==============================] - 0s 73us/step - loss: 0.4888 - accuracy: 0.8083 - val_loss: 0.4930 - val_accuracy: 0.8053\n",
            "Epoch 50/50\n",
            "1017/1017 [==============================] - 0s 80us/step - loss: 0.4888 - accuracy: 0.8083 - val_loss: 0.4930 - val_accuracy: 0.8053\n"
          ],
          "name": "stdout"
        }
      ]
    },
    {
      "cell_type": "code",
      "metadata": {
        "id": "Txagh3m8D1jE",
        "colab_type": "code",
        "colab": {
          "base_uri": "https://localhost:8080/",
          "height": 106
        },
        "outputId": "9f291199-6276-42c2-a7e5-92d9e917d55b"
      },
      "source": [
        "abnormal_test_predictions = []\n",
        "abnormal_test_predictions.append(predict_abnormal_axial_test)\n",
        "abnormal_test_predictions.append(predict_abnormal_coronal_test)\n",
        "abnormal_test_predictions.append(predict_abnormal_sagittal_test)\n",
        "\n",
        "abnormal_test_predictions = np.transpose(abnormal_test_predictions)\n",
        "\n",
        "\n",
        "loss1 , acc1 = Abnormal_model.evaluate(abnormal_test_predictions[0] , [abnormalTestLabels])\n",
        "print(\"evaluation done\")\n",
        "print('\\nTesting loss: {}, acc: {}\\n'.format(loss1, acc1))"
      ],
      "execution_count": null,
      "outputs": [
        {
          "output_type": "stream",
          "text": [
            "120/120 [==============================] - 0s 113us/step\n",
            "evaluation done\n",
            "\n",
            "Testing loss: 0.5120767186085383, acc: 0.7916666865348816\n",
            "\n"
          ],
          "name": "stdout"
        }
      ]
    },
    {
      "cell_type": "markdown",
      "metadata": {
        "colab_type": "text",
        "id": "KMmck108aHEF"
      },
      "source": [
        "# Last ACL Model\n",
        "1.   create the model\n",
        "3.   train the model\n",
        "2.   test the models and get thier accuracy and loss"
      ]
    },
    {
      "cell_type": "code",
      "metadata": {
        "colab_type": "code",
        "id": "A5iilL3HBz8W",
        "colab": {
          "base_uri": "https://localhost:8080/",
          "height": 1000
        },
        "outputId": "4843b6a1-e82b-4c9e-bc31-f476051a7bde"
      },
      "source": [
        "ACL_model = logistic_regression()\n",
        "\n",
        "acl_train_predictions = []\n",
        "acl_train_predictions.append(predict_acl_axial_train)\n",
        "acl_train_predictions.append(predict_acl_coronal_train)\n",
        "acl_train_predictions.append(predict_acl_sagittal_train)\n",
        "\n",
        "acl_train_predictions = np.transpose(acl_train_predictions)\n",
        "\n",
        "acl_valid_predictions = []\n",
        "acl_valid_predictions.append(predict_acl_axial_valid)\n",
        "acl_valid_predictions.append(predict_acl_coronal_valid)\n",
        "acl_valid_predictions.append(predict_acl_sagittal_valid)\n",
        "\n",
        "acl_valid_predictions = np.transpose(acl_valid_predictions)\n",
        "\n",
        "ACL_model.fit(np.array(abnormal_train_predictions)[0] , [aclTrainLabels],\n",
        "                   validation_data = (np.array(acl_valid_predictions)[0], [aclValidLabels]),\n",
        "                   epochs = 50,use_multiprocessing=True, workers=6)\n",
        "\n",
        "ACL_model.save(\"/content/gdrive/My Drive/VGG_models/ACL_model.h5\")"
      ],
      "execution_count": null,
      "outputs": [
        {
          "output_type": "stream",
          "text": [
            "Train on 1017 samples, validate on 113 samples\n",
            "Epoch 1/50\n",
            "1017/1017 [==============================] - 0s 184us/step - loss: 0.5041 - accuracy: 0.8122 - val_loss: 0.6031 - val_accuracy: 0.8496\n",
            "Epoch 2/50\n",
            "1017/1017 [==============================] - 0s 85us/step - loss: 0.4973 - accuracy: 0.8122 - val_loss: 0.5934 - val_accuracy: 0.8496\n",
            "Epoch 3/50\n",
            "1017/1017 [==============================] - 0s 87us/step - loss: 0.4928 - accuracy: 0.8122 - val_loss: 0.5848 - val_accuracy: 0.8496\n",
            "Epoch 4/50\n",
            "1017/1017 [==============================] - 0s 86us/step - loss: 0.4896 - accuracy: 0.8122 - val_loss: 0.5781 - val_accuracy: 0.8496\n",
            "Epoch 5/50\n",
            "1017/1017 [==============================] - 0s 86us/step - loss: 0.4874 - accuracy: 0.8122 - val_loss: 0.5728 - val_accuracy: 0.8496\n",
            "Epoch 6/50\n",
            "1017/1017 [==============================] - 0s 81us/step - loss: 0.4859 - accuracy: 0.8122 - val_loss: 0.5688 - val_accuracy: 0.8496\n",
            "Epoch 7/50\n",
            "1017/1017 [==============================] - 0s 71us/step - loss: 0.4849 - accuracy: 0.8122 - val_loss: 0.5647 - val_accuracy: 0.8496\n",
            "Epoch 8/50\n",
            "1017/1017 [==============================] - 0s 69us/step - loss: 0.4843 - accuracy: 0.8122 - val_loss: 0.5618 - val_accuracy: 0.8496\n",
            "Epoch 9/50\n",
            "1017/1017 [==============================] - 0s 72us/step - loss: 0.4839 - accuracy: 0.8122 - val_loss: 0.5591 - val_accuracy: 0.8496\n",
            "Epoch 10/50\n",
            "1017/1017 [==============================] - 0s 71us/step - loss: 0.4836 - accuracy: 0.8122 - val_loss: 0.5570 - val_accuracy: 0.8496\n",
            "Epoch 11/50\n",
            "1017/1017 [==============================] - 0s 73us/step - loss: 0.4834 - accuracy: 0.8122 - val_loss: 0.5558 - val_accuracy: 0.8496\n",
            "Epoch 12/50\n",
            "1017/1017 [==============================] - 0s 71us/step - loss: 0.4833 - accuracy: 0.8122 - val_loss: 0.5544 - val_accuracy: 0.8496\n",
            "Epoch 13/50\n",
            "1017/1017 [==============================] - 0s 90us/step - loss: 0.4833 - accuracy: 0.8122 - val_loss: 0.5525 - val_accuracy: 0.8496\n",
            "Epoch 14/50\n",
            "1017/1017 [==============================] - 0s 71us/step - loss: 0.4831 - accuracy: 0.8122 - val_loss: 0.5528 - val_accuracy: 0.8496\n",
            "Epoch 15/50\n",
            "1017/1017 [==============================] - 0s 71us/step - loss: 0.4832 - accuracy: 0.8122 - val_loss: 0.5520 - val_accuracy: 0.8496\n",
            "Epoch 16/50\n",
            "1017/1017 [==============================] - 0s 75us/step - loss: 0.4831 - accuracy: 0.8122 - val_loss: 0.5520 - val_accuracy: 0.8496\n",
            "Epoch 17/50\n",
            "1017/1017 [==============================] - 0s 79us/step - loss: 0.4831 - accuracy: 0.8122 - val_loss: 0.5512 - val_accuracy: 0.8496\n",
            "Epoch 18/50\n",
            "1017/1017 [==============================] - 0s 78us/step - loss: 0.4831 - accuracy: 0.8122 - val_loss: 0.5503 - val_accuracy: 0.8496\n",
            "Epoch 19/50\n",
            "1017/1017 [==============================] - 0s 79us/step - loss: 0.4832 - accuracy: 0.8122 - val_loss: 0.5501 - val_accuracy: 0.8496\n",
            "Epoch 20/50\n",
            "1017/1017 [==============================] - 0s 70us/step - loss: 0.4832 - accuracy: 0.8122 - val_loss: 0.5494 - val_accuracy: 0.8496\n",
            "Epoch 21/50\n",
            "1017/1017 [==============================] - 0s 71us/step - loss: 0.4831 - accuracy: 0.8122 - val_loss: 0.5495 - val_accuracy: 0.8496\n",
            "Epoch 22/50\n",
            "1017/1017 [==============================] - 0s 70us/step - loss: 0.4830 - accuracy: 0.8122 - val_loss: 0.5498 - val_accuracy: 0.8496\n",
            "Epoch 23/50\n",
            "1017/1017 [==============================] - 0s 72us/step - loss: 0.4831 - accuracy: 0.8122 - val_loss: 0.5503 - val_accuracy: 0.8496\n",
            "Epoch 24/50\n",
            "1017/1017 [==============================] - 0s 69us/step - loss: 0.4831 - accuracy: 0.8122 - val_loss: 0.5494 - val_accuracy: 0.8496\n",
            "Epoch 25/50\n",
            "1017/1017 [==============================] - 0s 70us/step - loss: 0.4831 - accuracy: 0.8122 - val_loss: 0.5501 - val_accuracy: 0.8496\n",
            "Epoch 26/50\n",
            "1017/1017 [==============================] - 0s 88us/step - loss: 0.4831 - accuracy: 0.8122 - val_loss: 0.5489 - val_accuracy: 0.8496\n",
            "Epoch 27/50\n",
            "1017/1017 [==============================] - 0s 71us/step - loss: 0.4831 - accuracy: 0.8122 - val_loss: 0.5500 - val_accuracy: 0.8496\n",
            "Epoch 28/50\n",
            "1017/1017 [==============================] - 0s 71us/step - loss: 0.4831 - accuracy: 0.8122 - val_loss: 0.5495 - val_accuracy: 0.8496\n",
            "Epoch 29/50\n",
            "1017/1017 [==============================] - 0s 72us/step - loss: 0.4831 - accuracy: 0.8122 - val_loss: 0.5492 - val_accuracy: 0.8496\n",
            "Epoch 30/50\n",
            "1017/1017 [==============================] - 0s 70us/step - loss: 0.4831 - accuracy: 0.8122 - val_loss: 0.5491 - val_accuracy: 0.8496\n",
            "Epoch 31/50\n",
            "1017/1017 [==============================] - 0s 72us/step - loss: 0.4831 - accuracy: 0.8122 - val_loss: 0.5491 - val_accuracy: 0.8496\n",
            "Epoch 32/50\n",
            "1017/1017 [==============================] - 0s 71us/step - loss: 0.4830 - accuracy: 0.8122 - val_loss: 0.5489 - val_accuracy: 0.8496\n",
            "Epoch 33/50\n",
            "1017/1017 [==============================] - 0s 71us/step - loss: 0.4831 - accuracy: 0.8122 - val_loss: 0.5496 - val_accuracy: 0.8496\n",
            "Epoch 34/50\n",
            "1017/1017 [==============================] - 0s 70us/step - loss: 0.4831 - accuracy: 0.8122 - val_loss: 0.5496 - val_accuracy: 0.8496\n",
            "Epoch 35/50\n",
            "1017/1017 [==============================] - 0s 70us/step - loss: 0.4831 - accuracy: 0.8122 - val_loss: 0.5496 - val_accuracy: 0.8496\n",
            "Epoch 36/50\n",
            "1017/1017 [==============================] - 0s 69us/step - loss: 0.4830 - accuracy: 0.8122 - val_loss: 0.5489 - val_accuracy: 0.8496\n",
            "Epoch 37/50\n",
            "1017/1017 [==============================] - 0s 71us/step - loss: 0.4831 - accuracy: 0.8122 - val_loss: 0.5485 - val_accuracy: 0.8496\n",
            "Epoch 38/50\n",
            "1017/1017 [==============================] - 0s 71us/step - loss: 0.4830 - accuracy: 0.8122 - val_loss: 0.5487 - val_accuracy: 0.8496\n",
            "Epoch 39/50\n",
            "1017/1017 [==============================] - 0s 81us/step - loss: 0.4831 - accuracy: 0.8122 - val_loss: 0.5492 - val_accuracy: 0.8496\n",
            "Epoch 40/50\n",
            "1017/1017 [==============================] - 0s 77us/step - loss: 0.4831 - accuracy: 0.8122 - val_loss: 0.5494 - val_accuracy: 0.8496\n",
            "Epoch 41/50\n",
            "1017/1017 [==============================] - 0s 70us/step - loss: 0.4831 - accuracy: 0.8122 - val_loss: 0.5494 - val_accuracy: 0.8496\n",
            "Epoch 42/50\n",
            "1017/1017 [==============================] - 0s 70us/step - loss: 0.4831 - accuracy: 0.8122 - val_loss: 0.5489 - val_accuracy: 0.8496\n",
            "Epoch 43/50\n",
            "1017/1017 [==============================] - 0s 70us/step - loss: 0.4831 - accuracy: 0.8122 - val_loss: 0.5496 - val_accuracy: 0.8496\n",
            "Epoch 44/50\n",
            "1017/1017 [==============================] - 0s 70us/step - loss: 0.4831 - accuracy: 0.8122 - val_loss: 0.5487 - val_accuracy: 0.8496\n",
            "Epoch 45/50\n",
            "1017/1017 [==============================] - 0s 79us/step - loss: 0.4831 - accuracy: 0.8122 - val_loss: 0.5498 - val_accuracy: 0.8496\n",
            "Epoch 46/50\n",
            "1017/1017 [==============================] - 0s 85us/step - loss: 0.4830 - accuracy: 0.8122 - val_loss: 0.5491 - val_accuracy: 0.8496\n",
            "Epoch 47/50\n",
            "1017/1017 [==============================] - 0s 80us/step - loss: 0.4831 - accuracy: 0.8122 - val_loss: 0.5491 - val_accuracy: 0.8496\n",
            "Epoch 48/50\n",
            "1017/1017 [==============================] - 0s 70us/step - loss: 0.4831 - accuracy: 0.8122 - val_loss: 0.5495 - val_accuracy: 0.8496\n",
            "Epoch 49/50\n",
            "1017/1017 [==============================] - 0s 70us/step - loss: 0.4831 - accuracy: 0.8122 - val_loss: 0.5485 - val_accuracy: 0.8496\n",
            "Epoch 50/50\n",
            "1017/1017 [==============================] - 0s 71us/step - loss: 0.4831 - accuracy: 0.8122 - val_loss: 0.5494 - val_accuracy: 0.8496\n"
          ],
          "name": "stdout"
        }
      ]
    },
    {
      "cell_type": "code",
      "metadata": {
        "id": "ulebgA-cEh_1",
        "colab_type": "code",
        "colab": {
          "base_uri": "https://localhost:8080/",
          "height": 106
        },
        "outputId": "aa9f5867-5248-4d1b-af1e-05702431df70"
      },
      "source": [
        "acl_test_predictions = []\n",
        "acl_test_predictions.append(predict_acl_axial_test)\n",
        "acl_test_predictions.append(predict_acl_coronal_test)\n",
        "acl_test_predictions.append(predict_acl_sagittal_test)\n",
        "\n",
        "acl_test_predictions = np.transpose(acl_test_predictions)\n",
        "\n",
        "loss2, acc2 = ACL_model.evaluate(acl_test_predictions[0], [aclTestLabels])\n",
        "print(\"evaluation done\")\n",
        "print('\\nTesting loss: {}, acc: {}\\n'.format(loss2, acc2))"
      ],
      "execution_count": null,
      "outputs": [
        {
          "output_type": "stream",
          "text": [
            "120/120 [==============================] - 0s 113us/step\n",
            "evaluation done\n",
            "\n",
            "Testing loss: 0.6990375399589539, acc: 0.550000011920929\n",
            "\n"
          ],
          "name": "stdout"
        }
      ]
    },
    {
      "cell_type": "markdown",
      "metadata": {
        "colab_type": "text",
        "id": "-GjougwAaKO5"
      },
      "source": [
        "# Last Meniscus Model\n",
        "1.   create the model\n",
        "3.   train the model\n",
        "2.   test the models and get thier accuracy and loss"
      ]
    },
    {
      "cell_type": "code",
      "metadata": {
        "colab_type": "code",
        "id": "cL3OWBgqC9sc",
        "colab": {
          "base_uri": "https://localhost:8080/",
          "height": 1000
        },
        "outputId": "04e1af86-e797-461b-d9b2-66745f5e6f5a"
      },
      "source": [
        "Meniscus_model = logistic_regression()\n",
        "\n",
        "meniscus_train_predictions = []\n",
        "meniscus_train_predictions.append(predict_meniscus_axial_train)\n",
        "meniscus_train_predictions.append(predict_meniscus_coronal_train)\n",
        "meniscus_train_predictions.append(predict_meniscus_sagittal_train)\n",
        "\n",
        "meniscus_train_predictions = np.transpose(meniscus_train_predictions)\n",
        "\n",
        "meniscus_valid_predictions = []\n",
        "meniscus_valid_predictions.append(predict_meniscus_axial_valid)\n",
        "meniscus_valid_predictions.append(predict_meniscus_coronal_valid)\n",
        "meniscus_valid_predictions.append(predict_meniscus_sagittal_valid)\n",
        "\n",
        "meniscus_valid_predictions = np.transpose(meniscus_valid_predictions)\n",
        "\n",
        "Meniscus_model.fit(np.array(meniscus_train_predictions)[0] , [meniscusTrainLabels],\n",
        "                   validation_data = (np.array(meniscus_valid_predictions)[0], [meniscusValidLabels]),\n",
        "                   epochs = 50,use_multiprocessing=True, workers=6)\n",
        "\n",
        "Meniscus_model.save(\"/content/gdrive/My Drive/VGG_models/Meniscus_model.h5\")"
      ],
      "execution_count": null,
      "outputs": [
        {
          "output_type": "stream",
          "text": [
            "Train on 1017 samples, validate on 113 samples\n",
            "Epoch 1/50\n",
            "1017/1017 [==============================] - 0s 135us/step - loss: 0.6547 - accuracy: 0.6470 - val_loss: 0.6470 - val_accuracy: 0.6637\n",
            "Epoch 2/50\n",
            "1017/1017 [==============================] - 0s 80us/step - loss: 0.6531 - accuracy: 0.6470 - val_loss: 0.6449 - val_accuracy: 0.6637\n",
            "Epoch 3/50\n",
            "1017/1017 [==============================] - 0s 79us/step - loss: 0.6519 - accuracy: 0.6470 - val_loss: 0.6437 - val_accuracy: 0.6637\n",
            "Epoch 4/50\n",
            "1017/1017 [==============================] - 0s 84us/step - loss: 0.6511 - accuracy: 0.6470 - val_loss: 0.6425 - val_accuracy: 0.6637\n",
            "Epoch 5/50\n",
            "1017/1017 [==============================] - 0s 76us/step - loss: 0.6506 - accuracy: 0.6470 - val_loss: 0.6418 - val_accuracy: 0.6637\n",
            "Epoch 6/50\n",
            "1017/1017 [==============================] - 0s 85us/step - loss: 0.6502 - accuracy: 0.6470 - val_loss: 0.6411 - val_accuracy: 0.6637\n",
            "Epoch 7/50\n",
            "1017/1017 [==============================] - 0s 99us/step - loss: 0.6499 - accuracy: 0.6470 - val_loss: 0.6409 - val_accuracy: 0.6637\n",
            "Epoch 8/50\n",
            "1017/1017 [==============================] - 0s 92us/step - loss: 0.6497 - accuracy: 0.6470 - val_loss: 0.6405 - val_accuracy: 0.6637\n",
            "Epoch 9/50\n",
            "1017/1017 [==============================] - 0s 87us/step - loss: 0.6496 - accuracy: 0.6470 - val_loss: 0.6401 - val_accuracy: 0.6637\n",
            "Epoch 10/50\n",
            "1017/1017 [==============================] - 0s 85us/step - loss: 0.6496 - accuracy: 0.6470 - val_loss: 0.6398 - val_accuracy: 0.6637\n",
            "Epoch 11/50\n",
            "1017/1017 [==============================] - 0s 84us/step - loss: 0.6494 - accuracy: 0.6470 - val_loss: 0.6398 - val_accuracy: 0.6637\n",
            "Epoch 12/50\n",
            "1017/1017 [==============================] - 0s 84us/step - loss: 0.6495 - accuracy: 0.6470 - val_loss: 0.6397 - val_accuracy: 0.6637\n",
            "Epoch 13/50\n",
            "1017/1017 [==============================] - 0s 84us/step - loss: 0.6494 - accuracy: 0.6470 - val_loss: 0.6395 - val_accuracy: 0.6637\n",
            "Epoch 14/50\n",
            "1017/1017 [==============================] - 0s 85us/step - loss: 0.6494 - accuracy: 0.6470 - val_loss: 0.6395 - val_accuracy: 0.6637\n",
            "Epoch 15/50\n",
            "1017/1017 [==============================] - 0s 71us/step - loss: 0.6493 - accuracy: 0.6470 - val_loss: 0.6394 - val_accuracy: 0.6637\n",
            "Epoch 16/50\n",
            "1017/1017 [==============================] - 0s 79us/step - loss: 0.6493 - accuracy: 0.6470 - val_loss: 0.6394 - val_accuracy: 0.6637\n",
            "Epoch 17/50\n",
            "1017/1017 [==============================] - 0s 86us/step - loss: 0.6494 - accuracy: 0.6470 - val_loss: 0.6393 - val_accuracy: 0.6637\n",
            "Epoch 18/50\n",
            "1017/1017 [==============================] - 0s 97us/step - loss: 0.6494 - accuracy: 0.6470 - val_loss: 0.6393 - val_accuracy: 0.6637\n",
            "Epoch 19/50\n",
            "1017/1017 [==============================] - 0s 97us/step - loss: 0.6493 - accuracy: 0.6470 - val_loss: 0.6393 - val_accuracy: 0.6637\n",
            "Epoch 20/50\n",
            "1017/1017 [==============================] - 0s 86us/step - loss: 0.6494 - accuracy: 0.6470 - val_loss: 0.6393 - val_accuracy: 0.6637\n",
            "Epoch 21/50\n",
            "1017/1017 [==============================] - 0s 89us/step - loss: 0.6493 - accuracy: 0.6470 - val_loss: 0.6392 - val_accuracy: 0.6637\n",
            "Epoch 22/50\n",
            "1017/1017 [==============================] - 0s 95us/step - loss: 0.6493 - accuracy: 0.6470 - val_loss: 0.6392 - val_accuracy: 0.6637\n",
            "Epoch 23/50\n",
            "1017/1017 [==============================] - 0s 84us/step - loss: 0.6494 - accuracy: 0.6470 - val_loss: 0.6392 - val_accuracy: 0.6637\n",
            "Epoch 24/50\n",
            "1017/1017 [==============================] - 0s 85us/step - loss: 0.6494 - accuracy: 0.6470 - val_loss: 0.6392 - val_accuracy: 0.6637\n",
            "Epoch 25/50\n",
            "1017/1017 [==============================] - 0s 89us/step - loss: 0.6495 - accuracy: 0.6470 - val_loss: 0.6391 - val_accuracy: 0.6637\n",
            "Epoch 26/50\n",
            "1017/1017 [==============================] - 0s 86us/step - loss: 0.6494 - accuracy: 0.6470 - val_loss: 0.6392 - val_accuracy: 0.6637\n",
            "Epoch 27/50\n",
            "1017/1017 [==============================] - 0s 77us/step - loss: 0.6493 - accuracy: 0.6470 - val_loss: 0.6392 - val_accuracy: 0.6637\n",
            "Epoch 28/50\n",
            "1017/1017 [==============================] - 0s 70us/step - loss: 0.6493 - accuracy: 0.6470 - val_loss: 0.6393 - val_accuracy: 0.6637\n",
            "Epoch 29/50\n",
            "1017/1017 [==============================] - 0s 70us/step - loss: 0.6494 - accuracy: 0.6470 - val_loss: 0.6392 - val_accuracy: 0.6637\n",
            "Epoch 30/50\n",
            "1017/1017 [==============================] - 0s 82us/step - loss: 0.6494 - accuracy: 0.6470 - val_loss: 0.6391 - val_accuracy: 0.6637\n",
            "Epoch 31/50\n",
            "1017/1017 [==============================] - 0s 77us/step - loss: 0.6494 - accuracy: 0.6470 - val_loss: 0.6392 - val_accuracy: 0.6637\n",
            "Epoch 32/50\n",
            "1017/1017 [==============================] - 0s 70us/step - loss: 0.6493 - accuracy: 0.6470 - val_loss: 0.6393 - val_accuracy: 0.6637\n",
            "Epoch 33/50\n",
            "1017/1017 [==============================] - 0s 71us/step - loss: 0.6493 - accuracy: 0.6470 - val_loss: 0.6392 - val_accuracy: 0.6637\n",
            "Epoch 34/50\n",
            "1017/1017 [==============================] - 0s 69us/step - loss: 0.6493 - accuracy: 0.6470 - val_loss: 0.6391 - val_accuracy: 0.6637\n",
            "Epoch 35/50\n",
            "1017/1017 [==============================] - 0s 75us/step - loss: 0.6493 - accuracy: 0.6470 - val_loss: 0.6392 - val_accuracy: 0.6637\n",
            "Epoch 36/50\n",
            "1017/1017 [==============================] - 0s 70us/step - loss: 0.6493 - accuracy: 0.6470 - val_loss: 0.6392 - val_accuracy: 0.6637\n",
            "Epoch 37/50\n",
            "1017/1017 [==============================] - 0s 72us/step - loss: 0.6493 - accuracy: 0.6470 - val_loss: 0.6392 - val_accuracy: 0.6637\n",
            "Epoch 38/50\n",
            "1017/1017 [==============================] - 0s 69us/step - loss: 0.6493 - accuracy: 0.6470 - val_loss: 0.6392 - val_accuracy: 0.6637\n",
            "Epoch 39/50\n",
            "1017/1017 [==============================] - 0s 70us/step - loss: 0.6493 - accuracy: 0.6470 - val_loss: 0.6392 - val_accuracy: 0.6637\n",
            "Epoch 40/50\n",
            "1017/1017 [==============================] - 0s 72us/step - loss: 0.6493 - accuracy: 0.6470 - val_loss: 0.6392 - val_accuracy: 0.6637\n",
            "Epoch 41/50\n",
            "1017/1017 [==============================] - 0s 71us/step - loss: 0.6493 - accuracy: 0.6470 - val_loss: 0.6392 - val_accuracy: 0.6637\n",
            "Epoch 42/50\n",
            "1017/1017 [==============================] - 0s 71us/step - loss: 0.6493 - accuracy: 0.6470 - val_loss: 0.6392 - val_accuracy: 0.6637\n",
            "Epoch 43/50\n",
            "1017/1017 [==============================] - 0s 81us/step - loss: 0.6494 - accuracy: 0.6470 - val_loss: 0.6392 - val_accuracy: 0.6637\n",
            "Epoch 44/50\n",
            "1017/1017 [==============================] - 0s 83us/step - loss: 0.6494 - accuracy: 0.6470 - val_loss: 0.6392 - val_accuracy: 0.6637\n",
            "Epoch 45/50\n",
            "1017/1017 [==============================] - 0s 74us/step - loss: 0.6493 - accuracy: 0.6470 - val_loss: 0.6392 - val_accuracy: 0.6637\n",
            "Epoch 46/50\n",
            "1017/1017 [==============================] - 0s 70us/step - loss: 0.6494 - accuracy: 0.6470 - val_loss: 0.6392 - val_accuracy: 0.6637\n",
            "Epoch 47/50\n",
            "1017/1017 [==============================] - 0s 72us/step - loss: 0.6493 - accuracy: 0.6470 - val_loss: 0.6391 - val_accuracy: 0.6637\n",
            "Epoch 48/50\n",
            "1017/1017 [==============================] - 0s 71us/step - loss: 0.6493 - accuracy: 0.6470 - val_loss: 0.6392 - val_accuracy: 0.6637\n",
            "Epoch 49/50\n",
            "1017/1017 [==============================] - 0s 70us/step - loss: 0.6493 - accuracy: 0.6470 - val_loss: 0.6392 - val_accuracy: 0.6637\n",
            "Epoch 50/50\n",
            "1017/1017 [==============================] - 0s 71us/step - loss: 0.6493 - accuracy: 0.6470 - val_loss: 0.6392 - val_accuracy: 0.6637\n"
          ],
          "name": "stdout"
        }
      ]
    },
    {
      "cell_type": "code",
      "metadata": {
        "id": "aVK3oCZUF1gM",
        "colab_type": "code",
        "colab": {
          "base_uri": "https://localhost:8080/",
          "height": 106
        },
        "outputId": "b9774f59-073d-4222-975d-ede794ae7141"
      },
      "source": [
        "meniscus_test_predictions = []\n",
        "meniscus_test_predictions.append(predict_meniscus_axial_test)\n",
        "meniscus_test_predictions.append(predict_meniscus_coronal_test)\n",
        "meniscus_test_predictions.append(predict_meniscus_sagittal_test)\n",
        "meniscus_test_predictions = np.transpose(meniscus_test_predictions)\n",
        "loss3, acc3 = Meniscus_model.evaluate(meniscus_test_predictions[0] ,   [meniscusTestLabels])\n",
        "print(\"evaluation done\")\n",
        "print('\\nTesting loss: {}, acc: {}\\n'.format(loss3, acc3))"
      ],
      "execution_count": null,
      "outputs": [
        {
          "output_type": "stream",
          "text": [
            "120/120 [==============================] - 0s 85us/step\n",
            "evaluation done\n",
            "\n",
            "Testing loss: 0.6979655822118124, acc: 0.5666666626930237\n",
            "\n"
          ],
          "name": "stdout"
        }
      ]
    },
    {
      "cell_type": "markdown",
      "metadata": {
        "id": "ldp7r_GNIHtZ",
        "colab_type": "text"
      },
      "source": [
        "# Result of the first 9 Models"
      ]
    },
    {
      "cell_type": "code",
      "metadata": {
        "id": "0jbhwLD-SifH",
        "colab_type": "code",
        "colab": {}
      },
      "source": [
        "loss_1 ,acc_1 = evaluate_abnormal_axial\n",
        "loss_2 ,acc_2 = evaluate_abnormal_coronal\n",
        "loss_3 ,acc_3 = evaluate_abnormal_sagittal\n",
        "\n",
        "loss_4 ,acc_4 = evaluate_acl_axial\n",
        "loss_5 ,acc_5 = evaluate_acl_coronal\n",
        "loss_6 ,acc_6 = evaluate_acl_sagittal\n",
        "\n",
        "loss_7 ,acc_7 = evaluate_meniscus_axial\n",
        "loss_8 ,acc_8 = evaluate_meniscus_coronal\n",
        "loss_9 ,acc_9 = evaluate_meniscus_sagittal"
      ],
      "execution_count": null,
      "outputs": []
    },
    {
      "cell_type": "code",
      "metadata": {
        "id": "gAHqA7uvTL5G",
        "colab_type": "code",
        "colab": {
          "base_uri": "https://localhost:8080/",
          "height": 425
        },
        "outputId": "f21e8cd4-e3f9-4ecc-81d2-ab885e4368d6"
      },
      "source": [
        "print('\\nAbnormal Axial Accuracy    : {}'.format(acc_1))\n",
        "print('Abnormal Axial Loss        : {}'.format(loss_1))\n",
        "print('Abnormal Coronal Accuracy  : {}'.format(acc_2))\n",
        "print('Abnormal Coronal Loss      : {}'.format(loss_2))\n",
        "print('Abnormal Sagittal Accuracy : {}'.format(acc_3))\n",
        "print('Abnormal Sagittal Loss     : {}\\n'.format(loss_3))\n",
        "\n",
        "print('\\nACL Axial Accuracy    : {}'.format(acc_4))\n",
        "print('ACL Axial Loss        : {}'.format(loss_4))\n",
        "print('ACL Coronal Loss      : {}'.format(acc_5))\n",
        "print('ACL Coronal Accuracy  : {}'.format(loss_5))\n",
        "print('ACL Sagittal Loss     : {}'.format(acc_6))\n",
        "print('ACL Sagittal Accuracy : {}\\n'.format(loss_6))\n",
        "\n",
        "print('\\nMeniscus Axial Accuracy    : {}'.format(acc_7))\n",
        "print('Meniscus Axial Loss        : {}'.format(loss_7))\n",
        "print('Meniscus Coronal Accuracy  : {}'.format(acc_8))\n",
        "print('Meniscus Coronal Loss      : {}'.format(loss_8))\n",
        "print('Meniscus Sagittal Accuracy : {}'.format(acc_9))\n",
        "print('Meniscus Sagittal Loss     : {}\\n'.format(loss_9))"
      ],
      "execution_count": null,
      "outputs": [
        {
          "output_type": "stream",
          "text": [
            "\n",
            "Abnormal Axial Accuracy    : 0.7916666865348816\n",
            "Abnormal Axial Loss        : 0.2018851786851883\n",
            "Abnormal Coronal Accuracy  : 0.7916666865348816\n",
            "Abnormal Coronal Loss      : 0.21547695994377136\n",
            "Abnormal Sagittal Accuracy : 0.7916666865348816\n",
            "Abnormal Sagittal Loss     : 0.3112970292568207\n",
            "\n",
            "\n",
            "ACL Axial Accuracy    : 0.550000011920929\n",
            "ACL Axial Loss        : 0.1930832862854004\n",
            "ACL Coronal Loss      : 0.550000011920929\n",
            "ACL Coronal Accuracy  : 0.20545101165771484\n",
            "ACL Sagittal Loss     : 0.550000011920929\n",
            "ACL Sagittal Accuracy : 0.2430194914340973\n",
            "\n",
            "\n",
            "Meniscus Axial Accuracy    : 0.5666666626930237\n",
            "Meniscus Axial Loss        : 0.8985384702682495\n",
            "Meniscus Coronal Accuracy  : 0.5666666626930237\n",
            "Meniscus Coronal Loss      : 0.9344514608383179\n",
            "Meniscus Sagittal Accuracy : 0.5666666626930237\n",
            "Meniscus Sagittal Loss     : 0.9974617958068848\n",
            "\n"
          ],
          "name": "stdout"
        }
      ]
    },
    {
      "cell_type": "markdown",
      "metadata": {
        "id": "qpAsuP9HWZnE",
        "colab_type": "text"
      },
      "source": [
        "# Final Accuaracy"
      ]
    },
    {
      "cell_type": "code",
      "metadata": {
        "id": "pQs27UWh88zm",
        "colab_type": "code",
        "colab": {
          "base_uri": "https://localhost:8080/",
          "height": 195
        },
        "outputId": "c5af96eb-d2ac-4f26-9329-e3e270a7d0f3"
      },
      "source": [
        "print('\\nAbnormal Accuracy: {}'.format(acc1))\n",
        "print('Abnormal Loss    : {}'.format(loss1))\n",
        "print('\\nACL Accuracy     : {}'.format(acc2))\n",
        "print('ACL Loss         : {}'.format(loss2))\n",
        "print('\\nMeniscus Accuracy: {}'.format(acc3))\n",
        "print('Meniscus Loss    : {}\\n'.format(loss3))"
      ],
      "execution_count": null,
      "outputs": [
        {
          "output_type": "stream",
          "text": [
            "\n",
            "Abnormal Accuracy: 0.7916666865348816\n",
            "Abnormal Loss    : 0.5120767186085383\n",
            "\n",
            "ACL Accuracy     : 0.550000011920929\n",
            "ACL Loss         : 0.6990375399589539\n",
            "\n",
            "Meniscus Accuracy: 0.5666666626930237\n",
            "Meniscus Loss    : 0.6979655822118124\n",
            "\n"
          ],
          "name": "stdout"
        }
      ]
    },
    {
      "cell_type": "markdown",
      "metadata": {
        "id": "a3WNTCo5jsJW",
        "colab_type": "text"
      },
      "source": [
        "## Inception Model implementation"
      ]
    },
    {
      "cell_type": "code",
      "metadata": {
        "id": "cwAMgq1dIUCw",
        "colab_type": "code",
        "colab": {}
      },
      "source": [
        "# implement Inception for extraction features\n",
        "\n",
        "import numpy as np\n",
        "import os\n",
        "from keras.preprocessing import image\n",
        "from keras.applications.vgg16 import preprocess_input\n",
        "from numpy import moveaxis\n",
        "from numpy import asarray\n",
        "import pandas as pd\n",
        "from keras import models\n",
        "from keras import layers\n",
        "from keras.models import Model\n",
        "from keras.layers.wrappers import TimeDistributed\n",
        "from keras.layers import Dense, Input\n",
        "from keras.layers.convolutional import Conv2D\n",
        "from keras.layers import Conv2D, MaxPooling2D, Embedding, Reshape, Concatenate, Dropout\n",
        "from keras.layers import GlobalAveragePooling2D\n",
        "from keras.utils import plot_model\n",
        "\n",
        "from keras import backend as K\n",
        "from keras.layers import Convolution2D, BatchNormalization, Dense\n",
        "from keras.layers.core import Activation\n",
        "from keras.regularizers import l2\n",
        "from keras.layers.wrappers import TimeDistributed\n",
        "\n",
        "\n",
        "\n",
        "def conv2d_bn(x, nb_filter, nb_row, nb_col,\n",
        "              border_mode='same', subsample=(1, 1),\n",
        "              batch_norm=True, activation='softmax',\n",
        "              weight_decay=0, name=None):\n",
        "    \n",
        "    if name is not None:\n",
        "        bn_name = 'bn_' + name\n",
        "        conv_name = 'conv_' + name\n",
        "    else:\n",
        "        bn_name = None\n",
        "        conv_name = None\n",
        "    if K.common.image_dim_ordering() == 'th':\n",
        "        bn_axis = 1\n",
        "    else:\n",
        "        bn_axis = 3\n",
        "\n",
        "    if weight_decay and weight_decay > 0:\n",
        "        x = TimeDistributed(Convolution2D(nb_filter, nb_row, nb_col,\n",
        "                          subsample=subsample,\n",
        "                          activation='relu',\n",
        "                          W_regularizer=l2(weight_decay),\n",
        "                          border_mode=border_mode,\n",
        "                          name=conv_name))(x)\n",
        "    else:\n",
        "        x =TimeDistributed(Convolution2D(nb_filter, nb_row, nb_col,\n",
        "                          subsample=subsample,\n",
        "                          activation='relu',\n",
        "                          border_mode=border_mode,\n",
        "                          name=conv_name))(x)\n",
        "\n",
        "    if batch_norm:\n",
        "        x = BatchNormalization(axis=bn_axis, name=bn_name)(x)\n",
        "\n",
        "    if activation:\n",
        "        x = Activation(activation)(x)\n",
        "\n",
        "    return x\n",
        "\n",
        "\n",
        "from keras.layers import MaxPooling1D\n",
        "from keras.models import Model\n",
        "from keras.layers import Flatten, Dense, Input, BatchNormalization\n",
        "from keras.layers import Convolution2D, MaxPooling2D, AveragePooling2D\n",
        "from keras.engine.topology import get_source_inputs\n",
        "from keras.utils.layer_utils import convert_all_kernels_in_model\n",
        "from keras.utils.data_utils import get_file\n",
        "from keras import backend as K\n",
        "from keras.layers import Dense, GlobalAveragePooling2D\n",
        "from keras.layers.core import Dropout, Lambda\n",
        "import warnings\n",
        "from keras.layers.merge import concatenate\n",
        "Model\n",
        "from keras.layers import MaxPooling2D\n",
        "from keras.layers import MaxPooling1D\n",
        "import tensorflow as tf\n",
        "from keras.models import Sequential, load_model\n",
        "from keras import models\n",
        "from keras import layers\n",
        "from keras.models import Model\n",
        "from keras.layers.wrappers import TimeDistributed\n",
        "from keras.layers import Dense, Input\n",
        "from keras.layers.convolutional import Conv2D\n",
        "from keras.layers import Conv2D, MaxPooling2D, Embedding, Reshape, Concatenate, Dropout\n",
        "from keras.layers import GlobalAveragePooling2D\n",
        "from keras.layers import GlobalMaxPooling1D\n",
        "\n",
        "\n",
        "def InceptionV3(include_top=False,\n",
        "                input_tensor=None, input_shape=None,\n",
        "                weight_decay=0.00004, num_classes=1000,\n",
        "                dropout_prob=0.,aux_include=False):\n",
        "    if input_shape is None:\n",
        "        input_shape = (299, 299)\n",
        "\n",
        "    if K.common.image_dim_ordering() == 'th':\n",
        "        input_shape = (3,) + input_shape\n",
        "        channel_axis = 1\n",
        "    else:\n",
        "        input_shape = input_shape + (3,)\n",
        "        channel_axis = 3\n",
        "    print(input_shape)\n",
        "    if input_tensor is None:\n",
        "        img_input = Input(shape=input_shape)\n",
        "    else:\n",
        "        img_input = input_tensor\n",
        "\n",
        "    # Using `tf` order\n",
        "    # 299 x 299 x 3\n",
        "    x = conv2d_bn(img_input, 32, 3, 3, subsample=(2, 2),\n",
        "                  border_mode='valid', weight_decay=weight_decay,\n",
        "                  name='0')\n",
        "\n",
        "    # 149 x 149 x 32\n",
        "    x = conv2d_bn(x, 32, 3, 3, border_mode='valid',\n",
        "                  weight_decay=weight_decay, name='1')\n",
        "    # 147 x 147 x 32\n",
        "    x = conv2d_bn(x, 64, 3, 3, weight_decay=weight_decay, name='2')\n",
        "\n",
        "    # 147 x 147 x 64\n",
        "    x = TimeDistributed(MaxPooling2D(pool_size=(3, 3), strides=(2, 2), name='pool_1'))(x)\n",
        "\n",
        "    # 73  x 73 x 64\n",
        "    x = conv2d_bn(x, 80, 1, 1, weight_decay=weight_decay, name='3')\n",
        "\n",
        "    # 73 x 73 x 80\n",
        "    x = conv2d_bn(x, 192, 3, 3, border_mode='valid',\n",
        "                  weight_decay=weight_decay, name='4')\n",
        "\n",
        "    # 71 x 71 x 192\n",
        "    x = TimeDistributed(MaxPooling2D(pool_size=(3, 3), strides=(2, 2), name='pool_2'))(x)\n",
        "\n",
        "    # 35 x 35 x 192\n",
        "    # Inception block\n",
        "    # mixed 0: 35 x 35 x 256\n",
        "    branch1x1 = conv2d_bn(x, 64, 1, 1, weight_decay=weight_decay)\n",
        "\n",
        "    branch5x5 = conv2d_bn(x, 48, 1, 1, weight_decay=weight_decay)\n",
        "    branch5x5 = conv2d_bn(branch5x5, 64, 5, 5, weight_decay=weight_decay)\n",
        "\n",
        "    branch3x3dbl = conv2d_bn(x, 64, 1, 1, weight_decay=weight_decay)\n",
        "    branch3x3dbl = conv2d_bn(branch3x3dbl, 96, 3, 3, weight_decay=weight_decay)\n",
        "    branch3x3dbl = conv2d_bn(branch3x3dbl, 96, 3, 3, weight_decay=weight_decay)\n",
        "\n",
        "    branch_pool = TimeDistributed(AveragePooling2D(\n",
        "        (3, 3), strides=(1, 1), border_mode='same'))(x)\n",
        "    branch_pool = conv2d_bn(branch_pool, 32, 1, 1, weight_decay=weight_decay)\n",
        "\n",
        "    x = concatenate([branch1x1, branch5x5, branch3x3dbl, branch_pool],\n",
        "              axis=4,\n",
        "              name='mixed_0')\n",
        "\n",
        "\n",
        "    for i in range(2):\n",
        "        branch1x1 = conv2d_bn(x, 64, 1, 1, weight_decay=weight_decay)\n",
        "\n",
        "        branch5x5 = conv2d_bn(x, 48, 1, 1, weight_decay=weight_decay)\n",
        "        branch5x5 = conv2d_bn(branch5x5, 64, 5, 5, weight_decay=weight_decay)\n",
        "\n",
        "        branch3x3dbl = conv2d_bn(x, 64, 1, 1, weight_decay=weight_decay)\n",
        "        branch3x3dbl = conv2d_bn(\n",
        "            branch3x3dbl, 96, 3, 3, weight_decay=weight_decay)\n",
        "        branch3x3dbl = conv2d_bn(\n",
        "            branch3x3dbl, 96, 3, 3, weight_decay=weight_decay)\n",
        "\n",
        "        branch_pool = TimeDistributed(AveragePooling2D(\n",
        "            (3, 3), strides=(1, 1), border_mode='same'))(x)\n",
        "        branch_pool = conv2d_bn(\n",
        "            branch_pool, 64, 1, 1, weight_decay=weight_decay)\n",
        "\n",
        "        x = concatenate([branch1x1, branch5x5, branch3x3dbl, branch_pool],\n",
        "                   axis=4,\n",
        "                  name='mixed_' + str(i + 1))\n",
        "\n",
        "    # mixed_3: 17 x 17 x 768\n",
        "    branch3x3 = conv2d_bn(\n",
        "        x, 384, 3, 3, subsample=(2, 2),\n",
        "        border_mode='valid', weight_decay=weight_decay)\n",
        "\n",
        "    branch3x3dbl = conv2d_bn(x, 64, 1, 1, weight_decay=weight_decay)\n",
        "    branch3x3dbl = conv2d_bn(branch3x3dbl, 96, 3, 3, weight_decay=weight_decay)\n",
        "    branch3x3dbl = conv2d_bn(\n",
        "        branch3x3dbl, 96, 3, 3, subsample=(2, 2),\n",
        "        border_mode='valid', weight_decay=weight_decay)\n",
        "\n",
        "    branch_pool = TimeDistributed(MaxPooling2D((3, 3), strides=(2, 2), border_mode='valid'))(x)\n",
        "\n",
        "    x = concatenate([branch3x3, branch3x3dbl, branch_pool],\n",
        "              axis=4, name='mixed_3')\n",
        "\n",
        "    # mixed_4: 17 x 17 x 768\n",
        "    branch1x1 = conv2d_bn(x, 192, 1, 1, weight_decay=weight_decay)\n",
        "\n",
        "    branch7x7 = conv2d_bn(x, 128, 1, 1, weight_decay=weight_decay)\n",
        "    branch7x7 = conv2d_bn(branch7x7, 128, 1, 7, weight_decay=weight_decay)\n",
        "    branch7x7 = conv2d_bn(branch7x7, 192, 7, 1, weight_decay=weight_decay)\n",
        "\n",
        "    branch7x7dbl = conv2d_bn(x, 128, 1, 1, weight_decay=weight_decay)\n",
        "    branch7x7dbl = conv2d_bn(\n",
        "        branch7x7dbl, 128, 7, 1, weight_decay=weight_decay)\n",
        "    branch7x7dbl = conv2d_bn(\n",
        "        branch7x7dbl, 128, 1, 7, weight_decay=weight_decay)\n",
        "    branch7x7dbl = conv2d_bn(\n",
        "        branch7x7dbl, 128, 7, 1, weight_decay=weight_decay)\n",
        "    branch7x7dbl = conv2d_bn(\n",
        "        branch7x7dbl, 192, 1, 7, weight_decay=weight_decay)\n",
        "\n",
        "    branch_pool = TimeDistributed(AveragePooling2D(\n",
        "        (3, 3), strides=(1, 1), border_mode='same'))(x)\n",
        "    branch_pool = conv2d_bn(branch_pool, 192, 1, 1, weight_decay=weight_decay)\n",
        "\n",
        "    x = concatenate([branch1x1, branch7x7, branch7x7dbl, branch_pool],\n",
        "               axis=4, name='mixed_4')\n",
        "\n",
        "    # mixed 5, 6: 17 x 17 x 768\n",
        "    for i in range(2):\n",
        "        branch1x1 = conv2d_bn(x, 192, 1, 1, weight_decay=weight_decay)\n",
        "\n",
        "        branch7x7 = conv2d_bn(x, 160, 1, 1, weight_decay=weight_decay)\n",
        "        branch7x7 = conv2d_bn(branch7x7, 160, 1, 7, weight_decay=weight_decay)\n",
        "        branch7x7 = conv2d_bn(branch7x7, 192, 7, 1, weight_decay=weight_decay)\n",
        "\n",
        "        branch7x7dbl = conv2d_bn(x, 160, 1, 1, weight_decay=weight_decay)\n",
        "        branch7x7dbl = conv2d_bn(\n",
        "            branch7x7dbl, 160, 7, 1, weight_decay=weight_decay)\n",
        "        branch7x7dbl = conv2d_bn(\n",
        "            branch7x7dbl, 160, 1, 7, weight_decay=weight_decay)\n",
        "        branch7x7dbl = conv2d_bn(\n",
        "            branch7x7dbl, 160, 7, 1, weight_decay=weight_decay)\n",
        "        branch7x7dbl = conv2d_bn(\n",
        "            branch7x7dbl, 192, 1, 7, weight_decay=weight_decay)\n",
        "\n",
        "        branch_pool = TimeDistributed(AveragePooling2D(\n",
        "            (3, 3), strides=(1, 1), border_mode='same'))(x)\n",
        "        branch_pool = conv2d_bn(\n",
        "            branch_pool, 192, 1, 1, weight_decay=weight_decay)\n",
        "        x = concatenate([branch1x1, branch7x7, branch7x7dbl, branch_pool],\n",
        "                   axis=4,\n",
        "                  name='mixed_' + str(i + 5))\n",
        "\n",
        "    # mixed 7: 17 x 17 x 768\n",
        "    branch1x1 = conv2d_bn(x, 192, 1, 1, weight_decay=weight_decay)\n",
        "\n",
        "    branch7x7 = conv2d_bn(x, 192, 1, 1, weight_decay=weight_decay)\n",
        "    branch7x7 = conv2d_bn(branch7x7, 192, 1, 7, weight_decay=weight_decay)\n",
        "    branch7x7 = conv2d_bn(branch7x7, 192, 7, 1, weight_decay=weight_decay)\n",
        "\n",
        "    branch7x7dbl = conv2d_bn(x, 192, 1, 1, weight_decay=weight_decay)\n",
        "    branch7x7dbl = conv2d_bn(\n",
        "        branch7x7dbl, 192, 7, 1, weight_decay=weight_decay)\n",
        "    branch7x7dbl = conv2d_bn(\n",
        "        branch7x7dbl, 192, 1, 7, weight_decay=weight_decay)\n",
        "    branch7x7dbl = conv2d_bn(\n",
        "        branch7x7dbl, 192, 7, 1, weight_decay=weight_decay)\n",
        "    branch7x7dbl = conv2d_bn(\n",
        "        branch7x7dbl, 192, 1, 7, weight_decay=weight_decay)\n",
        "\n",
        "    branch_pool = TimeDistributed(AveragePooling2D(\n",
        "        (3, 3), strides=(1, 1), border_mode='same'))(x)\n",
        "    branch_pool = conv2d_bn(branch_pool, 192, 1, 1, weight_decay=weight_decay)\n",
        "\n",
        "    x = concatenate([branch1x1, branch7x7, branch7x7dbl, branch_pool],\n",
        "              axis=4,\n",
        "              name='mixed_7')\n",
        "\n",
        "    if aux_include:\n",
        "        # Auxiliary Head logits\n",
        "        aux_classifier = TimeDistributed(AveragePooling2D(\n",
        "            (5, 5), strides=(3, 3), border_mode='valid'))(x)\n",
        "        aux_classifier = conv2d_bn(\n",
        "            aux_classifier, 128, 1, 1, weight_decay=weight_decay)\n",
        "\n",
        "        # Shape of feature map before the final layer\n",
        "        # shape = aux_classifier.output_shape\n",
        "        aux_classifier = conv2d_bn(aux_classifier, 768, 5, 5,\n",
        "                                   border_mode='valid',\n",
        "                                   weight_decay=weight_decay)\n",
        "\n",
        "        aux_classifier = Flatten()(aux_classifier)\n",
        "\n",
        "        if weight_decay and weight_decay > 0:\n",
        "            aux_classifier = Dense(num_classes, activation='softmax',\n",
        "                                   W_regularizer=l2(weight_decay),\n",
        "                                   name='aux_classifier')(aux_classifier)\n",
        "        else:\n",
        "            aux_classifier = Dense(\n",
        "                num_classes, activation='softmax',\n",
        "                name='aux_classifier')(aux_classifier)\n",
        "\n",
        "    # mixed 8: 8 x 8 x 1280.\n",
        "    branch3x3 = conv2d_bn(x, 192, 1, 1, weight_decay=weight_decay)\n",
        "    branch3x3 = conv2d_bn(branch3x3, 320, 3, 3,\n",
        "                          subsample=(2, 2),\n",
        "                          border_mode='valid',\n",
        "                          weight_decay=weight_decay)\n",
        "\n",
        "    branch7x7x3 = conv2d_bn(x, 192, 1, 1, weight_decay=weight_decay)\n",
        "    branch7x7x3 = conv2d_bn(branch7x7x3, 192, 1, 7, weight_decay=weight_decay)\n",
        "    branch7x7x3 = conv2d_bn(branch7x7x3, 192, 7, 1, weight_decay=weight_decay)\n",
        "    branch7x7x3 = conv2d_bn(branch7x7x3, 192, 3, 3,\n",
        "                            subsample=(2, 2),\n",
        "                            border_mode='valid',\n",
        "                            weight_decay=weight_decay)\n",
        "\n",
        "    branch_pool = TimeDistributed(MaxPooling2D((3, 3), strides=(2, 2), border_mode='valid'))(x)\n",
        "\n",
        "    x = concatenate([branch3x3, branch7x7x3, branch_pool],\n",
        "               axis=4,\n",
        "              name='mixed_8')\n",
        "\n",
        "    # mixed 9 10: 8 x 8 x 2048\n",
        "    for i in range(2):\n",
        "        branch1x1 = conv2d_bn(x, 320, 1, 1, weight_decay=weight_decay)\n",
        "\n",
        "        branch3x3 = conv2d_bn(x, 384, 1, 1, weight_decay=weight_decay)\n",
        "        branch3x3 = concatenate([conv2d_bn(branch3x3, 384, 1, 3,\n",
        "                                     weight_decay=weight_decay),\n",
        "                           conv2d_bn(branch3x3, 384, 3, 1,\n",
        "                                     weight_decay=weight_decay)],\n",
        "                          axis=4)\n",
        "        branch3x3dbl = conv2d_bn(x, 448, 1, 1, weight_decay=weight_decay)\n",
        "        branch3x3dbl = conv2d_bn(\n",
        "            branch3x3dbl, 384, 3, 3, weight_decay=weight_decay)\n",
        "        branch3x3dbl = concatenate([conv2d_bn(branch3x3dbl, 384, 1, 3,\n",
        "                                        weight_decay=weight_decay),\n",
        "                              conv2d_bn(branch3x3dbl, 384, 3, 1,\n",
        "                                        weight_decay=weight_decay)],\n",
        "                             axis=4)\n",
        "\n",
        "        branch_pool = TimeDistributed(AveragePooling2D(\n",
        "            (3, 3), strides=(1, 1), border_mode='same'))(x)\n",
        "        branch_pool = conv2d_bn(\n",
        "            branch_pool, 192, 1, 1, weight_decay=weight_decay)\n",
        "\n",
        "        x = concatenate([branch1x1, branch3x3, branch3x3dbl, branch_pool],\n",
        "                  axis=4,\n",
        "                  name='mixed_' + str(9 + i))\n",
        "\n",
        "    # Dimension reduction\n",
        "    # 2048 x 8 x 8\n",
        "    x = conv2d_bn(x, 2048, 1, 1,\n",
        "                  weight_decay=weight_decay)\n",
        "    \n",
        "    input2 = Input((None, 2048))\n",
        "    x = TimeDistributed(GlobalAveragePooling2D())(x)\n",
        "    x = Dropout(dropout_prob)(x)\n",
        "    y = GlobalMaxPooling1D()(input2)\n",
        "    y = Model(inputs = input2  ,output = y )\n",
        "\n",
        "    layer = (y)(x)\n",
        "\n",
        "\n",
        "    # 2048\n",
        "    if weight_decay and weight_decay > 0:\n",
        "        layer = Dense(1,activation='softmax',W_regularizer=l2(weight_decay),name='layer')(layer)\n",
        "    else:\n",
        "        layer = Dense(1,activation='softmax',name='layer')(layer)\n",
        "    \n",
        "    if input_tensor is not None:\n",
        "        inputs = get_source_inputs(input_tensor)\n",
        "    else:\n",
        "        inputs = img_input\n",
        "\n",
        "    if aux_include:\n",
        "        model = Model(\n",
        "            inputs, [layer, aux_classifier],\n",
        "            name='inception_v3_with_aux')\n",
        "    else:\n",
        "        model = Model(inputs, layer, name='inception_v3')\n",
        "    print ('hi')\n",
        "\n",
        "    model.summary()\n",
        "    return model"
      ],
      "execution_count": null,
      "outputs": []
    },
    {
      "cell_type": "code",
      "metadata": {
        "id": "X7BTDVgkIccX",
        "colab_type": "code",
        "colab": {}
      },
      "source": [
        "#build model for creating the 9 models\n",
        "def get_inception_model():\n",
        " input_shape = (None,256, 256)\n",
        " x = InceptionV3(input_shape = input_shape)\n",
        " x.compile(loss='binary_crossentropy',optimizer=\"adam\",metrics=['accuracy'])\n",
        " return x"
      ],
      "execution_count": null,
      "outputs": []
    },
    {
      "cell_type": "markdown",
      "metadata": {
        "id": "9AcbIC3ij5o5",
        "colab_type": "text"
      },
      "source": [
        "### 9 Models for fitting and save them in drive"
      ]
    },
    {
      "cell_type": "code",
      "metadata": {
        "id": "qgmCh1HXw-O7",
        "colab_type": "code",
        "colab": {}
      },
      "source": [
        "model1 = get_inception_model()\n",
        "training_generator = Generator( illness = \"abnormal\", plane = \"coronal\", type1 = \"train\")\n",
        "validation_generator = Generator(illness = \"abnormal\", plane = \"coronal\", type1 = \"valid\")\n",
        "\n",
        "\n",
        "# Train model on dataset\n",
        "history_abnormal_coronal = model1.fit_generator(generator=training_generator,\n",
        "                    validation_data=validation_generator,\n",
        "                    use_multiprocessing=False,\n",
        "                    workers=6, epochs = 5 )\n"
      ],
      "execution_count": null,
      "outputs": []
    },
    {
      "cell_type": "code",
      "metadata": {
        "id": "hKAewm10fErg",
        "colab_type": "code",
        "colab": {}
      },
      "source": [
        "!mkdir -p save_inception_models\n",
        "model1.save('/content/gdrive/My Drive/save_inception_models/model1.h5')"
      ],
      "execution_count": null,
      "outputs": []
    },
    {
      "cell_type": "code",
      "metadata": {
        "id": "yzmlUVlHIjDn",
        "colab_type": "code",
        "colab": {}
      },
      "source": [
        "model2 = get_inception_model()\n",
        "training_generator = Generator( illness = \"abnormal\", plane = \"sagittal\", type1 = \"train\")\n",
        "validation_generator = Generator(illness = \"abnormal\", plane = \"sagittal\", type1 = \"valid\")\n",
        "\n",
        "\n",
        "# Train model on dataset\n",
        "history_abnormal_sagittal = model2.fit_generator(generator=training_generator,\n",
        "                    validation_data=validation_generator,\n",
        "                    use_multiprocessing=False,\n",
        "                    workers=6, epochs = 5 )"
      ],
      "execution_count": null,
      "outputs": []
    },
    {
      "cell_type": "code",
      "metadata": {
        "id": "s3x6Uvc6sG_2",
        "colab_type": "code",
        "colab": {}
      },
      "source": [
        "!mkdir -p save_inception_models\n",
        "model2.save('/content/gdrive/My Drive/save_inception_models/model2.h5')"
      ],
      "execution_count": null,
      "outputs": []
    },
    {
      "cell_type": "code",
      "metadata": {
        "id": "u1jYfYm5I5_P",
        "colab_type": "code",
        "colab": {}
      },
      "source": [
        "model3 = get_inception_model()\n",
        "training_generator = Generator( illness = \"abnormal\", plane = \"axial\", type1 = \"train\")\n",
        "validation_generator = Generator(illness = \"abnormal\", plane = \"axial\", type1 = \"valid\")\n",
        "\n",
        "\n",
        "# Train model on dataset\n",
        "history_abnormal_axial = model3.fit_generator(generator=training_generator,\n",
        "                    validation_data=validation_generator,\n",
        "                    use_multiprocessing=True,\n",
        "                    workers=6, epochs=5)"
      ],
      "execution_count": null,
      "outputs": []
    },
    {
      "cell_type": "code",
      "metadata": {
        "id": "kjmNiPITR42m",
        "colab_type": "code",
        "colab": {}
      },
      "source": [
        "!mkdir -p save_inception_models\n",
        "model3.save('/content/gdrive/My Drive/save_inception_models/model3.h5')"
      ],
      "execution_count": null,
      "outputs": []
    },
    {
      "cell_type": "code",
      "metadata": {
        "id": "g05voB8eIjTa",
        "colab_type": "code",
        "colab": {}
      },
      "source": [
        "model4 = get_inception_model()\n",
        "training_generator = Generator( illness = \"acl\", plane = \"axial\", type1 = \"train\")\n",
        "validation_generator = Generator(illness = \"acl\", plane = \"axial\", type1 = \"valid\")\n",
        "\n",
        "\n",
        "# Train model on dataset\n",
        "history_acl_axial = model4.fit_generator(generator=training_generator,\n",
        "                    validation_data=validation_generator,\n",
        "                    use_multiprocessing=False,\n",
        "                    workers=6, epochs = 5 )"
      ],
      "execution_count": null,
      "outputs": []
    },
    {
      "cell_type": "code",
      "metadata": {
        "id": "Dr-bfeZ-cv5f",
        "colab_type": "code",
        "colab": {}
      },
      "source": [
        "!mkdir -p save_inception_models\n",
        "model4.save('/content/gdrive/My Drive/save_inception_models/model4.h5')"
      ],
      "execution_count": null,
      "outputs": []
    },
    {
      "cell_type": "code",
      "metadata": {
        "id": "uN84mZ1qIjeQ",
        "colab_type": "code",
        "colab": {}
      },
      "source": [
        "model5 = get_inception_model()\n",
        "training_generator = Generator( illness = \"acl\", plane = \"coronal\", type1 = \"train\")\n",
        "validation_generator = Generator(illness = \"acl\", plane = \"coronal\", type1 = \"valid\")\n",
        "\n",
        "\n",
        "# Train model on dataset\n",
        "history_acl_coronal = model5.fit_generator(generator=training_generator,\n",
        "                    validation_data=validation_generator,\n",
        "                    use_multiprocessing=False,\n",
        "                    workers=6, epochs = 5 )"
      ],
      "execution_count": null,
      "outputs": []
    },
    {
      "cell_type": "code",
      "metadata": {
        "id": "0SYvun3snhSP",
        "colab_type": "code",
        "colab": {}
      },
      "source": [
        "!mkdir -p save_inception_models\n",
        "model5.save('/content/gdrive/My Drive/save_inception_models/model5.h5')"
      ],
      "execution_count": null,
      "outputs": []
    },
    {
      "cell_type": "code",
      "metadata": {
        "id": "1qYR9SQ_Ijqk",
        "colab_type": "code",
        "colab": {}
      },
      "source": [
        "model6 = get_inception_model()\n",
        "training_generator = Generator( illness = \"acl\", plane = \"sagittal\", type1 = \"train\")\n",
        "validation_generator = Generator(illness = \"acl\", plane = \"sagittal\", type1 = \"valid\")\n",
        "\n",
        "\n",
        "# Train model on dataset\n",
        "history_acl_sagittal = model6.fit_generator(generator=training_generator,\n",
        "                    validation_data=validation_generator,\n",
        "                    use_multiprocessing=False,\n",
        "                    workers=6, epochs = 5 )"
      ],
      "execution_count": null,
      "outputs": []
    },
    {
      "cell_type": "code",
      "metadata": {
        "id": "fqikfVXRIj3r",
        "colab_type": "code",
        "colab": {}
      },
      "source": [
        "model7 = get_inception_model()\n",
        "training_generator = Generator( illness = \"meniscus\", plane = \"axial\", type1 = \"train\")\n",
        "validation_generator = Generator(illness = \"meniscus\", plane = \"axial\", type1 = \"valid\")\n",
        "\n",
        "\n",
        "# Train model on dataset\n",
        "history_meniscus_axial = model7.fit_generator(generator=training_generator,\n",
        "                    validation_data=validation_generator,\n",
        "                    use_multiprocessing=False,\n",
        "                    workers=6, epochs = 5 )"
      ],
      "execution_count": null,
      "outputs": []
    },
    {
      "cell_type": "code",
      "metadata": {
        "id": "N9rtR5iqIkDO",
        "colab_type": "code",
        "colab": {}
      },
      "source": [
        "model8 = get_inception_model()\n",
        "training_generator = Generator( illness = \"meniscus\", plane = \"coronal\", type1 = \"train\")\n",
        "validation_generator = Generator(illness = \"meniscus\", plane = \"coronal\", type1 = \"valid\")\n",
        "\n",
        "\n",
        "# Train model on dataset\n",
        "history_meniscus_coronal = model8.fit_generator(generator=training_generator,\n",
        "                    validation_data=validation_generator,\n",
        "                    use_multiprocessing=False,\n",
        "                    workers=6, epochs = 5 )"
      ],
      "execution_count": null,
      "outputs": []
    },
    {
      "cell_type": "code",
      "metadata": {
        "id": "sovj-iXSIkZH",
        "colab_type": "code",
        "colab": {}
      },
      "source": [
        "model9 = get_inception_model()\n",
        "training_generator = Generator( illness = \"meniscus\", plane = \"sagittal\", type1 = \"train\")\n",
        "validation_generator = Generator(illness = \"meniscus\", plane = \"sagittal\", type1 = \"valid\")\n",
        "\n",
        "\n",
        "# Train model on dataset\n",
        "history_meniscus_sagittal = model9.fit_generator(generator=training_generator,\n",
        "                    validation_data=validation_generator,\n",
        "                    use_multiprocessing=False,\n",
        "                    workers=6, epochs = 5 )"
      ],
      "execution_count": null,
      "outputs": []
    },
    {
      "cell_type": "code",
      "metadata": {
        "colab_type": "code",
        "id": "VEOba7V7w5F1",
        "colab": {}
      },
      "source": [
        "abnormalTestLabels = load_labels('test','abnormal')\n",
        "aclTestLabels = load_labels('test','acl')\n",
        "meniscusTestLabels = load_labels('test','meniscus')\n",
        "\n",
        "abnormalTrainLabels = load_labels('train','abnormal')\n",
        "aclTrainLabels = load_labels('train','acl')\n",
        "meniscusTrainLabels = load_labels('train','meniscus')\n",
        "\n",
        "abnormalValidLabels = load_labels('valid','abnormal')\n",
        "aclValidLabels = load_labels('valid','acl')\n",
        "meniscusValidLabels = load_labels('valid','meniscus')\n"
      ],
      "execution_count": null,
      "outputs": []
    },
    {
      "cell_type": "markdown",
      "metadata": {
        "colab_type": "text",
        "id": "MofFzYZYw5F3"
      },
      "source": [
        "# Load Models"
      ]
    },
    {
      "cell_type": "markdown",
      "metadata": {
        "colab_type": "text",
        "id": "AtwzUPLHw5F3"
      },
      "source": [
        "Load the models and get thier prediction"
      ]
    },
    {
      "cell_type": "code",
      "metadata": {
        "colab_type": "code",
        "id": "q_zuiEnhw5F3",
        "colab": {}
      },
      "source": [
        "model_abnormal_axial = load_model(\"/content/gdrive/My Drive/save_inception_models/model3.h5\")\n",
        "print(model_abnormal_axial)"
      ],
      "execution_count": null,
      "outputs": []
    },
    {
      "cell_type": "code",
      "metadata": {
        "colab_type": "code",
        "id": "l9W39kZyw5F6",
        "colab": {}
      },
      "source": [
        "generator = Generator( illness = \"abnormal\", plane = \"axial\", type1 = \"test\")\n",
        "predict_abnormal_axial_test = model_abnormal_axial.predict_generator(generator)\n",
        "\n",
        "generator = Generator( illness = \"abnormal\", plane = \"axial\", type1 = \"train\")\n",
        "predict_abnormal_axial_train = model_abnormal_axial.predict_generator(generator)\n",
        "\n",
        "generator = Generator( illness = \"abnormal\", plane = \"axial\", type1 = \"valid\")\n",
        "predict_abnormal_axial_valid = model_abnormal_axial.predict_generator(generator)\n",
        "\n",
        "print(\"prediction done\")"
      ],
      "execution_count": null,
      "outputs": []
    },
    {
      "cell_type": "code",
      "metadata": {
        "colab_type": "code",
        "id": "BoiB7DC0w5F8",
        "colab": {}
      },
      "source": [
        "model_abnormal_coronal = load_model(\"/content/gdrive/My Drive/save_inception_models/model1.h5\")\n",
        "print(model_abnormal_coronal)"
      ],
      "execution_count": null,
      "outputs": []
    },
    {
      "cell_type": "code",
      "metadata": {
        "colab_type": "code",
        "id": "KrrMfxAJw5F-",
        "colab": {}
      },
      "source": [
        "generator = Generator( illness = \"abnormal\", plane = \"coronal\", type1 = \"test\")\n",
        "predict_abnormal_coronal_test = model_abnormal_coronal.predict_generator(generator=generator)\n",
        "\n",
        "generator = Generator( illness = \"abnormal\", plane = \"coronal\", type1 = \"train\")\n",
        "predict_abnormal_coronal_train = model_abnormal_coronal.predict_generator(generator=generator)\n",
        "\n",
        "generator = Generator( illness = \"abnormal\", plane = \"coronal\", type1 = \"valid\")\n",
        "predict_abnormal_coronal_valid = model_abnormal_coronal.predict_generator(generator=generator)\n",
        "\n",
        "print(\"--> prediction done\")"
      ],
      "execution_count": null,
      "outputs": []
    },
    {
      "cell_type": "code",
      "metadata": {
        "colab_type": "code",
        "id": "Vo1n8dgaw5F_",
        "colab": {}
      },
      "source": [
        "model_abnormal_sagittal = load_model(\"/content/gdrive/My Drive/save_inception_models/model2.h5\")\n",
        "print(model_abnormal_sagittal)"
      ],
      "execution_count": null,
      "outputs": []
    },
    {
      "cell_type": "code",
      "metadata": {
        "colab_type": "code",
        "id": "S26tWhF8w5GC",
        "colab": {}
      },
      "source": [
        "generator = Generator( illness = \"abnormal\", plane = \"sagittal\", type1 = \"test\")\n",
        "predict_abnormal_sagittal_test = model_abnormal_sagittal.predict_generator(generator=generator)\n",
        "\n",
        "generator = Generator( illness = \"abnormal\", plane = \"sagittal\", type1 = \"train\")\n",
        "predict_abnormal_sagittal_train = model_abnormal_sagittal.predict_generator(generator=generator)\n",
        "\n",
        "generator = Generator( illness = \"abnormal\", plane = \"sagittal\", type1 = \"valid\")\n",
        "predict_abnormal_sagittal_valid = model_abnormal_sagittal.predict_generator(generator=generator)\n",
        "\n",
        "print(\"--> prediction done\")"
      ],
      "execution_count": null,
      "outputs": []
    },
    {
      "cell_type": "code",
      "metadata": {
        "colab_type": "code",
        "id": "nN0buYarw5GF",
        "colab": {}
      },
      "source": [
        "model_acl_axial = load_model(\"/content/gdrive/My Drive/save_inception_models/model4.h5\")\n",
        "print(model_acl_axial)"
      ],
      "execution_count": null,
      "outputs": []
    },
    {
      "cell_type": "code",
      "metadata": {
        "colab_type": "code",
        "id": "X8JSGALmw5GI",
        "colab": {}
      },
      "source": [
        "generator = Generator( illness = \"acl\", plane = \"axial\", type1 = \"test\")\n",
        "predict_acl_axial_test = model_acl_axial.predict_generator(generator=generator)\n",
        "\n",
        "generator = Generator( illness = \"acl\", plane = \"axial\", type1 = \"train\")\n",
        "predict_acl_axial_train = model_acl_axial.predict_generator(generator=generator)\n",
        "\n",
        "generator = Generator( illness = \"acl\", plane = \"axial\", type1 = \"valid\")\n",
        "predict_acl_axial_valid = model_acl_axial.predict_generator(generator=generator)\n",
        "\n",
        "print(\"--> prediction done\")"
      ],
      "execution_count": null,
      "outputs": []
    },
    {
      "cell_type": "code",
      "metadata": {
        "colab_type": "code",
        "id": "mdUAEEuDw5GM",
        "colab": {}
      },
      "source": [
        "model_acl_coronal = load_model(\"/content/gdrive/My Drive/save_inception_models/model5.h5\")\n",
        "print(model_acl_coronal)"
      ],
      "execution_count": null,
      "outputs": []
    },
    {
      "cell_type": "code",
      "metadata": {
        "colab_type": "code",
        "id": "d83-VCtlw5GP",
        "colab": {}
      },
      "source": [
        "generator = Generator( illness = \"acl\", plane = \"coronal\", type1 = \"test\")\n",
        "predict_acl_coronal_test = model_acl_coronal.predict_generator(generator=generator)\n",
        "\n",
        "generator = Generator( illness = \"acl\", plane = \"coronal\", type1 = \"train\")\n",
        "predict_acl_coronal_train = model_acl_coronal.predict_generator(generator=generator)\n",
        "\n",
        "generator = Generator( illness = \"acl\", plane = \"coronal\", type1 = \"valid\")\n",
        "predict_acl_coronal_valid = model_acl_coronal.predict_generator(generator=generator)\n",
        "\n",
        "print(\"--> prediction done\")"
      ],
      "execution_count": null,
      "outputs": []
    },
    {
      "cell_type": "code",
      "metadata": {
        "colab_type": "code",
        "id": "9i0AICkBw5GS",
        "colab": {}
      },
      "source": [
        "model_acl_sagittal = load_model(\"/content/gdrive/My Drive/save_inception_models/model6.h5\")\n",
        "print(model_acl_sagittal)"
      ],
      "execution_count": null,
      "outputs": []
    },
    {
      "cell_type": "code",
      "metadata": {
        "colab_type": "code",
        "id": "kzWq7wJAw5GX",
        "colab": {}
      },
      "source": [
        "generator = Generator( illness = \"acl\", plane = \"sagittal\", type1 = \"test\")\n",
        "predict_acl_sagittal_test = model_acl_sagittal.predict_generator(generator=generator)\n",
        "\n",
        "generator = Generator( illness = \"acl\", plane = \"sagittal\", type1 = \"train\")\n",
        "predict_acl_sagittal_train = model_acl_sagittal.predict_generator(generator=generator)\n",
        "\n",
        "generator = Generator( illness = \"acl\", plane = \"sagittal\", type1 = \"valid\")\n",
        "predict_acl_sagittal_valid = model_acl_sagittal.predict_generator(generator=generator)\n",
        "\n",
        "print(\"--> prediction done\")"
      ],
      "execution_count": null,
      "outputs": []
    },
    {
      "cell_type": "code",
      "metadata": {
        "colab_type": "code",
        "id": "ChBOTHN1w5Ga",
        "colab": {}
      },
      "source": [
        "model_meniscus_axial = load_model(\"/content/gdrive/My Drive/save_inception_models/model7.h5\")\n",
        "print(model_meniscus_axial)"
      ],
      "execution_count": null,
      "outputs": []
    },
    {
      "cell_type": "code",
      "metadata": {
        "colab_type": "code",
        "id": "RZIVkxjLw5Gb",
        "colab": {}
      },
      "source": [
        "generator = Generator( illness = \"meniscus\", plane = \"axial\", type1 = \"test\")\n",
        "predict_meniscus_axial_test = model_meniscus_axial.predict_generator(generator=generator)\n",
        "\n",
        "generator = Generator( illness = \"meniscus\", plane = \"axial\", type1 = \"train\")\n",
        "predict_meniscus_axial_train = model_meniscus_axial.predict_generator(generator=generator)\n",
        "\n",
        "generator = Generator( illness = \"meniscus\", plane = \"axial\", type1 = \"valid\")\n",
        "predict_meniscus_axial_valid = model_meniscus_axial.predict_generator(generator=generator)\n",
        "\n",
        "print(\"--> prediction done\")"
      ],
      "execution_count": null,
      "outputs": []
    },
    {
      "cell_type": "code",
      "metadata": {
        "colab_type": "code",
        "id": "uNhDpaHsw5Gd",
        "colab": {}
      },
      "source": [
        "model_meniscus_coronal = load_model(\"/content/gdrive/My Drive/save_inception_models/model8.h5\")\n",
        "print(model_meniscus_coronal)"
      ],
      "execution_count": null,
      "outputs": []
    },
    {
      "cell_type": "code",
      "metadata": {
        "colab_type": "code",
        "id": "n3-nTsAtw5Gf",
        "colab": {}
      },
      "source": [
        "generator = Generator( illness = \"meniscus\", plane = \"coronal\", type1 = \"test\")\n",
        "predict_meniscus_coronal_test = model_meniscus_coronal.predict_generator(generator=generator)\n",
        "\n",
        "generator = Generator( illness = \"meniscus\", plane = \"coronal\", type1 = \"train\")\n",
        "predict_meniscus_coronal_train = model_meniscus_coronal.predict_generator(generator=generator)\n",
        "\n",
        "generator = Generator( illness = \"meniscus\", plane = \"coronal\", type1 = \"valid\")\n",
        "predict_meniscus_coronal_valid = model_meniscus_coronal.predict_generator(generator=generator)\n",
        "\n",
        "print(\"--> prediction done\")"
      ],
      "execution_count": null,
      "outputs": []
    },
    {
      "cell_type": "code",
      "metadata": {
        "colab_type": "code",
        "id": "_PqRkNEgw5Gj",
        "colab": {}
      },
      "source": [
        "model_meniscus_sagittal = load_model(\"/content/gdrive/My Drive/save_inception_models/model9.h5\")\n",
        "print(model_meniscus_sagittal)"
      ],
      "execution_count": null,
      "outputs": []
    },
    {
      "cell_type": "code",
      "metadata": {
        "colab_type": "code",
        "id": "AoeQjzipw5Gn",
        "colab": {}
      },
      "source": [
        "generator = Generator( illness = \"meniscus\", plane = \"sagittal\", type1 = \"test\")\n",
        "predict_meniscus_sagittal_test = model_meniscus_sagittal.predict_generator(generator=generator)\n",
        "\n",
        "generator = Generator( illness = \"meniscus\", plane = \"sagittal\", type1 = \"train\")\n",
        "predict_meniscus_sagittal_train = model_meniscus_sagittal.predict_generator(generator=generator)\n",
        "\n",
        "generator = Generator( illness = \"meniscus\", plane = \"sagittal\", type1 = \"valid\")\n",
        "predict_meniscus_sagittal_valid = model_meniscus_sagittal.predict_generator(generator=generator)\n",
        "\n",
        "print(\"--> prediction done\")"
      ],
      "execution_count": null,
      "outputs": []
    },
    {
      "cell_type": "markdown",
      "metadata": {
        "id": "o0n6br7znyco",
        "colab_type": "text"
      },
      "source": [
        "## Evaluation of the 9 models"
      ]
    },
    {
      "cell_type": "code",
      "metadata": {
        "colab_type": "code",
        "id": "l4sfxYFxw5Go",
        "colab": {}
      },
      "source": [
        "generator = Generator( illness = \"abnormal\", plane = \"coronal\", type1 = \"test\")\n",
        "evaluate_abnormal_coronal = model_abnormal_coronal.evaluate_generator(generator=generator)\n",
        "loss , acc = evaluate_abnormal_coronal\n",
        "print(\"evaluation done\")\n",
        "print('\\nTesting loss: {}, acc: {}\\n'.format(loss, acc))"
      ],
      "execution_count": null,
      "outputs": []
    },
    {
      "cell_type": "code",
      "metadata": {
        "colab_type": "code",
        "id": "Xz4F-4BQw5Gr",
        "colab": {}
      },
      "source": [
        "generator = Generator( illness = \"abnormal\", plane = \"sagittal\", type1 = \"test\")\n",
        "evaluate_abnormal_sagittal = model_abnormal_sagittal.evaluate_generator(generator=generator)\n",
        "loss , acc = evaluate_abnormal_sagittal\n",
        "print(\"evaluation done\")\n",
        "print('\\nTesting loss: {}, acc: {}\\n'.format(loss, acc))"
      ],
      "execution_count": null,
      "outputs": []
    },
    {
      "cell_type": "code",
      "metadata": {
        "colab_type": "code",
        "id": "Jf_yBf_Cw5Gt",
        "colab": {}
      },
      "source": [
        "generator = Generator( illness = \"abnormal\", plane = \"axial\", type1 = \"test\")\n",
        "evaluate_abnormal_axial = model_abnormal_axial.evaluate_generator( generator)\n",
        "loss , acc = evaluate_abnormal_axial\n",
        "print(\"evaluation done\")\n",
        "print('\\nTesting loss: {}, acc: {}\\n'.format(loss, acc))"
      ],
      "execution_count": null,
      "outputs": []
    },
    {
      "cell_type": "code",
      "metadata": {
        "colab_type": "code",
        "id": "WfcHbSvUw5Gw",
        "colab": {}
      },
      "source": [
        "generator = Generator( illness = \"acl\", plane = \"axial\", type1 = \"test\")\n",
        "evaluate_acl_axial = model_acl_axial.evaluate_generator(generator=generator)\n",
        "loss , acc = evaluate_acl_axial\n",
        "print(\"evaluation done\")\n",
        "print('\\nTesting loss: {}, acc: {}\\n'.format(loss, acc))"
      ],
      "execution_count": null,
      "outputs": []
    },
    {
      "cell_type": "code",
      "metadata": {
        "colab_type": "code",
        "id": "z5tSMeOGw5Gz",
        "colab": {}
      },
      "source": [
        "generator = Generator( illness = \"acl\", plane = \"coronal\", type1 = \"test\")\n",
        "evaluate_acl_coronal = model_acl_coronal.evaluate_generator(generator=generator)\n",
        "loss , acc = evaluate_acl_coronal\n",
        "print(\"evaluation done\")\n",
        "print('\\nTesting loss: {}, acc: {}\\n'.format(loss, acc))"
      ],
      "execution_count": null,
      "outputs": []
    },
    {
      "cell_type": "code",
      "metadata": {
        "colab_type": "code",
        "id": "j8SPnp49w5G1",
        "colab": {}
      },
      "source": [
        "generator = Generator( illness = \"acl\", plane = \"sagittal\", type1 = \"test\")\n",
        "evaluate_acl_sagittal = model_acl_sagittal.evaluate_generator(generator=generator)\n",
        "loss , acc = evaluate_acl_sagittal\n",
        "print(\"evaluation done\")\n",
        "print('\\nTesting loss: {}, acc: {}\\n'.format(loss, acc))"
      ],
      "execution_count": null,
      "outputs": []
    },
    {
      "cell_type": "code",
      "metadata": {
        "colab_type": "code",
        "id": "GQjJunkPw5G3",
        "colab": {}
      },
      "source": [
        "generator = Generator( illness = \"meniscus\", plane = \"axial\", type1 = \"test\")\n",
        "evaluate_meniscus_axial = model_meniscus_axial.evaluate_generator(generator=generator)\n",
        "loss , acc = evaluate_meniscus_axial\n",
        "print(\"evaluation done\")\n",
        "print('\\nTesting loss: {}, acc: {}\\n'.format(loss, acc))"
      ],
      "execution_count": null,
      "outputs": []
    },
    {
      "cell_type": "code",
      "metadata": {
        "colab_type": "code",
        "id": "2CkHV_7Ow5G4",
        "colab": {}
      },
      "source": [
        "generator = Generator( illness = \"meniscus\", plane = \"coronal\", type1 = \"test\")\n",
        "evaluate_meniscus_coronal = model_meniscus_coronal.evaluate_generator(generator=generator)\n",
        "loss , acc = evaluate_meniscus_coronal\n",
        "print(\"evaluation done\")\n",
        "print('\\nTesting loss: {}, acc: {}\\n'.format(loss, acc))"
      ],
      "execution_count": null,
      "outputs": []
    },
    {
      "cell_type": "code",
      "metadata": {
        "colab_type": "code",
        "id": "WdnVXRmWw5G6",
        "colab": {}
      },
      "source": [
        "generator = Generator( illness = \"meniscus\", plane = \"sagittal\", type1 = \"test\")\n",
        "evaluate_meniscus_sagittal = model_meniscus_sagittal.evaluate_generator(generator=generator)\n",
        "loss , acc = evaluate_meniscus_sagittal\n",
        "print(\"evaluation done\")\n",
        "print('\\nTesting loss: {}, acc: {}\\n'.format(loss, acc))"
      ],
      "execution_count": null,
      "outputs": []
    },
    {
      "cell_type": "markdown",
      "metadata": {
        "colab_type": "text",
        "id": "c7pKRkD3w5G9"
      },
      "source": [
        "# Last Abnormal Model"
      ]
    },
    {
      "cell_type": "code",
      "metadata": {
        "colab_type": "code",
        "id": "jggi9hwYw5G9",
        "colab": {}
      },
      "source": [
        "Abnormal_model = logistic_regression()\n",
        "\n",
        "abnormal_train_predictions = []\n",
        "\n",
        "abnormal_train_predictions.append(predict_abnormal_axial_train)\n",
        "abnormal_train_predictions.append(predict_abnormal_coronal_train)\n",
        "abnormal_train_predictions.append(predict_abnormal_sagittal_train)\n",
        "\n",
        "abnormal_train_predictions = np.transpose(abnormal_train_predictions)\n",
        "\n",
        "#print(np.array(abnormal_train_predictions)[0].shape)\n",
        "\n",
        "abnormal_valid_predictions = []\n",
        "abnormal_valid_predictions.append(predict_abnormal_axial_valid)\n",
        "abnormal_valid_predictions.append(predict_abnormal_coronal_valid)\n",
        "abnormal_valid_predictions.append(predict_abnormal_sagittal_valid)\n",
        "\n",
        "#print(np.array(abnormalValidLabels).shape)\n",
        "\n",
        "abnormal_valid_predictions = np.transpose(abnormal_valid_predictions)\n",
        "\n",
        "\n",
        "Abnormal_model.fit( np.array(abnormal_train_predictions)[0] , [abnormalTrainLabels],\n",
        "                   validation_data = ( np.array(abnormal_valid_predictions)[0] , np.array(abnormalValidLabels)),\n",
        "                   epochs = 50,use_multiprocessing=True, workers=6)\n",
        "\n",
        "Abnormal_model.save(\"/content/gdrive/My Drive/save_inception_models/Abnormal_model.h5\")\n"
      ],
      "execution_count": null,
      "outputs": []
    },
    {
      "cell_type": "code",
      "metadata": {
        "colab_type": "code",
        "id": "Bksbg5GOw5G_",
        "colab": {}
      },
      "source": [
        "abnormal_test_predictions = []\n",
        "abnormal_test_predictions.append(predict_abnormal_axial_test)\n",
        "abnormal_test_predictions.append(predict_abnormal_coronal_test)\n",
        "abnormal_test_predictions.append(predict_abnormal_sagittal_test)\n",
        "\n",
        "abnormal_test_predictions = np.transpose(abnormal_test_predictions)\n",
        "\n",
        "\n",
        "loss1 , acc1 = Abnormal_model.evaluate(abnormal_test_predictions[0] , [abnormalTestLabels])\n",
        "print(\"evaluation done\")\n",
        "print('\\nTesting loss: {}, acc: {}\\n'.format(loss1, acc1))"
      ],
      "execution_count": null,
      "outputs": []
    },
    {
      "cell_type": "markdown",
      "metadata": {
        "colab_type": "text",
        "id": "ZBfURx_fw5HA"
      },
      "source": [
        "# Last ACL Model"
      ]
    },
    {
      "cell_type": "code",
      "metadata": {
        "colab_type": "code",
        "id": "dm0MwbkUw5HA",
        "colab": {}
      },
      "source": [
        "ACL_model = logistic_regression()\n",
        "\n",
        "acl_train_predictions = []\n",
        "acl_train_predictions.append(predict_acl_axial_train)\n",
        "acl_train_predictions.append(predict_acl_coronal_train)\n",
        "acl_train_predictions.append(predict_acl_sagittal_train)\n",
        "\n",
        "acl_train_predictions = np.transpose(acl_train_predictions)\n",
        "\n",
        "acl_valid_predictions = []\n",
        "acl_valid_predictions.append(predict_acl_axial_valid)\n",
        "acl_valid_predictions.append(predict_acl_coronal_valid)\n",
        "acl_valid_predictions.append(predict_acl_sagittal_valid)\n",
        "\n",
        "acl_valid_predictions = np.transpose(acl_valid_predictions)\n",
        "\n",
        "ACL_model.fit(np.array(acl_train_predictions)[0] , [aclTrainLabels],\n",
        "                   validation_data = (np.array(acl_valid_predictions)[0], [aclValidLabels]),\n",
        "                   epochs = 50,use_multiprocessing=True, workers=6)\n",
        "\n",
        "ACL_model.save(\"/content/gdrive/My Drive/save_inception_models/ACL_model.h5\")"
      ],
      "execution_count": null,
      "outputs": []
    },
    {
      "cell_type": "code",
      "metadata": {
        "colab_type": "code",
        "id": "FWWzXlcow5HD",
        "colab": {}
      },
      "source": [
        "acl_test_predictions = []\n",
        "acl_test_predictions.append(predict_acl_axial_test)\n",
        "acl_test_predictions.append(predict_acl_coronal_test)\n",
        "acl_test_predictions.append(predict_acl_sagittal_test)\n",
        "\n",
        "acl_test_predictions = np.transpose(acl_test_predictions)\n",
        "\n",
        "loss2, acc2 = ACL_model.evaluate(acl_test_predictions[0], [aclTestLabels])\n",
        "print(\"evaluation done\")\n",
        "print('\\nTesting loss: {}, acc: {}\\n'.format(loss2, acc2))"
      ],
      "execution_count": null,
      "outputs": []
    },
    {
      "cell_type": "markdown",
      "metadata": {
        "colab_type": "text",
        "id": "6RR7Zhtfw5HE"
      },
      "source": [
        "# Last Meniscus Model"
      ]
    },
    {
      "cell_type": "code",
      "metadata": {
        "colab_type": "code",
        "id": "iVtQ2tZow5HF",
        "colab": {}
      },
      "source": [
        "Meniscus_model = logistic_regression()\n",
        "\n",
        "meniscus_train_predictions = []\n",
        "meniscus_train_predictions.append(predict_meniscus_axial_train)\n",
        "meniscus_train_predictions.append(predict_meniscus_coronal_train)\n",
        "meniscus_train_predictions.append(predict_meniscus_sagittal_train)\n",
        "\n",
        "meniscus_train_predictions = np.transpose(meniscus_train_predictions)\n",
        "\n",
        "meniscus_valid_predictions = []\n",
        "meniscus_valid_predictions.append(predict_meniscus_axial_valid)\n",
        "meniscus_valid_predictions.append(predict_meniscus_coronal_valid)\n",
        "meniscus_valid_predictions.append(predict_meniscus_sagittal_valid)\n",
        "\n",
        "meniscus_valid_predictions = np.transpose(meniscus_valid_predictions)\n",
        "\n",
        "Meniscus_model.fit(np.array(meniscus_train_predictions)[0] , [meniscusTrainLabels],\n",
        "                   validation_data = (np.array(meniscus_valid_predictions)[0], [meniscusValidLabels]),\n",
        "                   epochs = 50,use_multiprocessing=True, workers=6)\n",
        "\n",
        "Meniscus_model.save(\"/content/gdrive/My Drive/save_inception_models/Meniscus_model.h5\")"
      ],
      "execution_count": null,
      "outputs": []
    },
    {
      "cell_type": "code",
      "metadata": {
        "colab_type": "code",
        "id": "UskKYmldw5HH",
        "colab": {}
      },
      "source": [
        "meniscus_test_predictions = []\n",
        "meniscus_test_predictions.append(predict_meniscus_axial_test)\n",
        "meniscus_test_predictions.append(predict_meniscus_coronal_test)\n",
        "meniscus_test_predictions.append(predict_meniscus_sagittal_test)\n",
        "meniscus_test_predictions = np.transpose(meniscus_test_predictions)\n",
        "loss3, acc3 = Meniscus_model.evaluate(meniscus_test_predictions[0] ,   [meniscusTestLabels])\n",
        "print(\"evaluation done\")\n",
        "print('\\nTesting loss: {}, acc: {}\\n'.format(loss3, acc3))"
      ],
      "execution_count": null,
      "outputs": []
    },
    {
      "cell_type": "markdown",
      "metadata": {
        "colab_type": "text",
        "id": "FPQBJufRw5HJ"
      },
      "source": [
        "# Final Accuaracy"
      ]
    },
    {
      "cell_type": "code",
      "metadata": {
        "colab_type": "code",
        "id": "49aLBQpBw5HJ",
        "colab": {}
      },
      "source": [
        "print('\\nAbnormal Accuracy: {}'.format(acc1))\n",
        "print('Abnormal Loss    : {}'.format(loss1))\n",
        "print('\\nACL Accuracy     : {}'.format(acc2))\n",
        "print('ACL Loss         : {}'.format(loss2))\n",
        "print('\\nMeniscus Accuracy: {}\\n'.format(acc3))\n",
        "print('Meniscus Loss    : {}\\n'.format(loss3))"
      ],
      "execution_count": null,
      "outputs": []
    },
    {
      "cell_type": "markdown",
      "metadata": {
        "id": "u-IKD5Q81OCF",
        "colab_type": "text"
      },
      "source": [
        "# ResNet Model Implementation"
      ]
    },
    {
      "cell_type": "code",
      "metadata": {
        "id": "aOmGNwBbdPa0",
        "colab_type": "code",
        "colab": {}
      },
      "source": [
        "from keras.models import Sequential\n",
        "from keras.layers import Dense\n",
        "from keras.layers import GlobalMaxPooling1D\n",
        "import pandas as pd\n",
        "import os\n",
        "from keras.preprocessing import image\n",
        "from keras.applications.vgg16 import preprocess_input\n",
        "from numpy import moveaxis\n",
        "from numpy import asarray\n",
        "import keras\n",
        "from keras import models\n",
        "from keras import layers\n",
        "from keras.models import Model\n",
        "from keras.layers.wrappers import TimeDistributed\n",
        "from keras.layers import Dense, Input\n",
        "from keras.layers.convolutional import Conv2D\n",
        "from keras.layers import Conv2D, MaxPooling2D, Embedding, Reshape, Concatenate, Dropout\n",
        "from keras.layers import GlobalAveragePooling2D\n",
        "from keras.layers import GlobalAveragePooling1D\n",
        "from keras.utils import plot_model "
      ],
      "execution_count": null,
      "outputs": []
    },
    {
      "cell_type": "code",
      "metadata": {
        "id": "clUBt10rhACF",
        "colab_type": "code",
        "colab": {}
      },
      "source": [
        "import numpy as np\n",
        "from keras import layers\n",
        "from keras.layers import Input, Add, Dense, Activation, ZeroPadding2D, BatchNormalization, Flatten, Conv2D, AveragePooling2D, MaxPooling2D, GlobalMaxPooling2D\n",
        "from keras.models import Model, load_model\n",
        "from keras.preprocessing import image\n",
        "from keras.utils import layer_utils\n",
        "from keras.utils.data_utils import get_file\n",
        "from keras.applications.imagenet_utils import preprocess_input\n",
        "import pydot\n",
        "from IPython.display import SVG\n",
        "from keras.utils.vis_utils import model_to_dot\n",
        "from keras.utils import plot_model\n",
        "#from resnets_utils import *\n",
        "from keras.initializers import glorot_uniform\n",
        "import scipy.misc\n",
        "from matplotlib.pyplot import imshow\n",
        "%matplotlib inline\n",
        "\n",
        "import keras.backend as K\n",
        "K.set_image_data_format('channels_last')\n",
        "K.set_learning_phase(1)"
      ],
      "execution_count": null,
      "outputs": []
    },
    {
      "cell_type": "code",
      "metadata": {
        "id": "ZIvB5ggwYVHz",
        "colab_type": "code",
        "colab": {}
      },
      "source": [
        "from keras.models import Model\n",
        "from keras.layers import Input\n",
        "from keras.layers import Activation\n",
        "from keras.layers import Conv2D\n",
        "from keras.layers import MaxPooling2D\n",
        "from keras.layers import add\n",
        "from keras.utils import plot_model\n",
        "\n",
        "def residual_module(layer_in, n_filters):\n",
        "\tmerge_input = layer_in\n",
        "\t# check if the number of filters needs to be increase\n",
        "\tif layer_in.shape[-1] != n_filters:\n",
        "\t\tmerge_input = Conv2D(n_filters, (1,1), padding='same', activation='relu', kernel_initializer='he_normal')(layer_in)\n",
        "\t# conv1\n",
        "\tconv1 = Conv2D(n_filters, (3,3), padding='same', activation='relu', kernel_initializer='he_normal')(layer_in)\n",
        "\t# conv2\n",
        "\tconv2 = Conv2D(n_filters, (3,3), padding='same', activation='linear', kernel_initializer='he_normal')(conv1)\n",
        "\t# add filters\n",
        "\tlayer_out = add([conv2, merge_input])\n",
        "\t# activation function\n",
        "\tlayer_out = Activation('relu')(layer_out)\n",
        "\treturn layer_out\n",
        "def build_model():\n",
        "  # define model input\n",
        "  visible = Input(shape=(256, 256, 3))\n",
        "  layer = residual_module(visible,3)\n",
        "  layer = AveragePooling2D((7,7))(layer)\n",
        "  layer= Flatten()(layer)\n",
        "  layer=Dense(1)(layer)\n",
        "  layer=Activation(\"softmax\")(layer)\n",
        " \n",
        "  model = Model(inputs=visible, outputs=layer)\n",
        "  # summarize model\n",
        "  model.summary()\n",
        "  return model"
      ],
      "execution_count": null,
      "outputs": []
    },
    {
      "cell_type": "code",
      "metadata": {
        "id": "nLZDjD8Oecew",
        "colab_type": "code",
        "colab": {
          "base_uri": "https://localhost:8080/",
          "height": 124
        },
        "outputId": "91ad5dd6-7b30-4971-9867-324b41c518bd"
      },
      "source": [
        "from google.colab import drive\n",
        "drive.mount('/content/gdrive')"
      ],
      "execution_count": null,
      "outputs": [
        {
          "output_type": "stream",
          "text": [
            "Go to this URL in a browser: https://accounts.google.com/o/oauth2/auth?client_id=947318989803-6bn6qk8qdgf4n4g3pfee6491hc0brc4i.apps.googleusercontent.com&redirect_uri=urn%3aietf%3awg%3aoauth%3a2.0%3aoob&response_type=code&scope=email%20https%3a%2f%2fwww.googleapis.com%2fauth%2fdocs.test%20https%3a%2f%2fwww.googleapis.com%2fauth%2fdrive%20https%3a%2f%2fwww.googleapis.com%2fauth%2fdrive.photos.readonly%20https%3a%2f%2fwww.googleapis.com%2fauth%2fpeopleapi.readonly\n",
            "\n",
            "Enter your authorization code:\n",
            "··········\n",
            "Mounted at /content/gdrive\n"
          ],
          "name": "stdout"
        }
      ]
    },
    {
      "cell_type": "code",
      "metadata": {
        "id": "T8E7_DLoeeaK",
        "colab_type": "code",
        "colab": {
          "base_uri": "https://localhost:8080/",
          "height": 34
        },
        "outputId": "aac23f39-ccd2-4938-8c56-7d3ea61fb807"
      },
      "source": [
        "import keras \n",
        "class GeneratorR(keras.utils.Sequence):\n",
        "    \n",
        "    def __init__(self,illness, plane, type1 ):\n",
        "        data_path = '/content/gdrive/My Drive/MRNET data set/MRNet-v1.0/' \n",
        "        super().__init__()\n",
        "        self.illness = illness\n",
        "        self.plane = plane\n",
        "        self.type1 = type1\n",
        "\n",
        "        if(type1 == \"test\"):\n",
        "          type2 = \"valid\"\n",
        "        if(type1 == \"train\"):\n",
        "          type2 = \"train\"\n",
        "        if(type1 == \"valid\"):\n",
        "          type2 = \"train\"\n",
        "\n",
        "        self.folder_path = data_path + type2 +\"/\" + plane\n",
        "        self.records = pd.read_csv(\n",
        "              data_path +type2+\"-\"+illness+\".csv\", header=None, names=['id', 'label'])\n",
        "        \n",
        "        self.records['id'] = self.records['id'].map(lambda i: '0' * (4 - len(str(i))) + str(i))\n",
        "        \n",
        "        if(type1 == \"train\"):\n",
        "          self.paths = [self.folder_path+\"/\" + filename +\n",
        "                      '.npy' for filename in self.records['id'].tolist()[:1017] ]\n",
        "          self.labels = self.records['label'].tolist()[:1017]\n",
        "          \n",
        "\n",
        "        if(type1 == \"valid\"):\n",
        "          self.paths = [self.folder_path+\"/\" + filename +\n",
        "                      '.npy' for filename in self.records['id'].tolist()[1017:] ]\n",
        "          self.labels = self.records['label'].tolist()[1017:]\n",
        "\n",
        "        if(type1 == \"test\"):\n",
        "          self.paths = [self.folder_path+\"/\" + filename +\n",
        "                      '.npy' for filename in self.records['id'].tolist() ]\n",
        "          self.labels = self.records['label'].tolist()\n",
        "        \n",
        "    def __len__(self):\n",
        "        return len(self.paths)\n",
        "\n",
        "    def __getitem__(self, index):\n",
        "        array = np.load(self.paths[index])\n",
        "        batch=array.shape[0]\n",
        "        newarr=np.empty((batch,256,256,3))\n",
        "        label=np.empty((batch),dtype=int)\n",
        "        for i in range(batch):\n",
        "          y=array[i]\n",
        "          y=np.array(y,dtype=K.floatx())\n",
        "          y=y/255.0\n",
        "          y=np.expand_dims(y, axis=0)\n",
        "          y=np.stack((y,)*3, axis=3)\n",
        "          newarr[i]=y\n",
        "          label[i]=self.labels[index]\n",
        "        \n",
        "\n",
        "        return newarr, label"
      ],
      "execution_count": null,
      "outputs": [
        {
          "output_type": "stream",
          "text": [
            "Using TensorFlow backend.\n"
          ],
          "name": "stderr"
        }
      ]
    },
    {
      "cell_type": "markdown",
      "metadata": {
        "id": "fVQ45G7PrSIb",
        "colab_type": "text"
      },
      "source": [
        "# --> Abnormal\n"
      ]
    },
    {
      "cell_type": "markdown",
      "metadata": {
        "id": "jI3W-jIbrVHl",
        "colab_type": "text"
      },
      "source": [
        "**bold text**\n",
        "\n",
        "1.   Coronal\n"
      ]
    },
    {
      "cell_type": "code",
      "metadata": {
        "id": "_FgR3PbwerOy",
        "colab_type": "code",
        "colab": {
          "base_uri": "https://localhost:8080/",
          "height": 886
        },
        "outputId": "a84cf02a-a03f-497e-820c-e72ef5fb2642"
      },
      "source": [
        "import tensorflow as tf\n",
        "model_abnormal_coronal = build_model()\n",
        "model_abnormal_coronal.compile(loss=tf.keras.losses.binary_crossentropy, optimizer = \"adam\",metrics=[\"accuracy\"])\n",
        "\n",
        "training_generator = GeneratorR( illness = \"abnormal\", plane = \"coronal\", type1 = \"train\")\n",
        "validation_generator = GeneratorR(illness = \"abnormal\", plane = \"coronal\", type1 = \"valid\")\n",
        "\n",
        "\n",
        "# Train model on dataset\n",
        "history_abnormal_coronal = model_abnormal_coronal.fit_generator(generator=training_generator,\n",
        "                    validation_data=validation_generator,\n",
        "                    use_multiprocessing=True,\n",
        "                    workers=6, epochs = 10)"
      ],
      "execution_count": null,
      "outputs": [
        {
          "output_type": "stream",
          "text": [
            "Model: \"model_8\"\n",
            "__________________________________________________________________________________________________\n",
            "Layer (type)                    Output Shape         Param #     Connected to                     \n",
            "==================================================================================================\n",
            "input_12 (InputLayer)           (None, 256, 256, 3)  0                                            \n",
            "__________________________________________________________________________________________________\n",
            "conv2d_24 (Conv2D)              (None, 256, 256, 3)  84          input_12[0][0]                   \n",
            "__________________________________________________________________________________________________\n",
            "conv2d_25 (Conv2D)              (None, 256, 256, 3)  84          conv2d_24[0][0]                  \n",
            "__________________________________________________________________________________________________\n",
            "add_8 (Add)                     (None, 256, 256, 3)  0           conv2d_25[0][0]                  \n",
            "                                                                 input_12[0][0]                   \n",
            "__________________________________________________________________________________________________\n",
            "activation_15 (Activation)      (None, 256, 256, 3)  0           add_8[0][0]                      \n",
            "__________________________________________________________________________________________________\n",
            "average_pooling2d_8 (AveragePoo (None, 36, 36, 3)    0           activation_15[0][0]              \n",
            "__________________________________________________________________________________________________\n",
            "flatten_8 (Flatten)             (None, 3888)         0           average_pooling2d_8[0][0]        \n",
            "__________________________________________________________________________________________________\n",
            "dense_8 (Dense)                 (None, 1)            3889        flatten_8[0][0]                  \n",
            "__________________________________________________________________________________________________\n",
            "activation_16 (Activation)      (None, 1)            0           dense_8[0][0]                    \n",
            "==================================================================================================\n",
            "Total params: 4,057\n",
            "Trainable params: 4,057\n",
            "Non-trainable params: 0\n",
            "__________________________________________________________________________________________________\n",
            "Epoch 1/10\n",
            "1017/1017 [==============================] - 197s 194ms/step - loss: 2.9395 - accuracy: 0.8420 - val_loss: 0.0000e+00 - val_accuracy: 0.8385\n",
            "Epoch 2/10\n",
            "1017/1017 [==============================] - 131s 129ms/step - loss: 2.9395 - accuracy: 0.8420 - val_loss: 0.0000e+00 - val_accuracy: 0.8385\n",
            "Epoch 3/10\n",
            "1017/1017 [==============================] - 129s 127ms/step - loss: 2.9395 - accuracy: 0.8420 - val_loss: 0.0000e+00 - val_accuracy: 0.8385\n",
            "\b\b\b\b\b\b\b\b\b\b\b\b\b\b\b\b\b\b\b\b\b\b\b\b\b\b\b\b\b\b\b\b\b\b\b\b\b\b\b\b\b\b\b\b\b\b\b\b\b\b\b\b\b\b\b\b\b\b\b\b\b\b\b\b\b\b\b\b\b\b\b\b\b\b\b\b\b\b\b\b\b\b\b\b\b\b\b\b\b\b\b\bEpoch 4/10\n",
            "1017/1017 [==============================] - 132s 130ms/step - loss: 2.9395 - accuracy: 0.8420 - val_loss: 0.0000e+00 - val_accuracy: 0.8385\n",
            "Epoch 5/10\n",
            "   1/1017 [..............................] - ETA: 2:07 - loss: 0.0000e+00 - accuracy: 1.0000\n",
            "1017/1017 [==============================] - 132s 130ms/step - loss: 2.9395 - accuracy: 0.8420 - val_loss: 0.0000e+00 - val_accuracy: 0.8385\n",
            "Epoch 6/10\n",
            "1017/1017 [==============================] - 132s 130ms/step - loss: 2.9395 - accuracy: 0.8420 - val_loss: 0.0000e+00 - val_accuracy: 0.8385\n",
            "Epoch 7/10\n",
            "1017/1017 [==============================] - 131s 129ms/step - loss: 2.9395 - accuracy: 0.8420 - val_loss: 0.0000e+00 - val_accuracy: 0.8385\n",
            "Epoch 8/10\n",
            "   1/1017 [..............................] - ETA: 2:12 - loss: 0.0000e+00 - accuracy: 1.0000"
          ],
          "name": "stdout"
        },
        {
          "output_type": "stream",
          "text": [
            "/usr/local/lib/python3.6/dist-packages/keras/callbacks/callbacks.py:95: RuntimeWarning: Method (on_train_batch_end) is slow compared to the batch update (0.215045). Check your callbacks.\n",
            "  % (hook_name, delta_t_median), RuntimeWarning)\n"
          ],
          "name": "stderr"
        },
        {
          "output_type": "stream",
          "text": [
            "1017/1017 [==============================] - 132s 130ms/step - loss: 2.9395 - accuracy: 0.8420 - val_loss: 0.0000e+00 - val_accuracy: 0.8385\n",
            "Epoch 9/10\n",
            "1017/1017 [==============================] - 130s 128ms/step - loss: 2.9395 - accuracy: 0.8420 - val_loss: 0.0000e+00 - val_accuracy: 0.8385\n",
            "Epoch 10/10\n",
            "1017/1017 [==============================] - 130s 128ms/step - loss: 2.9395 - accuracy: 0.8420 - val_loss: 0.0000e+00 - val_accuracy: 0.8385\n"
          ],
          "name": "stdout"
        }
      ]
    },
    {
      "cell_type": "code",
      "metadata": {
        "id": "6DhZqHLcoufw",
        "colab_type": "code",
        "colab": {}
      },
      "source": [
        " model_abnormal_coronal.save(\"/content/gdrive/My Drive/resnet50_models/ model_abnormal_coronal.h5\")"
      ],
      "execution_count": null,
      "outputs": []
    },
    {
      "cell_type": "code",
      "metadata": {
        "id": "gd7pSKcNpGrd",
        "colab_type": "code",
        "colab": {
          "base_uri": "https://localhost:8080/",
          "height": 86
        },
        "outputId": "cec5ca6a-0917-4cff-8a1b-aadd7a862b3b"
      },
      "source": [
        "generator = GeneratorR( illness = \"abnormal\", plane = \"coronal\", type1 = \"test\")\n",
        "evaluate_abnormal_coronal = model_abnormal_coronal.evaluate_generator(generator=generator)\n",
        "loss , acc = evaluate_abnormal_coronal\n",
        "print(\"evaluation done\")\n",
        "print('\\nTesting loss: {}, acc: {}\\n'.format(loss, acc))"
      ],
      "execution_count": null,
      "outputs": [
        {
          "output_type": "stream",
          "text": [
            "evaluation done\n",
            "\n",
            "Testing loss: -0.0, acc: 0.8096856474876404\n",
            "\n"
          ],
          "name": "stdout"
        }
      ]
    },
    {
      "cell_type": "markdown",
      "metadata": {
        "id": "T_PwgWflspxb",
        "colab_type": "text"
      },
      "source": [
        "\n",
        "2.   Axial"
      ]
    },
    {
      "cell_type": "code",
      "metadata": {
        "id": "QjpOEK6Ss59E",
        "colab_type": "code",
        "colab": {
          "base_uri": "https://localhost:8080/",
          "height": 832
        },
        "outputId": "65a3e161-03c9-45a8-87ba-69d9af1985e4"
      },
      "source": [
        "model_abnormal_axial = build_model()\n",
        "model_abnormal_axial.compile(loss=tf.keras.losses.binary_crossentropy, optimizer = \"adam\",metrics=[\"accuracy\"])\n",
        "training_generator = GeneratorR( illness = \"abnormal\", plane = \"axial\", type1 = \"train\")\n",
        "validation_generator = GeneratorR(illness = \"abnormal\", plane = \"axial\", type1 = \"valid\")\n",
        "\n",
        "history_abnormal_axial = model_abnormal_axial.fit_generator(generator=training_generator,\n",
        "                    validation_data=validation_generator,\n",
        "                    use_multiprocessing=True,\n",
        "                    workers=6, epochs = 10)"
      ],
      "execution_count": null,
      "outputs": [
        {
          "output_type": "stream",
          "text": [
            "Model: \"model_10\"\n",
            "__________________________________________________________________________________________________\n",
            "Layer (type)                    Output Shape         Param #     Connected to                     \n",
            "==================================================================================================\n",
            "input_14 (InputLayer)           (None, 256, 256, 3)  0                                            \n",
            "__________________________________________________________________________________________________\n",
            "conv2d_28 (Conv2D)              (None, 256, 256, 3)  84          input_14[0][0]                   \n",
            "__________________________________________________________________________________________________\n",
            "conv2d_29 (Conv2D)              (None, 256, 256, 3)  84          conv2d_28[0][0]                  \n",
            "__________________________________________________________________________________________________\n",
            "add_10 (Add)                    (None, 256, 256, 3)  0           conv2d_29[0][0]                  \n",
            "                                                                 input_14[0][0]                   \n",
            "__________________________________________________________________________________________________\n",
            "activation_19 (Activation)      (None, 256, 256, 3)  0           add_10[0][0]                     \n",
            "__________________________________________________________________________________________________\n",
            "average_pooling2d_10 (AveragePo (None, 36, 36, 3)    0           activation_19[0][0]              \n",
            "__________________________________________________________________________________________________\n",
            "flatten_10 (Flatten)            (None, 3888)         0           average_pooling2d_10[0][0]       \n",
            "__________________________________________________________________________________________________\n",
            "dense_10 (Dense)                (None, 1)            3889        flatten_10[0][0]                 \n",
            "__________________________________________________________________________________________________\n",
            "activation_20 (Activation)      (None, 1)            0           dense_10[0][0]                   \n",
            "==================================================================================================\n",
            "Total params: 4,057\n",
            "Trainable params: 4,057\n",
            "Non-trainable params: 0\n",
            "__________________________________________________________________________________________________\n",
            "Epoch 1/10\n",
            "1017/1017 [==============================] - 212s 209ms/step - loss: 2.9396 - accuracy: 0.8363 - val_loss: 0.0000e+00 - val_accuracy: 0.8295\n",
            "Epoch 2/10\n",
            "1017/1017 [==============================] - 151s 148ms/step - loss: 2.9396 - accuracy: 0.8363 - val_loss: 0.0000e+00 - val_accuracy: 0.8295\n",
            "Epoch 3/10\n",
            "1017/1017 [==============================] - 149s 147ms/step - loss: 2.9396 - accuracy: 0.8363 - val_loss: 0.0000e+00 - val_accuracy: 0.8295\n",
            "Epoch 4/10\n",
            "1017/1017 [==============================] - 149s 146ms/step - loss: 2.9396 - accuracy: 0.8363 - val_loss: 0.0000e+00 - val_accuracy: 0.8295\n",
            "Epoch 5/10\n",
            "1017/1017 [==============================] - 149s 146ms/step - loss: 2.9396 - accuracy: 0.8363 - val_loss: 0.0000e+00 - val_accuracy: 0.8295\n",
            "Epoch 6/10\n",
            "1017/1017 [==============================] - 151s 149ms/step - loss: 2.9396 - accuracy: 0.8363 - val_loss: 0.0000e+00 - val_accuracy: 0.8295\n",
            "Epoch 7/10\n",
            "1017/1017 [==============================] - 150s 148ms/step - loss: 2.9396 - accuracy: 0.8363 - val_loss: 0.0000e+00 - val_accuracy: 0.8295\n",
            "Epoch 8/10\n",
            "1017/1017 [==============================] - 150s 147ms/step - loss: 2.9396 - accuracy: 0.8363 - val_loss: 0.0000e+00 - val_accuracy: 0.8295\n",
            "Epoch 9/10\n",
            "1017/1017 [==============================] - 147s 145ms/step - loss: 2.9396 - accuracy: 0.8363 - val_loss: 0.0000e+00 - val_accuracy: 0.8295\n",
            "Epoch 10/10\n",
            "1017/1017 [==============================] - 147s 145ms/step - loss: 2.9396 - accuracy: 0.8363 - val_loss: 0.0000e+00 - val_accuracy: 0.8295\n"
          ],
          "name": "stdout"
        }
      ]
    },
    {
      "cell_type": "code",
      "metadata": {
        "id": "DafrOMnpzjQ2",
        "colab_type": "code",
        "colab": {}
      },
      "source": [
        "model_abnormal_axial.save(\"/content/gdrive/My Drive/resnet50_models/model_abnormal_axial.h5\")"
      ],
      "execution_count": null,
      "outputs": []
    },
    {
      "cell_type": "code",
      "metadata": {
        "id": "-Z-ZAJo-zxr6",
        "colab_type": "code",
        "colab": {
          "base_uri": "https://localhost:8080/",
          "height": 86
        },
        "outputId": "93c0cd64-a0f8-4491-a646-0e409fd89e15"
      },
      "source": [
        "generator = GeneratorR( illness = \"abnormal\", plane = \"axial\", type1 = \"test\")\n",
        "evaluate_abnormal_axial = model_abnormal_axial.evaluate_generator( generator)\n",
        "loss , acc = evaluate_abnormal_axial\n",
        "print(\"evaluation done\")\n",
        "print('\\nTesting loss: {}, acc: {}\\n'.format(loss, acc))"
      ],
      "execution_count": null,
      "outputs": [
        {
          "output_type": "stream",
          "text": [
            "evaluation done\n",
            "\n",
            "Testing loss: -0.0, acc: 0.8079164624214172\n",
            "\n"
          ],
          "name": "stdout"
        }
      ]
    },
    {
      "cell_type": "markdown",
      "metadata": {
        "id": "ir8tLC9uszO2",
        "colab_type": "text"
      },
      "source": [
        "\n",
        "3.   Sagittal\n"
      ]
    },
    {
      "cell_type": "code",
      "metadata": {
        "id": "cZ4Hr34Zz8ci",
        "colab_type": "code",
        "colab": {
          "base_uri": "https://localhost:8080/",
          "height": 658
        },
        "outputId": "9c271084-a19c-44ec-f981-1094fc0cda7b"
      },
      "source": [
        "model_abnormal_sagittal =  build_model()\n",
        "model_abnormal_sagittal.compile(loss=tf.keras.losses.binary_crossentropy, optimizer = \"adam\",metrics=[\"accuracy\"])\n",
        "training_generator = GeneratorR( illness = \"abnormal\", plane = \"sagittal\", type1 = \"train\")\n",
        "validation_generator = GeneratorR(illness = \"abnormal\", plane = \"sagittal\", type1 = \"valid\")\n",
        "\n",
        "# Train model on dataset\n",
        "history_abnormal_sagittal = model_abnormal_sagittal.fit_generator(generator=training_generator,\n",
        "                    validation_data=validation_generator,\n",
        "                    use_multiprocessing=False,\n",
        "                    workers=6, epochs = 5 )"
      ],
      "execution_count": null,
      "outputs": [
        {
          "output_type": "stream",
          "text": [
            "Model: \"model_12\"\n",
            "__________________________________________________________________________________________________\n",
            "Layer (type)                    Output Shape         Param #     Connected to                     \n",
            "==================================================================================================\n",
            "input_16 (InputLayer)           (None, 256, 256, 3)  0                                            \n",
            "__________________________________________________________________________________________________\n",
            "conv2d_32 (Conv2D)              (None, 256, 256, 3)  84          input_16[0][0]                   \n",
            "__________________________________________________________________________________________________\n",
            "conv2d_33 (Conv2D)              (None, 256, 256, 3)  84          conv2d_32[0][0]                  \n",
            "__________________________________________________________________________________________________\n",
            "add_12 (Add)                    (None, 256, 256, 3)  0           conv2d_33[0][0]                  \n",
            "                                                                 input_16[0][0]                   \n",
            "__________________________________________________________________________________________________\n",
            "activation_23 (Activation)      (None, 256, 256, 3)  0           add_12[0][0]                     \n",
            "__________________________________________________________________________________________________\n",
            "average_pooling2d_12 (AveragePo (None, 36, 36, 3)    0           activation_23[0][0]              \n",
            "__________________________________________________________________________________________________\n",
            "flatten_12 (Flatten)            (None, 3888)         0           average_pooling2d_12[0][0]       \n",
            "__________________________________________________________________________________________________\n",
            "dense_12 (Dense)                (None, 1)            3889        flatten_12[0][0]                 \n",
            "__________________________________________________________________________________________________\n",
            "activation_24 (Activation)      (None, 1)            0           dense_12[0][0]                   \n",
            "==================================================================================================\n",
            "Total params: 4,057\n",
            "Trainable params: 4,057\n",
            "Non-trainable params: 0\n",
            "__________________________________________________________________________________________________\n",
            "Epoch 1/5\n",
            "1017/1017 [==============================] - 144s 141ms/step - loss: 2.9396 - accuracy: 0.8348 - val_loss: 0.0000e+00 - val_accuracy: 0.8311\n",
            "Epoch 2/5\n",
            "1017/1017 [==============================] - 53s 52ms/step - loss: 2.9396 - accuracy: 0.8348 - val_loss: 0.0000e+00 - val_accuracy: 0.8311\n",
            "Epoch 3/5\n",
            "1017/1017 [==============================] - 52s 51ms/step - loss: 2.9396 - accuracy: 0.8348 - val_loss: 0.0000e+00 - val_accuracy: 0.8311\n",
            "Epoch 4/5\n",
            "1017/1017 [==============================] - 52s 52ms/step - loss: 2.9396 - accuracy: 0.8348 - val_loss: 0.0000e+00 - val_accuracy: 0.8311\n",
            "Epoch 5/5\n",
            "1017/1017 [==============================] - 52s 51ms/step - loss: 2.9396 - accuracy: 0.8348 - val_loss: 0.0000e+00 - val_accuracy: 0.8311\n"
          ],
          "name": "stdout"
        }
      ]
    },
    {
      "cell_type": "code",
      "metadata": {
        "id": "1wBlRY4g11wO",
        "colab_type": "code",
        "colab": {}
      },
      "source": [
        "model_abnormal_sagittal.save(\"/content/gdrive/My Drive/resnet50_models/model_abnormal_sagittal.h5\")"
      ],
      "execution_count": null,
      "outputs": []
    },
    {
      "cell_type": "code",
      "metadata": {
        "id": "uUlmq_kFP_5-",
        "colab_type": "code",
        "colab": {
          "base_uri": "https://localhost:8080/",
          "height": 86
        },
        "outputId": "55d1d38a-7e06-4fcf-81fc-0cdfb8b97326"
      },
      "source": [
        "generator = GeneratorR( illness = \"abnormal\", plane = \"sagittal\", type1 = \"test\")\n",
        "evaluate_abnormal_sagittal = model_abnormal_sagittal.evaluate_generator(generator=generator)\n",
        "loss , acc = evaluate_abnormal_sagittal\n",
        "print(\"evaluation done\")\n",
        "print('\\nTesting loss: {}, acc: {}\\n'.format(loss, acc))"
      ],
      "execution_count": null,
      "outputs": [
        {
          "output_type": "stream",
          "text": [
            "evaluation done\n",
            "\n",
            "Testing loss: -0.0, acc: 0.8099918365478516\n",
            "\n"
          ],
          "name": "stdout"
        }
      ]
    },
    {
      "cell_type": "code",
      "metadata": {
        "id": "PL1tRk6L2CuI",
        "colab_type": "code",
        "colab": {
          "base_uri": "https://localhost:8080/",
          "height": 658
        },
        "outputId": "0b1ef587-1e09-4d44-ef30-77adf7e82d0b"
      },
      "source": [
        "model_acl_axial = build_model()\n",
        "model_acl_axial.compile(loss=tf.keras.losses.binary_crossentropy, optimizer = \"adam\",metrics=[\"accuracy\"])\n",
        "training_generator = GeneratorR( illness = \"acl\", plane = \"axial\", type1 = \"train\")\n",
        "validation_generator = GeneratorR(illness = \"acl\", plane = \"axial\", type1 = \"valid\")\n",
        "\n",
        "\n",
        "# Train model on dataset\n",
        "history_acl_axial = model_acl_axial.fit_generator(generator=training_generator,\n",
        "                    validation_data=validation_generator,\n",
        "                    use_multiprocessing=True,\n",
        "                    workers=6, epochs = 5 )"
      ],
      "execution_count": null,
      "outputs": [
        {
          "output_type": "stream",
          "text": [
            "Model: \"model_13\"\n",
            "__________________________________________________________________________________________________\n",
            "Layer (type)                    Output Shape         Param #     Connected to                     \n",
            "==================================================================================================\n",
            "input_17 (InputLayer)           (None, 256, 256, 3)  0                                            \n",
            "__________________________________________________________________________________________________\n",
            "conv2d_34 (Conv2D)              (None, 256, 256, 3)  84          input_17[0][0]                   \n",
            "__________________________________________________________________________________________________\n",
            "conv2d_35 (Conv2D)              (None, 256, 256, 3)  84          conv2d_34[0][0]                  \n",
            "__________________________________________________________________________________________________\n",
            "add_13 (Add)                    (None, 256, 256, 3)  0           conv2d_35[0][0]                  \n",
            "                                                                 input_17[0][0]                   \n",
            "__________________________________________________________________________________________________\n",
            "activation_25 (Activation)      (None, 256, 256, 3)  0           add_13[0][0]                     \n",
            "__________________________________________________________________________________________________\n",
            "average_pooling2d_13 (AveragePo (None, 36, 36, 3)    0           activation_25[0][0]              \n",
            "__________________________________________________________________________________________________\n",
            "flatten_13 (Flatten)            (None, 3888)         0           average_pooling2d_13[0][0]       \n",
            "__________________________________________________________________________________________________\n",
            "dense_13 (Dense)                (None, 1)            3889        flatten_13[0][0]                 \n",
            "__________________________________________________________________________________________________\n",
            "activation_26 (Activation)      (None, 1)            0           dense_13[0][0]                   \n",
            "==================================================================================================\n",
            "Total params: 4,057\n",
            "Trainable params: 4,057\n",
            "Non-trainable params: 0\n",
            "__________________________________________________________________________________________________\n",
            "Epoch 1/5\n",
            "1017/1017 [==============================] - 156s 154ms/step - loss: 12.4535 - accuracy: 0.1879 - val_loss: 0.0000e+00 - val_accuracy: 0.1558\n",
            "Epoch 2/5\n",
            "1017/1017 [==============================] - 149s 146ms/step - loss: 12.4535 - accuracy: 0.1879 - val_loss: 0.0000e+00 - val_accuracy: 0.1558\n",
            "Epoch 3/5\n",
            "1017/1017 [==============================] - 152s 149ms/step - loss: 12.4535 - accuracy: 0.1879 - val_loss: 0.0000e+00 - val_accuracy: 0.1558\n",
            "Epoch 4/5\n",
            "1017/1017 [==============================] - 151s 148ms/step - loss: 12.4535 - accuracy: 0.1879 - val_loss: 0.0000e+00 - val_accuracy: 0.1558\n",
            "Epoch 5/5\n",
            "1017/1017 [==============================] - 149s 146ms/step - loss: 12.4535 - accuracy: 0.1879 - val_loss: 0.0000e+00 - val_accuracy: 0.1558\n"
          ],
          "name": "stdout"
        }
      ]
    },
    {
      "cell_type": "code",
      "metadata": {
        "id": "a210FhSI5SX2",
        "colab_type": "code",
        "colab": {}
      },
      "source": [
        "model_acl_axial.save(\"/content/gdrive/My Drive/resnet50_models/model_acl_axial.h5\")"
      ],
      "execution_count": null,
      "outputs": []
    },
    {
      "cell_type": "code",
      "metadata": {
        "id": "yMr044z4P4sQ",
        "colab_type": "code",
        "colab": {
          "base_uri": "https://localhost:8080/",
          "height": 86
        },
        "outputId": "0c085356-c16f-43b4-bb93-1c1c049323ec"
      },
      "source": [
        "generator = GeneratorR( illness = \"acl\", plane = \"axial\", type1 = \"test\")\n",
        "evaluate_acl_axial = model_acl_axial.evaluate_generator(generator=generator)\n",
        "loss , acc = evaluate_acl_axial\n",
        "print(\"evaluation done\")\n",
        "print('\\nTesting loss: {}, acc: {}\\n'.format(loss, acc))"
      ],
      "execution_count": null,
      "outputs": [
        {
          "output_type": "stream",
          "text": [
            "evaluation done\n",
            "\n",
            "Testing loss: 15.249238967895508, acc: 0.4307916462421417\n",
            "\n"
          ],
          "name": "stdout"
        }
      ]
    },
    {
      "cell_type": "code",
      "metadata": {
        "id": "pgSIVN8h5kq8",
        "colab_type": "code",
        "colab": {
          "base_uri": "https://localhost:8080/",
          "height": 693
        },
        "outputId": "c24fd0cf-1364-42e1-e1af-253ba5e04381"
      },
      "source": [
        "model_acl_coronal = build_model()\n",
        "model_acl_coronal.compile(loss=tf.keras.losses.binary_crossentropy, optimizer = \"adam\",metrics=[\"accuracy\"])\n",
        "training_generator = GeneratorR( illness = \"acl\", plane = \"coronal\", type1 = \"train\")\n",
        "validation_generator = GeneratorR(illness = \"acl\", plane = \"coronal\", type1 = \"valid\")\n",
        "# Train model on dataset\n",
        "history_acl_coronal = model_acl_coronal.fit_generator(generator=training_generator,\n",
        "                    validation_data=validation_generator,\n",
        "                    use_multiprocessing=True,\n",
        "                    workers=6, epochs = 5 )"
      ],
      "execution_count": null,
      "outputs": [
        {
          "output_type": "stream",
          "text": [
            "Model: \"model_14\"\n",
            "__________________________________________________________________________________________________\n",
            "Layer (type)                    Output Shape         Param #     Connected to                     \n",
            "==================================================================================================\n",
            "input_18 (InputLayer)           (None, 256, 256, 3)  0                                            \n",
            "__________________________________________________________________________________________________\n",
            "conv2d_36 (Conv2D)              (None, 256, 256, 3)  84          input_18[0][0]                   \n",
            "__________________________________________________________________________________________________\n",
            "conv2d_37 (Conv2D)              (None, 256, 256, 3)  84          conv2d_36[0][0]                  \n",
            "__________________________________________________________________________________________________\n",
            "add_14 (Add)                    (None, 256, 256, 3)  0           conv2d_37[0][0]                  \n",
            "                                                                 input_18[0][0]                   \n",
            "__________________________________________________________________________________________________\n",
            "activation_27 (Activation)      (None, 256, 256, 3)  0           add_14[0][0]                     \n",
            "__________________________________________________________________________________________________\n",
            "average_pooling2d_14 (AveragePo (None, 36, 36, 3)    0           activation_27[0][0]              \n",
            "__________________________________________________________________________________________________\n",
            "flatten_14 (Flatten)            (None, 3888)         0           average_pooling2d_14[0][0]       \n",
            "__________________________________________________________________________________________________\n",
            "dense_14 (Dense)                (None, 1)            3889        flatten_14[0][0]                 \n",
            "__________________________________________________________________________________________________\n",
            "activation_28 (Activation)      (None, 1)            0           dense_14[0][0]                   \n",
            "==================================================================================================\n",
            "Total params: 4,057\n",
            "Trainable params: 4,057\n",
            "Non-trainable params: 0\n",
            "__________________________________________________________________________________________________\n",
            "Epoch 1/5\n",
            "1016/1017 [============================>.] - ETA: 0s - loss: 12.4507 - accuracy: 0.1806Epoch 1/5\n",
            "1017/1017 [==============================] - 135s 133ms/step - loss: 12.4537 - accuracy: 0.1804 - val_loss: 0.0000e+00 - val_accuracy: 0.1568\n",
            "Epoch 2/5\n",
            "Epoch 1/5\n",
            "1017/1017 [==============================] - 130s 128ms/step - loss: 12.4537 - accuracy: 0.1804 - val_loss: 0.0000e+00 - val_accuracy: 0.1568\n",
            "Epoch 3/5\n",
            "1017/1017 [==============================] - 130s 128ms/step - loss: 12.4537 - accuracy: 0.1804 - val_loss: 0.0000e+00 - val_accuracy: 0.1568\n",
            "Epoch 4/5\n",
            "1017/1017 [==============================] - 130s 128ms/step - loss: 12.4537 - accuracy: 0.1804 - val_loss: 0.0000e+00 - val_accuracy: 0.1568\n",
            "Epoch 5/5\n",
            "1017/1017 [==============================] - 131s 128ms/step - loss: 12.4537 - accuracy: 0.1804 - val_loss: 0.0000e+00 - val_accuracy: 0.1568\n"
          ],
          "name": "stdout"
        }
      ]
    },
    {
      "cell_type": "code",
      "metadata": {
        "id": "iIba5cOa8grY",
        "colab_type": "code",
        "colab": {}
      },
      "source": [
        "model_acl_coronal.save(\"/content/gdrive/My Drive/resnet50_models/model_acl_coronal.h5\")"
      ],
      "execution_count": null,
      "outputs": []
    },
    {
      "cell_type": "code",
      "metadata": {
        "id": "fllASmy9Pwiw",
        "colab_type": "code",
        "colab": {
          "base_uri": "https://localhost:8080/",
          "height": 86
        },
        "outputId": "02858c5f-3edf-4bf1-ea2e-8f0e3d55e276"
      },
      "source": [
        "generator = GeneratorR( illness = \"acl\", plane = \"coronal\", type1 = \"test\")\n",
        "evaluate_acl_coronal = model_acl_coronal.evaluate_generator(generator=generator)\n",
        "loss , acc = evaluate_acl_coronal\n",
        "print(\"evaluation done\")\n",
        "print('\\nTesting loss: {}, acc: {}\\n'.format(loss, acc))"
      ],
      "execution_count": null,
      "outputs": [
        {
          "output_type": "stream",
          "text": [
            "evaluation done\n",
            "\n",
            "Testing loss: 15.249238967895508, acc: 0.4199943244457245\n",
            "\n"
          ],
          "name": "stdout"
        }
      ]
    },
    {
      "cell_type": "code",
      "metadata": {
        "id": "SL-WDuna8zFd",
        "colab_type": "code",
        "colab": {
          "base_uri": "https://localhost:8080/",
          "height": 693
        },
        "outputId": "b398eb76-1602-4dcc-8afd-e30b40e13da3"
      },
      "source": [
        "model_acl_sagittal = build_model()\n",
        "model_acl_sagittal.compile(loss=tf.keras.losses.binary_crossentropy, optimizer = \"adam\",metrics=[\"accuracy\"])\n",
        "training_generator = GeneratorR( illness = \"acl\", plane = \"sagittal\", type1 = \"train\")\n",
        "validation_generator = GeneratorR(illness = \"acl\", plane = \"sagittal\", type1 = \"valid\")\n",
        "# Train model on dataset\n",
        "history_acl_sagittal = model_acl_sagittal.fit_generator(generator=training_generator,\n",
        "                    validation_data=validation_generator,\n",
        "                    use_multiprocessing=True,\n",
        "                    workers=6, epochs = 5 )"
      ],
      "execution_count": null,
      "outputs": [
        {
          "output_type": "stream",
          "text": [
            "Model: \"model_15\"\n",
            "__________________________________________________________________________________________________\n",
            "Layer (type)                    Output Shape         Param #     Connected to                     \n",
            "==================================================================================================\n",
            "input_19 (InputLayer)           (None, 256, 256, 3)  0                                            \n",
            "__________________________________________________________________________________________________\n",
            "conv2d_38 (Conv2D)              (None, 256, 256, 3)  84          input_19[0][0]                   \n",
            "__________________________________________________________________________________________________\n",
            "conv2d_39 (Conv2D)              (None, 256, 256, 3)  84          conv2d_38[0][0]                  \n",
            "__________________________________________________________________________________________________\n",
            "add_15 (Add)                    (None, 256, 256, 3)  0           conv2d_39[0][0]                  \n",
            "                                                                 input_19[0][0]                   \n",
            "__________________________________________________________________________________________________\n",
            "activation_29 (Activation)      (None, 256, 256, 3)  0           add_15[0][0]                     \n",
            "__________________________________________________________________________________________________\n",
            "average_pooling2d_15 (AveragePo (None, 36, 36, 3)    0           activation_29[0][0]              \n",
            "__________________________________________________________________________________________________\n",
            "flatten_15 (Flatten)            (None, 3888)         0           average_pooling2d_15[0][0]       \n",
            "__________________________________________________________________________________________________\n",
            "dense_15 (Dense)                (None, 1)            3889        flatten_15[0][0]                 \n",
            "__________________________________________________________________________________________________\n",
            "activation_30 (Activation)      (None, 1)            0           dense_15[0][0]                   \n",
            "==================================================================================================\n",
            "Total params: 4,057\n",
            "Trainable params: 4,057\n",
            "Non-trainable params: 0\n",
            "__________________________________________________________________________________________________\n",
            "Epoch 1/5\n",
            "1015/1017 [============================>.] - ETA: 0s - loss: 12.4479 - accuracy: 0.1856Epoch 1/5\n",
            "1017/1017 [==============================] - 137s 134ms/step - loss: 12.4536 - accuracy: 0.1852 - val_loss: 0.0000e+00 - val_accuracy: 0.1557\n",
            "Epoch 2/5\n",
            "1017/1017 [==============================] - 131s 129ms/step - loss: 12.4536 - accuracy: 0.1852 - val_loss: 0.0000e+00 - val_accuracy: 0.1557\n",
            "Epoch 3/5\n",
            "1017/1017 [==============================] - 131s 129ms/step - loss: 12.4536 - accuracy: 0.1852 - val_loss: 0.0000e+00 - val_accuracy: 0.1557\n",
            "Epoch 4/5\n",
            "1017/1017 [==============================] - 130s 128ms/step - loss: 12.4536 - accuracy: 0.1852 - val_loss: 0.0000e+00 - val_accuracy: 0.1557\n",
            "Epoch 5/5\n",
            "1017/1017 [==============================] - 131s 129ms/step - loss: 12.4536 - accuracy: 0.1852 - val_loss: 0.0000e+00 - val_accuracy: 0.1557\n",
            "\n"
          ],
          "name": "stdout"
        }
      ]
    },
    {
      "cell_type": "code",
      "metadata": {
        "id": "mnLfdwgt_6lj",
        "colab_type": "code",
        "colab": {}
      },
      "source": [
        "model_acl_sagittal.save(\"/content/gdrive/My Drive/resnet50_models/model_acl_sagittal.h5\")"
      ],
      "execution_count": null,
      "outputs": []
    },
    {
      "cell_type": "code",
      "metadata": {
        "id": "195C7FNRPlKh",
        "colab_type": "code",
        "colab": {
          "base_uri": "https://localhost:8080/",
          "height": 86
        },
        "outputId": "80ad72cf-c3a2-457a-ed55-0ddea39f2595"
      },
      "source": [
        "generator = GeneratorR( illness = \"acl\", plane = \"sagittal\", type1 = \"test\")\n",
        "evaluate_acl_sagittal = model_acl_sagittal.evaluate_generator(generator=generator)\n",
        "loss , acc = evaluate_acl_sagittal\n",
        "print(\"evaluation done\")\n",
        "print('\\nTesting loss: {}, acc: {}\\n'.format(loss, acc))"
      ],
      "execution_count": null,
      "outputs": [
        {
          "output_type": "stream",
          "text": [
            "evaluation done\n",
            "\n",
            "Testing loss: 15.249238014221191, acc: 0.4395304322242737\n",
            "\n"
          ],
          "name": "stdout"
        }
      ]
    },
    {
      "cell_type": "code",
      "metadata": {
        "id": "p_QMpIfAAM-h",
        "colab_type": "code",
        "colab": {
          "base_uri": "https://localhost:8080/",
          "height": 728
        },
        "outputId": "22b31c46-1c65-4620-fbde-fdb178f7ed87"
      },
      "source": [
        "model_meniscus_axial = build_model()\n",
        "model_meniscus_axial.compile(loss=tf.keras.losses.binary_crossentropy, optimizer = \"adam\",metrics=[\"accuracy\"])\n",
        "training_generator = GeneratorR( illness = \"meniscus\", plane = \"axial\", type1 = \"train\")\n",
        "validation_generator = GeneratorR(illness = \"meniscus\", plane = \"axial\", type1 = \"valid\")\n",
        "# Train model on dataset\n",
        "history_meniscus_axial = model_meniscus_axial.fit_generator(generator=training_generator,\n",
        "                    validation_data=validation_generator,\n",
        "                    use_multiprocessing=True,\n",
        "                    workers=6, epochs = 5 )\n"
      ],
      "execution_count": null,
      "outputs": [
        {
          "output_type": "stream",
          "text": [
            "Model: \"model_16\"\n",
            "__________________________________________________________________________________________________\n",
            "Layer (type)                    Output Shape         Param #     Connected to                     \n",
            "==================================================================================================\n",
            "input_20 (InputLayer)           (None, 256, 256, 3)  0                                            \n",
            "__________________________________________________________________________________________________\n",
            "conv2d_40 (Conv2D)              (None, 256, 256, 3)  84          input_20[0][0]                   \n",
            "__________________________________________________________________________________________________\n",
            "conv2d_41 (Conv2D)              (None, 256, 256, 3)  84          conv2d_40[0][0]                  \n",
            "__________________________________________________________________________________________________\n",
            "add_16 (Add)                    (None, 256, 256, 3)  0           conv2d_41[0][0]                  \n",
            "                                                                 input_20[0][0]                   \n",
            "__________________________________________________________________________________________________\n",
            "activation_31 (Activation)      (None, 256, 256, 3)  0           add_16[0][0]                     \n",
            "__________________________________________________________________________________________________\n",
            "average_pooling2d_16 (AveragePo (None, 36, 36, 3)    0           activation_31[0][0]              \n",
            "__________________________________________________________________________________________________\n",
            "flatten_16 (Flatten)            (None, 3888)         0           average_pooling2d_16[0][0]       \n",
            "__________________________________________________________________________________________________\n",
            "dense_16 (Dense)                (None, 1)            3889        flatten_16[0][0]                 \n",
            "__________________________________________________________________________________________________\n",
            "activation_32 (Activation)      (None, 1)            0           dense_16[0][0]                   \n",
            "==================================================================================================\n",
            "Total params: 4,057\n",
            "Trainable params: 4,057\n",
            "Non-trainable params: 0\n",
            "__________________________________________________________________________________________________\n",
            "Epoch 1/5\n",
            "1015/1017 [============================>.] - ETA: 0s - loss: 9.9100 - accuracy: 0.3716\n",
            "1017/1017 [==============================] - 155s 153ms/step - loss: 9.9204 - accuracy: 0.3708 - val_loss: 15.2492 - val_accuracy: 0.3625\n",
            "Epoch 2/5\n",
            "   1/1017 [..............................] - ETA: 57s - loss: 0.0000e+00 - accuracy: 1.0000\n"
          ],
          "name": "stdout"
        },
        {
          "output_type": "stream",
          "text": [
            "/usr/local/lib/python3.6/dist-packages/keras/callbacks/callbacks.py:95: RuntimeWarning: Method (on_train_batch_end) is slow compared to the batch update (0.240802). Check your callbacks.\n",
            "  % (hook_name, delta_t_median), RuntimeWarning)\n"
          ],
          "name": "stderr"
        },
        {
          "output_type": "stream",
          "text": [
            "1017/1017 [==============================] - 148s 146ms/step - loss: 9.9204 - accuracy: 0.3708 - val_loss: 15.2492 - val_accuracy: 0.3625\n",
            "Epoch 3/5\n",
            "1017/1017 [==============================] - 149s 146ms/step - loss: 9.9204 - accuracy: 0.3708 - val_loss: 15.2492 - val_accuracy: 0.3625\n",
            "Epoch 4/5\n",
            "1017/1017 [==============================] - 149s 147ms/step - loss: 9.9204 - accuracy: 0.3708 - val_loss: 15.2492 - val_accuracy: 0.3625\n",
            "Epoch 5/5\n",
            "1017/1017 [==============================] - 149s 146ms/step - loss: 9.9204 - accuracy: 0.3708 - val_loss: 15.2492 - val_accuracy: 0.3625\n"
          ],
          "name": "stdout"
        }
      ]
    },
    {
      "cell_type": "code",
      "metadata": {
        "id": "Zs14sH6wDRVm",
        "colab_type": "code",
        "colab": {}
      },
      "source": [
        "model_meniscus_axial.save(\"/content/gdrive/My Drive/resnet50_models/model_meniscus_axial.h5\")"
      ],
      "execution_count": null,
      "outputs": []
    },
    {
      "cell_type": "code",
      "metadata": {
        "id": "MZNwiMiZPMPc",
        "colab_type": "code",
        "colab": {
          "base_uri": "https://localhost:8080/",
          "height": 86
        },
        "outputId": "0970f3e3-e822-4686-8ef0-873fa1bb022f"
      },
      "source": [
        "generator = GeneratorR( illness = \"meniscus\", plane = \"axial\", type1 = \"test\")\n",
        "evaluate_meniscus_axial = model_meniscus_axial.evaluate_generator(generator=generator)\n",
        "loss , acc = evaluate_meniscus_axial\n",
        "print(\"evaluation done\")\n",
        "print('\\nTesting loss: {}, acc: {}\\n'.format(loss, acc))"
      ],
      "execution_count": null,
      "outputs": [
        {
          "output_type": "stream",
          "text": [
            "evaluation done\n",
            "\n",
            "Testing loss: -0.0, acc: 0.4519183933734894\n",
            "\n"
          ],
          "name": "stdout"
        }
      ]
    },
    {
      "cell_type": "code",
      "metadata": {
        "id": "7NmzGpu3Ddde",
        "colab_type": "code",
        "colab": {
          "base_uri": "https://localhost:8080/",
          "height": 658
        },
        "outputId": "f534eed5-1fde-4a92-f2b4-5474b9275766"
      },
      "source": [
        "model_meniscus_coronal = build_model()\n",
        "model_meniscus_coronal.compile(loss=tf.keras.losses.binary_crossentropy, optimizer = \"adam\",metrics=[\"accuracy\"])\n",
        "training_generator = GeneratorR( illness = \"meniscus\", plane = \"coronal\", type1 = \"train\")\n",
        "validation_generator = GeneratorR(illness = \"meniscus\", plane = \"coronal\", type1 = \"valid\")\n",
        "# Train model on dataset\n",
        "history_meniscus_coronal = model_meniscus_coronal.fit_generator(generator=training_generator,\n",
        "                    validation_data=validation_generator,\n",
        "                    use_multiprocessing=True,\n",
        "                    workers=6, epochs = 5 )"
      ],
      "execution_count": null,
      "outputs": [
        {
          "output_type": "stream",
          "text": [
            "Model: \"model_17\"\n",
            "__________________________________________________________________________________________________\n",
            "Layer (type)                    Output Shape         Param #     Connected to                     \n",
            "==================================================================================================\n",
            "input_21 (InputLayer)           (None, 256, 256, 3)  0                                            \n",
            "__________________________________________________________________________________________________\n",
            "conv2d_42 (Conv2D)              (None, 256, 256, 3)  84          input_21[0][0]                   \n",
            "__________________________________________________________________________________________________\n",
            "conv2d_43 (Conv2D)              (None, 256, 256, 3)  84          conv2d_42[0][0]                  \n",
            "__________________________________________________________________________________________________\n",
            "add_17 (Add)                    (None, 256, 256, 3)  0           conv2d_43[0][0]                  \n",
            "                                                                 input_21[0][0]                   \n",
            "__________________________________________________________________________________________________\n",
            "activation_33 (Activation)      (None, 256, 256, 3)  0           add_17[0][0]                     \n",
            "__________________________________________________________________________________________________\n",
            "average_pooling2d_17 (AveragePo (None, 36, 36, 3)    0           activation_33[0][0]              \n",
            "__________________________________________________________________________________________________\n",
            "flatten_17 (Flatten)            (None, 3888)         0           average_pooling2d_17[0][0]       \n",
            "__________________________________________________________________________________________________\n",
            "dense_17 (Dense)                (None, 1)            3889        flatten_17[0][0]                 \n",
            "__________________________________________________________________________________________________\n",
            "activation_34 (Activation)      (None, 1)            0           dense_17[0][0]                   \n",
            "==================================================================================================\n",
            "Total params: 4,057\n",
            "Trainable params: 4,057\n",
            "Non-trainable params: 0\n",
            "__________________________________________________________________________________________________\n",
            "Epoch 1/5\n",
            "1017/1017 [==============================] - 137s 135ms/step - loss: 9.9202 - accuracy: 0.3827 - val_loss: 15.2492 - val_accuracy: 0.3686\n",
            "Epoch 2/5\n",
            "1017/1017 [==============================] - 131s 129ms/step - loss: 9.9202 - accuracy: 0.3827 - val_loss: 15.2492 - val_accuracy: 0.3686\n",
            "Epoch 3/5\n",
            "1017/1017 [==============================] - 129s 127ms/step - loss: 9.9202 - accuracy: 0.3827 - val_loss: 15.2492 - val_accuracy: 0.3686\n",
            "Epoch 4/5\n",
            "1017/1017 [==============================] - 130s 127ms/step - loss: 9.9202 - accuracy: 0.3827 - val_loss: 15.2492 - val_accuracy: 0.3686\n",
            "Epoch 5/5\n",
            "1017/1017 [==============================] - 129s 127ms/step - loss: 9.9202 - accuracy: 0.3827 - val_loss: 15.2492 - val_accuracy: 0.3686\n"
          ],
          "name": "stdout"
        }
      ]
    },
    {
      "cell_type": "code",
      "metadata": {
        "id": "8DHRwxnXGVQ0",
        "colab_type": "code",
        "colab": {}
      },
      "source": [
        "model_meniscus_coronal.save(\"/content/gdrive/My Drive/resnet50_models/model_meniscus_coronal.h5\")"
      ],
      "execution_count": null,
      "outputs": []
    },
    {
      "cell_type": "code",
      "metadata": {
        "id": "Pc9wM7iXOw-4",
        "colab_type": "code",
        "colab": {
          "base_uri": "https://localhost:8080/",
          "height": 86
        },
        "outputId": "33809f10-766c-4d4c-a783-bea59cfb1da2"
      },
      "source": [
        "generator = GeneratorR( illness = \"meniscus\", plane = \"coronal\", type1 = \"test\")\n",
        "evaluate_meniscus_coronal = model_meniscus_coronal.evaluate_generator(generator=generator)\n",
        "loss , acc = evaluate_meniscus_coronal\n",
        "print(\"evaluation done\")\n",
        "print('\\nTesting loss: {}, acc: {}\\n'.format(loss, acc))"
      ],
      "execution_count": null,
      "outputs": [
        {
          "output_type": "stream",
          "text": [
            "evaluation done\n",
            "\n",
            "Testing loss: -0.0, acc: 0.4556782841682434\n",
            "\n"
          ],
          "name": "stdout"
        }
      ]
    },
    {
      "cell_type": "code",
      "metadata": {
        "id": "3_Rj_lptGhBX",
        "colab_type": "code",
        "colab": {
          "base_uri": "https://localhost:8080/",
          "height": 676
        },
        "outputId": "05ebcd0a-7cf1-431d-c1b1-58123c28af07"
      },
      "source": [
        "model_meniscus_sagittal = build_model()\n",
        "model_meniscus_sagittal.compile(loss=tf.keras.losses.binary_crossentropy, optimizer = \"adam\",metrics=[\"accuracy\"])\n",
        "training_generator = GeneratorR( illness = \"meniscus\", plane = \"sagittal\", type1 = \"train\")\n",
        "validation_generator = GeneratorR(illness = \"meniscus\", plane = \"sagittal\", type1 = \"valid\")\n",
        "# Train model on dataset\n",
        "history_meniscus_sagittal = model_meniscus_sagittal.fit_generator(generator=training_generator,\n",
        "                    validation_data=validation_generator,\n",
        "                    use_multiprocessing=True,\n",
        "                    workers=6, epochs = 5 )"
      ],
      "execution_count": null,
      "outputs": [
        {
          "output_type": "stream",
          "text": [
            "Model: \"model_18\"\n",
            "__________________________________________________________________________________________________\n",
            "Layer (type)                    Output Shape         Param #     Connected to                     \n",
            "==================================================================================================\n",
            "input_22 (InputLayer)           (None, 256, 256, 3)  0                                            \n",
            "__________________________________________________________________________________________________\n",
            "conv2d_44 (Conv2D)              (None, 256, 256, 3)  84          input_22[0][0]                   \n",
            "__________________________________________________________________________________________________\n",
            "conv2d_45 (Conv2D)              (None, 256, 256, 3)  84          conv2d_44[0][0]                  \n",
            "__________________________________________________________________________________________________\n",
            "add_18 (Add)                    (None, 256, 256, 3)  0           conv2d_45[0][0]                  \n",
            "                                                                 input_22[0][0]                   \n",
            "__________________________________________________________________________________________________\n",
            "activation_35 (Activation)      (None, 256, 256, 3)  0           add_18[0][0]                     \n",
            "__________________________________________________________________________________________________\n",
            "average_pooling2d_18 (AveragePo (None, 36, 36, 3)    0           activation_35[0][0]              \n",
            "__________________________________________________________________________________________________\n",
            "flatten_18 (Flatten)            (None, 3888)         0           average_pooling2d_18[0][0]       \n",
            "__________________________________________________________________________________________________\n",
            "dense_18 (Dense)                (None, 1)            3889        flatten_18[0][0]                 \n",
            "__________________________________________________________________________________________________\n",
            "activation_36 (Activation)      (None, 1)            0           dense_18[0][0]                   \n",
            "==================================================================================================\n",
            "Total params: 4,057\n",
            "Trainable params: 4,057\n",
            "Non-trainable params: 0\n",
            "__________________________________________________________________________________________________\n",
            "Epoch 1/5\n",
            "1016/1017 [============================>.] - ETA: 0s - loss: 9.9153 - accuracy: 0.3754\n",
            "1017/1017 [==============================] - 137s 135ms/step - loss: 9.9203 - accuracy: 0.3750 - val_loss: 15.2492 - val_accuracy: 0.3582\n",
            "Epoch 2/5\n",
            "1017/1017 [==============================] - 130s 128ms/step - loss: 9.9203 - accuracy: 0.3750 - val_loss: 15.2492 - val_accuracy: 0.3582\n",
            "Epoch 3/5\n",
            "\b\b\b\b\b\b\b\b\b\b\b\b\b\b\b\b\b\b\b\b\b\b\b\b\b\b\b\b\b\b\b\b\b\b\b\b\b\b\b\b\b\b\b\b\b\b\b\b\b\b\b\b\b\b\b\b\b\b\b\b\b\b\b\b\b\b\b\b\b\b\b\b\b\b\b\b\b\b\b\b\b\b\b\b\b\bEpoch 2/5\n",
            "1017/1017 [==============================] - 133s 130ms/step - loss: 9.9203 - accuracy: 0.3750 - val_loss: 15.2492 - val_accuracy: 0.3582\n",
            "Epoch 4/5\n",
            "1017/1017 [==============================] - 130s 128ms/step - loss: 9.9203 - accuracy: 0.3750 - val_loss: 15.2492 - val_accuracy: 0.3582\n",
            "Epoch 5/5\n",
            "Epoch 4/5\n",
            "1017/1017 [==============================] - 131s 129ms/step - loss: 9.9203 - accuracy: 0.3750 - val_loss: 15.2492 - val_accuracy: 0.3582\n"
          ],
          "name": "stdout"
        }
      ]
    },
    {
      "cell_type": "code",
      "metadata": {
        "id": "VnN6vEGaJj2m",
        "colab_type": "code",
        "colab": {}
      },
      "source": [
        "model_meniscus_sagittal.save(\"/content/gdrive/My Drive/resnet50_models/model_meniscus_sagittal.h5\")"
      ],
      "execution_count": null,
      "outputs": []
    },
    {
      "cell_type": "code",
      "metadata": {
        "id": "gjlEI20WODjv",
        "colab_type": "code",
        "colab": {
          "base_uri": "https://localhost:8080/",
          "height": 156
        },
        "outputId": "d5623abb-5ed6-4584-98c0-04b3ccdf655c"
      },
      "source": [
        "generator = GeneratorR( illness = \"meniscus\", plane = \"sagittal\", type1 = \"test\")\n",
        "evaluate_meniscus_sagittal = model_meniscus_sagittal.evaluate_generator(generator=generator)\n",
        "loss , acc = evaluate_meniscus_sagittal\n",
        "print(\"evaluation done\")\n",
        "print('\\nTesting loss: {}, acc: {}\\n'.format(loss, acc))"
      ],
      "execution_count": null,
      "outputs": [
        {
          "output_type": "stream",
          "text": [
            "evaluation done\n",
            "\n",
            "Testing loss: -0.0, acc: 0.45945945382118225\n",
            "\n",
            "evaluation done\n",
            "\n",
            "Testing loss: -0.0, acc: 0.45945945382118225\n",
            "\n"
          ],
          "name": "stdout"
        }
      ]
    },
    {
      "cell_type": "code",
      "metadata": {
        "id": "TzWVu8AcQzXm",
        "colab_type": "code",
        "colab": {}
      },
      "source": [
        "abnormalTestLabels = load_labels('test','abnormal')\n",
        "aclTestLabels = load_labels('test','acl')\n",
        "meniscusTestLabels = load_labels('test','meniscus')\n",
        "\n",
        "abnormalTrainLabels = load_labels('train','abnormal')\n",
        "aclTrainLabels = load_labels('train','acl')\n",
        "meniscusTrainLabels = load_labels('train','meniscus')\n",
        "\n",
        "abnormalValidLabels = load_labels('valid','abnormal')\n",
        "aclValidLabels = load_labels('valid','acl')\n",
        "meniscusValidLabels = load_labels('valid','meniscus')\n"
      ],
      "execution_count": null,
      "outputs": []
    },
    {
      "cell_type": "code",
      "metadata": {
        "id": "nveQPyQKQ5BZ",
        "colab_type": "code",
        "colab": {
          "base_uri": "https://localhost:8080/",
          "height": 34
        },
        "outputId": "e9a49e51-a1eb-41d1-a351-6342477f671b"
      },
      "source": [
        "model_abnormal_axial = load_model(\"/content/gdrive/My Drive/resnet50_models/model_abnormal_axial.h5\")\n",
        "print(model_abnormal_axial)"
      ],
      "execution_count": null,
      "outputs": [
        {
          "output_type": "stream",
          "text": [
            "<keras.engine.training.Model object at 0x7f18b61952b0>\n"
          ],
          "name": "stdout"
        }
      ]
    },
    {
      "cell_type": "code",
      "metadata": {
        "id": "Y9JeW2h_RCIn",
        "colab_type": "code",
        "colab": {}
      },
      "source": [
        "generator = GeneratorR( illness = \"abnormal\", plane = \"axial\", type1 = \"test\")\n",
        "predict_abnormal_axial_test = model_abnormal_axial.predict_generator(generator)\n",
        "\n",
        "generator = GeneratorR( illness = \"abnormal\", plane = \"axial\", type1 = \"train\")\n",
        "predict_abnormal_axial_train = model_abnormal_axial.predict_generator(generator)\n",
        "\n",
        "generator = GeneratorR( illness = \"abnormal\", plane = \"axial\", type1 = \"valid\")\n",
        "predict_abnormal_axial_valid = model_abnormal_axial.predict_generator(generator)\n",
        "\n",
        "print(\"prediction done\")"
      ],
      "execution_count": null,
      "outputs": []
    },
    {
      "cell_type": "code",
      "metadata": {
        "id": "WcBLGqjLTaex",
        "colab_type": "code",
        "colab": {
          "base_uri": "https://localhost:8080/",
          "height": 34
        },
        "outputId": "99906ed2-bb3d-4b38-852a-deb43b6c8723"
      },
      "source": [
        "model_abnormal_coronal = load_model(\"/content/gdrive/My Drive/resnet50_models/ model_abnormal_coronal.h5\")\n",
        "print(model_abnormal_coronal)"
      ],
      "execution_count": null,
      "outputs": [
        {
          "output_type": "stream",
          "text": [
            "<keras.engine.training.Model object at 0x7f46a1824438>\n"
          ],
          "name": "stdout"
        }
      ]
    },
    {
      "cell_type": "code",
      "metadata": {
        "id": "J0TAxVeeUbA-",
        "colab_type": "code",
        "colab": {
          "base_uri": "https://localhost:8080/",
          "height": 34
        },
        "outputId": "faad1c34-8910-4c75-9bfe-cdbdc1740e97"
      },
      "source": [
        "generator = GeneratorR( illness = \"abnormal\", plane = \"coronal\", type1 = \"test\")\n",
        "predict_abnormal_coronal_test = model_abnormal_coronal.predict_generator(generator=generator)\n",
        "\n",
        "generator = GeneratorR( illness = \"abnormal\", plane = \"coronal\", type1 = \"train\")\n",
        "predict_abnormal_coronal_train = model_abnormal_coronal.predict_generator(generator=generator)\n",
        "\n",
        "generator = GeneratorR( illness = \"abnormal\", plane = \"coronal\", type1 = \"valid\")\n",
        "predict_abnormal_coronal_valid = model_abnormal_coronal.predict_generator(generator=generator)\n",
        "\n",
        "print(\"--> prediction done\")"
      ],
      "execution_count": null,
      "outputs": [
        {
          "output_type": "stream",
          "text": [
            "--> prediction done\n"
          ],
          "name": "stdout"
        }
      ]
    },
    {
      "cell_type": "code",
      "metadata": {
        "id": "hxLR6mijWsUQ",
        "colab_type": "code",
        "colab": {
          "base_uri": "https://localhost:8080/",
          "height": 34
        },
        "outputId": "e40784e7-fd97-45a4-da3d-aa5d1db8ccab"
      },
      "source": [
        "model_abnormal_sagittal = load_model(\"/content/gdrive/My Drive/resnet50_models/model_abnormal_sagittal.h5\")\n",
        "print(model_abnormal_sagittal)"
      ],
      "execution_count": null,
      "outputs": [
        {
          "output_type": "stream",
          "text": [
            "<keras.engine.training.Model object at 0x7f46a062a748>\n"
          ],
          "name": "stdout"
        }
      ]
    },
    {
      "cell_type": "code",
      "metadata": {
        "id": "a0G7iV1gXFOS",
        "colab_type": "code",
        "colab": {
          "base_uri": "https://localhost:8080/",
          "height": 34
        },
        "outputId": "5cda6514-3592-49b5-ae76-3f16d8c02eb8"
      },
      "source": [
        "generator = GeneratorR( illness = \"abnormal\", plane = \"sagittal\", type1 = \"test\")\n",
        "predict_abnormal_sagittal_test = model_abnormal_sagittal.predict_generator(generator=generator)\n",
        "\n",
        "generator = GeneratorR( illness = \"abnormal\", plane = \"sagittal\", type1 = \"train\")\n",
        "predict_abnormal_sagittal_train = model_abnormal_sagittal.predict_generator(generator=generator)\n",
        "\n",
        "generator = GeneratorR( illness = \"abnormal\", plane = \"sagittal\", type1 = \"valid\")\n",
        "predict_abnormal_sagittal_valid = model_abnormal_sagittal.predict_generator(generator=generator)\n",
        "\n",
        "print(\"--> prediction done\")"
      ],
      "execution_count": null,
      "outputs": [
        {
          "output_type": "stream",
          "text": [
            "--> prediction done\n"
          ],
          "name": "stdout"
        }
      ]
    },
    {
      "cell_type": "code",
      "metadata": {
        "id": "bmgex1tnZJQm",
        "colab_type": "code",
        "colab": {
          "base_uri": "https://localhost:8080/",
          "height": 34
        },
        "outputId": "a5f51896-a0fe-45e9-b031-d4de23b4efab"
      },
      "source": [
        "model_acl_axial = load_model(\"/content/gdrive/My Drive/resnet50_models/model_acl_axial.h5\")\n",
        "print(model_acl_axial)"
      ],
      "execution_count": null,
      "outputs": [
        {
          "output_type": "stream",
          "text": [
            "<keras.engine.training.Model object at 0x7f46a0465710>\n"
          ],
          "name": "stdout"
        }
      ]
    },
    {
      "cell_type": "code",
      "metadata": {
        "id": "v6-VE0A2ZSkA",
        "colab_type": "code",
        "colab": {
          "base_uri": "https://localhost:8080/",
          "height": 34
        },
        "outputId": "84d7428d-453b-4ca9-e135-a2e726c00ced"
      },
      "source": [
        "generator = GeneratorR( illness = \"acl\", plane = \"axial\", type1 = \"test\")\n",
        "predict_acl_axial_test = model_acl_axial.predict_generator(generator=generator)\n",
        "\n",
        "generator = GeneratorR( illness = \"acl\", plane = \"axial\", type1 = \"train\")\n",
        "predict_acl_axial_train = model_acl_axial.predict_generator(generator=generator)\n",
        "\n",
        "generator = GeneratorR( illness = \"acl\", plane = \"axial\", type1 = \"valid\")\n",
        "predict_acl_axial_valid = model_acl_axial.predict_generator(generator=generator)\n",
        "\n",
        "print(\"--> prediction done\")"
      ],
      "execution_count": null,
      "outputs": [
        {
          "output_type": "stream",
          "text": [
            "--> prediction done\n"
          ],
          "name": "stdout"
        }
      ]
    },
    {
      "cell_type": "code",
      "metadata": {
        "id": "R9HkqylxeiyA",
        "colab_type": "code",
        "colab": {
          "base_uri": "https://localhost:8080/",
          "height": 34
        },
        "outputId": "c35d663f-3e1a-4490-b590-b162a3c43026"
      },
      "source": [
        "model_acl_coronal = load_model(\"/content/gdrive/My Drive/resnet50_models/model_acl_coronal.h5\")\n",
        "print(model_acl_coronal)"
      ],
      "execution_count": null,
      "outputs": [
        {
          "output_type": "stream",
          "text": [
            "<keras.engine.training.Model object at 0x7f46a0427e48>\n"
          ],
          "name": "stdout"
        }
      ]
    },
    {
      "cell_type": "code",
      "metadata": {
        "id": "xw1qg06Jet8D",
        "colab_type": "code",
        "colab": {
          "base_uri": "https://localhost:8080/",
          "height": 34
        },
        "outputId": "4dd4ce55-fc17-48fb-b643-9f0e697d412f"
      },
      "source": [
        "generator = GeneratorR( illness = \"acl\", plane = \"coronal\", type1 = \"test\")\n",
        "predict_acl_coronal_test = model_acl_coronal.predict_generator(generator=generator)\n",
        "\n",
        "generator = GeneratorR( illness = \"acl\", plane = \"coronal\", type1 = \"train\")\n",
        "predict_acl_coronal_train = model_acl_coronal.predict_generator(generator=generator)\n",
        "\n",
        "generator = GeneratorR( illness = \"acl\", plane = \"coronal\", type1 = \"valid\")\n",
        "predict_acl_coronal_valid = model_acl_coronal.predict_generator(generator=generator)\n",
        "\n",
        "print(\"--> prediction done\")"
      ],
      "execution_count": null,
      "outputs": [
        {
          "output_type": "stream",
          "text": [
            "--> prediction done\n"
          ],
          "name": "stdout"
        }
      ]
    },
    {
      "cell_type": "code",
      "metadata": {
        "id": "vVwpVYBqjxVi",
        "colab_type": "code",
        "colab": {
          "base_uri": "https://localhost:8080/",
          "height": 34
        },
        "outputId": "20bd5649-b4f1-48ae-ccc2-0b9cdc9e0f06"
      },
      "source": [
        "model_acl_sagittal = load_model(\"/content/gdrive/My Drive/resnet50_models/model_acl_sagittal.h5\")\n",
        "print(model_acl_sagittal)"
      ],
      "execution_count": null,
      "outputs": [
        {
          "output_type": "stream",
          "text": [
            "<keras.engine.training.Model object at 0x7f46a04654e0>\n"
          ],
          "name": "stdout"
        }
      ]
    },
    {
      "cell_type": "code",
      "metadata": {
        "id": "-3Z_7Z3kj4bP",
        "colab_type": "code",
        "colab": {
          "base_uri": "https://localhost:8080/",
          "height": 34
        },
        "outputId": "2f96548a-4c04-417f-e65f-2c95712ced1e"
      },
      "source": [
        "generator = GeneratorR( illness = \"acl\", plane = \"sagittal\", type1 = \"test\")\n",
        "predict_acl_sagittal_test = model_acl_sagittal.predict_generator(generator=generator)\n",
        "\n",
        "generator = GeneratorR( illness = \"acl\", plane = \"sagittal\", type1 = \"train\")\n",
        "predict_acl_sagittal_train = model_acl_sagittal.predict_generator(generator=generator)\n",
        "\n",
        "generator = GeneratorR( illness = \"acl\", plane = \"sagittal\", type1 = \"valid\")\n",
        "predict_acl_sagittal_valid = model_acl_sagittal.predict_generator(generator=generator)\n",
        "\n",
        "print(\"--> prediction done\")"
      ],
      "execution_count": null,
      "outputs": [
        {
          "output_type": "stream",
          "text": [
            "--> prediction done\n"
          ],
          "name": "stdout"
        }
      ]
    },
    {
      "cell_type": "code",
      "metadata": {
        "id": "vuhUSZhDoHOP",
        "colab_type": "code",
        "colab": {
          "base_uri": "https://localhost:8080/",
          "height": 34
        },
        "outputId": "7dfb0a21-9ee2-4587-d37f-9199763db0cf"
      },
      "source": [
        "model_meniscus_axial = load_model(\"/content/gdrive/My Drive/resnet50_models/model_meniscus_axial.h5\")\n",
        "print(model_meniscus_axial)"
      ],
      "execution_count": null,
      "outputs": [
        {
          "output_type": "stream",
          "text": [
            "<keras.engine.training.Model object at 0x7f469fa654e0>\n"
          ],
          "name": "stdout"
        }
      ]
    },
    {
      "cell_type": "code",
      "metadata": {
        "id": "XeqZGUZ0oRLX",
        "colab_type": "code",
        "colab": {
          "base_uri": "https://localhost:8080/",
          "height": 34
        },
        "outputId": "4a06d918-b497-47b9-eafe-8110bc00da39"
      },
      "source": [
        "generator = GeneratorR( illness = \"meniscus\", plane = \"axial\", type1 = \"test\")\n",
        "predict_meniscus_axial_test = model_meniscus_axial.predict_generator(generator=generator)\n",
        "\n",
        "generator = GeneratorR( illness = \"meniscus\", plane = \"axial\", type1 = \"train\")\n",
        "predict_meniscus_axial_train = model_meniscus_axial.predict_generator(generator=generator)\n",
        "\n",
        "generator = GeneratorR( illness = \"meniscus\", plane = \"axial\", type1 = \"valid\")\n",
        "predict_meniscus_axial_valid = model_meniscus_axial.predict_generator(generator=generator)\n",
        "\n",
        "print(\"--> prediction done\")"
      ],
      "execution_count": null,
      "outputs": [
        {
          "output_type": "stream",
          "text": [
            "--> prediction done\n"
          ],
          "name": "stdout"
        }
      ]
    },
    {
      "cell_type": "code",
      "metadata": {
        "id": "kv_37N69swoW",
        "colab_type": "code",
        "colab": {
          "base_uri": "https://localhost:8080/",
          "height": 34
        },
        "outputId": "6b190109-37bd-4a55-eb59-21a1396fd7b9"
      },
      "source": [
        "model_meniscus_coronal = load_model(\"/content/gdrive/My Drive/resnet50_models/model_meniscus_coronal.h5\")\n",
        "print(model_meniscus_coronal)"
      ],
      "execution_count": null,
      "outputs": [
        {
          "output_type": "stream",
          "text": [
            "<keras.engine.training.Model object at 0x7f469fa4b668>\n"
          ],
          "name": "stdout"
        }
      ]
    },
    {
      "cell_type": "code",
      "metadata": {
        "id": "ASKdesiXs_ih",
        "colab_type": "code",
        "colab": {
          "base_uri": "https://localhost:8080/",
          "height": 34
        },
        "outputId": "8609bc59-75ce-4fcf-c2b4-8900db7c15d6"
      },
      "source": [
        "generator = GeneratorR( illness = \"meniscus\", plane = \"coronal\", type1 = \"test\")\n",
        "predict_meniscus_coronal_test = model_meniscus_coronal.predict_generator(generator=generator)\n",
        "\n",
        "generator = GeneratorR( illness = \"meniscus\", plane = \"coronal\", type1 = \"train\")\n",
        "predict_meniscus_coronal_train = model_meniscus_coronal.predict_generator(generator=generator)\n",
        "\n",
        "generator = GeneratorR( illness = \"meniscus\", plane = \"coronal\", type1 = \"valid\")\n",
        "predict_meniscus_coronal_valid = model_meniscus_coronal.predict_generator(generator=generator)\n",
        "\n",
        "print(\"--> prediction done\")"
      ],
      "execution_count": null,
      "outputs": [
        {
          "output_type": "stream",
          "text": [
            "--> prediction done\n"
          ],
          "name": "stdout"
        }
      ]
    },
    {
      "cell_type": "code",
      "metadata": {
        "id": "Mav4LM2HxufT",
        "colab_type": "code",
        "colab": {
          "base_uri": "https://localhost:8080/",
          "height": 34
        },
        "outputId": "df25c55e-6ef5-472e-af89-f9614d24af77"
      },
      "source": [
        "model_meniscus_sagittal = load_model(\"/content/gdrive/My Drive/resnet50_models/model_meniscus_sagittal.h5\")\n",
        "print(model_meniscus_sagittal)"
      ],
      "execution_count": null,
      "outputs": [
        {
          "output_type": "stream",
          "text": [
            "<keras.engine.training.Model object at 0x7f469fe8afd0>\n"
          ],
          "name": "stdout"
        }
      ]
    },
    {
      "cell_type": "code",
      "metadata": {
        "id": "8Al_ldILx7I-",
        "colab_type": "code",
        "colab": {
          "base_uri": "https://localhost:8080/",
          "height": 34
        },
        "outputId": "f117e9e8-0d07-49d2-90c4-37d5bbea5e49"
      },
      "source": [
        "generator = GeneratorR( illness = \"meniscus\", plane = \"sagittal\", type1 = \"test\")\n",
        "predict_meniscus_sagittal_test = model_meniscus_sagittal.predict_generator(generator=generator)\n",
        "\n",
        "generator = GeneratorR( illness = \"meniscus\", plane = \"sagittal\", type1 = \"train\")\n",
        "predict_meniscus_sagittal_train = model_meniscus_sagittal.predict_generator(generator=generator)\n",
        "\n",
        "generator = GeneratorR( illness = \"meniscus\", plane = \"sagittal\", type1 = \"valid\")\n",
        "predict_meniscus_sagittal_valid = model_meniscus_sagittal.predict_generator(generator=generator)\n",
        "\n",
        "print(\"--> prediction done\")"
      ],
      "execution_count": null,
      "outputs": [
        {
          "output_type": "stream",
          "text": [
            "--> prediction done\n"
          ],
          "name": "stdout"
        }
      ]
    },
    {
      "cell_type": "code",
      "metadata": {
        "id": "grQZx6Bc2mau",
        "colab_type": "code",
        "colab": {}
      },
      "source": [
        "Abnormal_model = logistic_regression()\n",
        "\n",
        "abnormal_train_predictions = []\n",
        "\n",
        "abnormal_train_predictions.append(predict_abnormal_axial_train)\n",
        "abnormal_train_predictions.append(predict_abnormal_coronal_train)\n",
        "abnormal_train_predictions.append(predict_abnormal_sagittal_train)\n",
        "\n",
        "abnormal_train_predictions = np.transpose(abnormal_train_predictions)\n",
        "\n",
        "#print(np.array(abnormal_train_predictions)[0].shape)\n",
        "\n",
        "abnormal_valid_predictions = []\n",
        "abnormal_valid_predictions.append(predict_abnormal_axial_valid)\n",
        "abnormal_valid_predictions.append(predict_abnormal_coronal_valid)\n",
        "abnormal_valid_predictions.append(predict_abnormal_sagittal_valid)\n",
        "\n",
        "#print(np.array(abnormalValidLabels).shape)\n",
        "\n",
        "abnormal_valid_predictions = np.transpose(abnormal_valid_predictions)\n",
        "\n",
        "\n",
        "Abnormal_model.fit( np.array(abnormal_train_predictions)[0] , [abnormalTrainLabels],\n",
        "                   validation_data = ( np.array(abnormal_valid_predictions)[0] , np.array(abnormalValidLabels)),\n",
        "                   epochs = 50,use_multiprocessing=True, workers=6)\n",
        "\n"
      ],
      "execution_count": null,
      "outputs": []
    },
    {
      "cell_type": "code",
      "metadata": {
        "id": "wiAVz0IwqUte",
        "colab_type": "code",
        "colab": {}
      },
      "source": [
        "abnormal_test_predictions = []\n",
        "abnormal_test_predictions.append(predict_abnormal_axial_test)\n",
        "abnormal_test_predictions.append(predict_abnormal_coronal_test)\n",
        "abnormal_test_predictions.append(predict_abnormal_sagittal_test)\n",
        "\n",
        "abnormal_test_predictions = np.transpose(abnormal_test_predictions)\n",
        "\n",
        "\n",
        "loss1 , acc1 = Abnormal_model.evaluate(abnormal_test_predictions[0] , [abnormalTestLabels])\n",
        "print(\"evaluation done\")\n",
        "print('\\nTesting loss: {}, acc: {}\\n'.format(loss1, acc1))"
      ],
      "execution_count": null,
      "outputs": []
    },
    {
      "cell_type": "code",
      "metadata": {
        "id": "0F7C0SW1qXKg",
        "colab_type": "code",
        "colab": {}
      },
      "source": [
        "ACL_model = logistic_regression()\n",
        "\n",
        "acl_train_predictions = []\n",
        "acl_train_predictions.append(predict_acl_axial_train)\n",
        "acl_train_predictions.append(predict_acl_coronal_train)\n",
        "acl_train_predictions.append(predict_acl_sagittal_train)\n",
        "\n",
        "acl_train_predictions = np.transpose(acl_train_predictions)\n",
        "\n",
        "acl_valid_predictions = []\n",
        "acl_valid_predictions.append(predict_acl_axial_valid)\n",
        "acl_valid_predictions.append(predict_acl_coronal_valid)\n",
        "acl_valid_predictions.append(predict_acl_sagittal_valid)\n",
        "\n",
        "acl_valid_predictions = np.transpose(acl_valid_predictions)\n",
        "\n",
        "ACL_model.fit(np.array(abnormal_train_predictions)[0] , [aclTrainLabels],\n",
        "                   validation_data = (np.array(acl_valid_predictions)[0], [aclValidLabels]),\n",
        "                   epochs = 50,use_multiprocessing=True, workers=6)\n",
        "\n"
      ],
      "execution_count": null,
      "outputs": []
    },
    {
      "cell_type": "code",
      "metadata": {
        "id": "C1gTrRNiqcXR",
        "colab_type": "code",
        "colab": {}
      },
      "source": [
        "acl_test_predictions = []\n",
        "acl_test_predictions.append(predict_acl_axial_test)\n",
        "acl_test_predictions.append(predict_acl_coronal_test)\n",
        "acl_test_predictions.append(predict_acl_sagittal_test)\n",
        "\n",
        "acl_test_predictions = np.transpose(acl_test_predictions)\n",
        "\n",
        "loss2, acc2 = ACL_model.evaluate(acl_test_predictions[0], [aclTestLabels])\n",
        "print(\"evaluation done\")\n",
        "print('\\nTesting loss: {}, acc: {}\\n'.format(loss2, acc2))"
      ],
      "execution_count": null,
      "outputs": []
    },
    {
      "cell_type": "code",
      "metadata": {
        "id": "8J56vqJdqlKQ",
        "colab_type": "code",
        "colab": {}
      },
      "source": [
        "Meniscus_model = logistic_regression()\n",
        "\n",
        "meniscus_train_predictions = []\n",
        "meniscus_train_predictions.append(predict_meniscus_axial_train)\n",
        "meniscus_train_predictions.append(predict_meniscus_coronal_train)\n",
        "meniscus_train_predictions.append(predict_meniscus_sagittal_train)\n",
        "\n",
        "meniscus_train_predictions = np.transpose(meniscus_train_predictions)\n",
        "\n",
        "meniscus_valid_predictions = []\n",
        "meniscus_valid_predictions.append(predict_meniscus_axial_valid)\n",
        "meniscus_valid_predictions.append(predict_meniscus_coronal_valid)\n",
        "meniscus_valid_predictions.append(predict_meniscus_sagittal_valid)\n",
        "\n",
        "meniscus_valid_predictions = np.transpose(meniscus_valid_predictions)\n",
        "\n",
        "Meniscus_model.fit(np.array(meniscus_train_predictions)[0] , [meniscusTrainLabels],\n",
        "                   validation_data = (np.array(meniscus_valid_predictions)[0], [meniscusValidLabels]),\n",
        "                   epochs = 50,use_multiprocessing=True, workers=6)\n",
        "\n"
      ],
      "execution_count": null,
      "outputs": []
    },
    {
      "cell_type": "code",
      "metadata": {
        "id": "EwCAfCnnqpPy",
        "colab_type": "code",
        "colab": {}
      },
      "source": [
        "meniscus_test_predictions = []\n",
        "meniscus_test_predictions.append(predict_meniscus_axial_test)\n",
        "meniscus_test_predictions.append(predict_meniscus_coronal_test)\n",
        "meniscus_test_predictions.append(predict_meniscus_sagittal_test)\n",
        "meniscus_test_predictions = np.transpose(meniscus_test_predictions)\n",
        "loss3, acc3 = Meniscus_model.evaluate(meniscus_test_predictions[0] ,   [meniscusTestLabels])\n",
        "print(\"evaluation done\")\n",
        "print('\\nTesting loss: {}, acc: {}\\n'.format(loss3, acc3))"
      ],
      "execution_count": null,
      "outputs": []
    },
    {
      "cell_type": "markdown",
      "metadata": {
        "id": "lbK1u56Gq3IR",
        "colab_type": "text"
      },
      "source": [
        "# Final Accuaracy\n"
      ]
    },
    {
      "cell_type": "code",
      "metadata": {
        "id": "LWRxOX1hqse_",
        "colab_type": "code",
        "colab": {}
      },
      "source": [
        "print('\\nAbnormal Accuracy: {}'.format(acc1))\n",
        "print('Abnormal Loss    : {}'.format(loss1))\n",
        "print('\\nACL Accuracy     : {}'.format(acc2))\n",
        "print('ACL Loss         : {}'.format(loss2))\n",
        "print('\\nMeniscus Accuracy: {}'.format(acc3))\n",
        "print('Meniscus Loss    : {}\\n'.format(loss3))"
      ],
      "execution_count": null,
      "outputs": []
    },
    {
      "cell_type": "markdown",
      "metadata": {
        "id": "AaA-wehjv0JB",
        "colab_type": "text"
      },
      "source": [
        "# Transfer learning"
      ]
    },
    {
      "cell_type": "code",
      "metadata": {
        "id": "BRZj3rtytPpj",
        "colab_type": "code",
        "colab": {}
      },
      "source": [
        "from keras import models\n",
        "from keras import layers\n",
        "from keras.models import Model\n",
        "from keras.layers.wrappers import TimeDistributed\n",
        "from keras.layers import Dense, Input\n",
        "from keras.layers.convolutional import Conv2D\n",
        "from keras.layers import Conv2D, MaxPooling2D, Embedding, Reshape, Concatenate, Dropout\n",
        "from keras.layers import GlobalAveragePooling2D\n",
        "from keras.utils import plot_model \n",
        "from keras.layers import Activation"
      ],
      "execution_count": null,
      "outputs": []
    },
    {
      "cell_type": "code",
      "metadata": {
        "id": "-aDm8HL3tZq2",
        "colab_type": "code",
        "colab": {
          "base_uri": "https://localhost:8080/",
          "height": 54
        },
        "outputId": "16b680e6-4162-49c9-e044-d9b5fc4277fe"
      },
      "source": [
        "from keras.models import Sequential,load_model\n",
        "from keras.models import Model\n",
        "from keras.callbacks import ModelCheckpoint, LearningRateScheduler, EarlyStopping, ReduceLROnPlateau, TensorBoard\n",
        "from keras import optimizers, losses, activations, models\n",
        "from keras.layers import Convolution2D, Dense, Input, Flatten, Dropout, MaxPooling2D, BatchNormalization, GlobalAveragePooling2D, Concatenate,GlobalMaxPooling1D\n",
        "from keras.applications.vgg16 import VGG16\n",
        "def get_model():\n",
        " ip = Input(shape=(None,256,256,3))\n",
        " ##built in model\n",
        " def create_base():\n",
        "  base_model = VGG16(weights='imagenet', \n",
        "                                include_top=False,input_shape=(256,256,3))\n",
        "  layer = (GlobalAveragePooling2D())(base_model.output)\n",
        "  f_model = Model(base_model.input, layer)\n",
        "  return f_model\n",
        "\n",
        " temp_base = create_base()\n",
        "##freeze outer layer##\n",
        " for layer in temp_base.layers:\n",
        "     layer.trainable = False\n",
        "\n",
        " layer = TimeDistributed(temp_base)(ip)    \n",
        " ##add max pooling layer\n",
        " input2 = Input((None, 512))\n",
        " output2 = (keras.layers.pooling.GlobalMaxPooling1D())(input2)\n",
        " output2 = Model(inputs = input2  ,output = output2 )\n",
        " layer = (output2)(layer)\n",
        " #fully connected layer\n",
        " layer = layers.Dense(1, activation= 'sigmoid')(layer)\n",
        " model = Model(ip,layer)\n",
        "\n",
        " model.compile(loss = \"binary_crossentropy\", optimizer = \"adam\",metrics=['accuracy'])\n",
        " model.summary()\n",
        " return model\n"
      ],
      "execution_count": null,
      "outputs": [
        {
          "output_type": "execute_result",
          "data": {
            "text/plain": [
              "'\\n\\nadd_model = keras.Sequential()\\nadd_model.add(base_model)\\n\\n\\n\\n\\ninput2 = Input((None, 2048))\\noutput2 = (GlobalMaxPooling1D())(input2)\\noutput2 = Model(inputs = input2  ,output = output2 )\\nlayer = (output2)(layer)\\n\\nmodel = Model(inputs=visible, outputs=layer)\\n#dd_model.add(layer)\\n#model = add_model\\n  # compile model\\nmodel.compile(loss = \"binary_crossentropy\", optimizer = \"adam\",metrics=[\\'accuracy\\'])\\n\\n  # summarize model\\nmodel.summary()\\n '"
            ]
          },
          "metadata": {
            "tags": []
          },
          "execution_count": 30
        }
      ]
    },
    {
      "cell_type": "markdown",
      "metadata": {
        "id": "xzf72Q9iuSQX",
        "colab_type": "text"
      },
      "source": [
        "**Fitting and evaluating the models**"
      ]
    },
    {
      "cell_type": "code",
      "metadata": {
        "id": "hDy47tynBo5r",
        "colab_type": "code",
        "colab": {
          "base_uri": "https://localhost:8080/",
          "height": 487
        },
        "outputId": "1b726eda-932a-4458-ad58-fca1c8f746ae"
      },
      "source": [
        "model1 = get_model()\n",
        "training_generator = Generator( illness = \"abnormal\", plane = \"coronal\", type1 = \"train\")\n",
        "validation_generator = Generator(illness = \"abnormal\", plane = \"coronal\", type1 = \"valid\")\n",
        "\n",
        "history_abnormal_axial = model1.fit_generator(generator=training_generator,\n",
        "                    validation_data=validation_generator,\n",
        "                    use_multiprocessing=True,\n",
        "                    workers=6, epochs = 5)\n",
        "model1.save('/content/gdrive/My Drive/transferVGG_models/model1.h5')"
      ],
      "execution_count": null,
      "outputs": [
        {
          "output_type": "stream",
          "text": [
            "/usr/local/lib/python3.6/dist-packages/ipykernel_launcher.py:25: UserWarning: Update your `Model` call to the Keras 2 API: `Model(inputs=Tensor(\"in..., outputs=Tensor(\"gl...)`\n"
          ],
          "name": "stderr"
        },
        {
          "output_type": "stream",
          "text": [
            "Model: \"model_39\"\n",
            "_________________________________________________________________\n",
            "Layer (type)                 Output Shape              Param #   \n",
            "=================================================================\n",
            "input_37 (InputLayer)        (None, None, 256, 256, 3) 0         \n",
            "_________________________________________________________________\n",
            "time_distributed_13 (TimeDis (None, None, 512)         14714688  \n",
            "_________________________________________________________________\n",
            "model_38 (Model)             (None, 512)               0         \n",
            "_________________________________________________________________\n",
            "dense_13 (Dense)             (None, 1)                 513       \n",
            "=================================================================\n",
            "Total params: 14,715,201\n",
            "Trainable params: 513\n",
            "Non-trainable params: 14,714,688\n",
            "_________________________________________________________________\n",
            "Epoch 1/5\n",
            "1017/1017 [==============================] - 133s 130ms/step - loss: 0.9370 - accuracy: 0.7424 - val_loss: 0.0783 - val_accuracy: 0.7522\n",
            "Epoch 2/5\n",
            "1017/1017 [==============================] - 132s 130ms/step - loss: 0.6722 - accuracy: 0.7984 - val_loss: 0.0013 - val_accuracy: 0.8319\n",
            "Epoch 3/5\n",
            "1017/1017 [==============================] - 132s 130ms/step - loss: 0.5780 - accuracy: 0.8191 - val_loss: 4.2476e-05 - val_accuracy: 0.8761\n",
            "Epoch 3/5\n",
            "Epoch 4/5\n",
            "1017/1017 [==============================] - 132s 130ms/step - loss: 0.5669 - accuracy: 0.8260 - val_loss: 4.7319e-05 - val_accuracy: 0.8407\n",
            "Epoch 5/5\n",
            "1017/1017 [==============================] - 132s 130ms/step - loss: 0.5824 - accuracy: 0.8201 - val_loss: 1.0855e-06 - val_accuracy: 0.8850\n"
          ],
          "name": "stdout"
        }
      ]
    },
    {
      "cell_type": "code",
      "metadata": {
        "id": "c2kNJ9X1LDEB",
        "colab_type": "code",
        "colab": {
          "base_uri": "https://localhost:8080/",
          "height": 84
        },
        "outputId": "488b9883-0f48-463d-81e0-14407604bf16"
      },
      "source": [
        "generator = Generator( illness = \"abnormal\", plane = \"coronal\", type1 = \"test\")\n",
        "evaluate_abnormal_coronal = model1.evaluate_generator(generator=generator)\n",
        "loss , acc = evaluate_abnormal_coronal\n",
        "print(\"evaluation done\")\n",
        "print('\\nTesting loss: {}, acc: {}\\n'.format(loss, acc))"
      ],
      "execution_count": null,
      "outputs": [
        {
          "output_type": "stream",
          "text": [
            "evaluation done\n",
            "\n",
            "Testing loss: 1.3666744232177734, acc: 0.824999988079071\n",
            "\n"
          ],
          "name": "stdout"
        }
      ]
    },
    {
      "cell_type": "code",
      "metadata": {
        "id": "-wtirTlQL1fN",
        "colab_type": "code",
        "colab": {
          "base_uri": "https://localhost:8080/",
          "height": 470
        },
        "outputId": "f9603c8b-2db9-4566-92f1-6a47064643e7"
      },
      "source": [
        "model2 = get_model()\n",
        "training_generator = Generator( illness = \"abnormal\", plane = \"sagittal\", type1 = \"train\")\n",
        "validation_generator = Generator(illness = \"abnormal\", plane = \"sagittal\", type1 = \"valid\")\n",
        "\n",
        "\n",
        "# Train model on dataset\n",
        "history_abnormal_sagittal = model2.fit_generator(generator=training_generator,\n",
        "                    validation_data=validation_generator,\n",
        "                    use_multiprocessing=False,\n",
        "                    workers=6, epochs = 5 )\n",
        "model2.save('/content/gdrive/My Drive/transferVGG_models/model2.h5')"
      ],
      "execution_count": null,
      "outputs": [
        {
          "output_type": "stream",
          "text": [
            "/usr/local/lib/python3.6/dist-packages/ipykernel_launcher.py:25: UserWarning: Update your `Model` call to the Keras 2 API: `Model(inputs=Tensor(\"in..., outputs=Tensor(\"gl...)`\n"
          ],
          "name": "stderr"
        },
        {
          "output_type": "stream",
          "text": [
            "Model: \"model_15\"\n",
            "_________________________________________________________________\n",
            "Layer (type)                 Output Shape              Param #   \n",
            "=================================================================\n",
            "input_13 (InputLayer)        (None, None, 256, 256, 3) 0         \n",
            "_________________________________________________________________\n",
            "time_distributed_5 (TimeDist (None, None, 512)         14714688  \n",
            "_________________________________________________________________\n",
            "model_14 (Model)             (None, 512)               0         \n",
            "_________________________________________________________________\n",
            "dense_5 (Dense)              (None, 1)                 513       \n",
            "=================================================================\n",
            "Total params: 14,715,201\n",
            "Trainable params: 513\n",
            "Non-trainable params: 14,714,688\n",
            "_________________________________________________________________\n",
            "Epoch 1/5\n",
            "1017/1017 [==============================] - 140s 138ms/step - loss: 0.9423 - accuracy: 0.7561 - val_loss: 2.8959e-07 - val_accuracy: 0.7965\n",
            "Epoch 2/5\n",
            "1017/1017 [==============================] - 138s 135ms/step - loss: 0.6358 - accuracy: 0.8132 - val_loss: 8.3008e-05 - val_accuracy: 0.5841\n",
            "Epoch 3/5\n",
            "1017/1017 [==============================] - 138s 135ms/step - loss: 0.5753 - accuracy: 0.8378 - val_loss: 1.5396e-09 - val_accuracy: 0.8053\n",
            "Epoch 4/5\n",
            "1017/1017 [==============================] - 138s 135ms/step - loss: 0.5413 - accuracy: 0.8387 - val_loss: 4.4609e-09 - val_accuracy: 0.8053\n",
            "Epoch 5/5\n",
            "1017/1017 [==============================] - 138s 136ms/step - loss: 0.4959 - accuracy: 0.8427 - val_loss: 1.1029e-07 - val_accuracy: 0.8053\n"
          ],
          "name": "stdout"
        }
      ]
    },
    {
      "cell_type": "code",
      "metadata": {
        "id": "yeAJRaWRLTGC",
        "colab_type": "code",
        "colab": {
          "base_uri": "https://localhost:8080/",
          "height": 84
        },
        "outputId": "72ff6f0c-0733-4642-f61b-33d983a355a6"
      },
      "source": [
        "generator = Generator( illness = \"abnormal\", plane = \"sagittal\", type1 = \"test\")\n",
        "evaluate_abnormal_sagittal = model2.evaluate_generator(generator=generator)\n",
        "loss , acc = evaluate_abnormal_sagittal\n",
        "print(\"evaluation done\")\n",
        "print('\\nTesting loss: {}, acc: {}\\n'.format(loss, acc))"
      ],
      "execution_count": null,
      "outputs": [
        {
          "output_type": "stream",
          "text": [
            "evaluation done\n",
            "\n",
            "Testing loss: 0.0042292033322155476, acc: 0.8416666388511658\n",
            "\n"
          ],
          "name": "stdout"
        }
      ]
    },
    {
      "cell_type": "code",
      "metadata": {
        "id": "yRk567g_MH8W",
        "colab_type": "code",
        "colab": {
          "base_uri": "https://localhost:8080/",
          "height": 504
        },
        "outputId": "f595645f-9b30-435c-9b93-d9a8349f211d"
      },
      "source": [
        "model3 = get_model()\n",
        "training_generator = Generator( illness = \"abnormal\", plane = \"axial\", type1 = \"train\")\n",
        "validation_generator = Generator(illness = \"abnormal\", plane = \"axial\", type1 = \"valid\")\n",
        "\n",
        "\n",
        "# Train model on dataset\n",
        "history_abnormal_axial = model3.fit_generator(generator=training_generator,\n",
        "                    validation_data=validation_generator,\n",
        "                    use_multiprocessing=True,\n",
        "                    workers=6, epochs=5)\n",
        "model3.save('/content/gdrive/My Drive/transferVGG_models/model3.h5')"
      ],
      "execution_count": null,
      "outputs": [
        {
          "output_type": "stream",
          "text": [
            "/usr/local/lib/python3.6/dist-packages/ipykernel_launcher.py:25: UserWarning: Update your `Model` call to the Keras 2 API: `Model(inputs=Tensor(\"in..., outputs=Tensor(\"gl...)`\n"
          ],
          "name": "stderr"
        },
        {
          "output_type": "stream",
          "text": [
            "Model: \"model_18\"\n",
            "_________________________________________________________________\n",
            "Layer (type)                 Output Shape              Param #   \n",
            "=================================================================\n",
            "input_16 (InputLayer)        (None, None, 256, 256, 3) 0         \n",
            "_________________________________________________________________\n",
            "time_distributed_6 (TimeDist (None, None, 512)         14714688  \n",
            "_________________________________________________________________\n",
            "model_17 (Model)             (None, 512)               0         \n",
            "_________________________________________________________________\n",
            "dense_6 (Dense)              (None, 1)                 513       \n",
            "=================================================================\n",
            "Total params: 14,715,201\n",
            "Trainable params: 513\n",
            "Non-trainable params: 14,714,688\n",
            "_________________________________________________________________\n",
            "Epoch 1/5\n",
            "1016/1017 [============================>.] - ETA: 0s - loss: 0.9026 - accuracy: 0.7677\n",
            "\n",
            "1017/1017 [==============================] - 148s 146ms/step - loss: 0.9018 - accuracy: 0.7679 - val_loss: 1.7326e-09 - val_accuracy: 0.8053\n",
            "Epoch 2/5\n",
            "1017/1017 [==============================] - 146s 144ms/step - loss: 0.8177 - accuracy: 0.8024 - val_loss: 4.1946e-08 - val_accuracy: 0.8230\n",
            "Epoch 3/5\n",
            "1017/1017 [==============================] - 146s 144ms/step - loss: 0.7601 - accuracy: 0.8151 - val_loss: 3.2134e-09 - val_accuracy: 0.8142\n",
            "Epoch 4/5\n",
            "1017/1017 [==============================] - 146s 144ms/step - loss: 0.7524 - accuracy: 0.8161 - val_loss: 2.0054e-09 - val_accuracy: 0.8053\n",
            "Epoch 5/5\n",
            "1017/1017 [==============================] - 146s 144ms/step - loss: 0.6837 - accuracy: 0.8319 - val_loss: 1.2272e-05 - val_accuracy: 0.7699\n"
          ],
          "name": "stdout"
        }
      ]
    },
    {
      "cell_type": "code",
      "metadata": {
        "id": "cugeXC_HJ0kM",
        "colab_type": "code",
        "colab": {
          "base_uri": "https://localhost:8080/",
          "height": 84
        },
        "outputId": "c9982dab-7245-4af2-8c92-cd1501be7c51"
      },
      "source": [
        "generator = Generator( illness = \"abnormal\", plane = \"axial\", type1 = \"test\")\n",
        "evaluate_abnormal_axial = model3.evaluate_generator( generator)\n",
        "loss , acc = evaluate_abnormal_axial\n",
        "print(\"evaluation done\")\n",
        "print('\\nTesting loss: {}, acc: {}\\n'.format(loss, acc))"
      ],
      "execution_count": null,
      "outputs": [
        {
          "output_type": "stream",
          "text": [
            "evaluation done\n",
            "\n",
            "Testing loss: 4.429042339324951, acc: 0.8583333492279053\n",
            "\n"
          ],
          "name": "stdout"
        }
      ]
    },
    {
      "cell_type": "code",
      "metadata": {
        "id": "I3QfCKodMiT8",
        "colab_type": "code",
        "colab": {
          "base_uri": "https://localhost:8080/",
          "height": 470
        },
        "outputId": "aa03a858-dcfe-4e83-9553-e770ed644146"
      },
      "source": [
        "model4 = get_model()\n",
        "training_generator = Generator( illness = \"acl\", plane = \"axial\", type1 = \"train\")\n",
        "validation_generator = Generator(illness = \"acl\", plane = \"axial\", type1 = \"valid\")\n",
        "\n",
        "\n",
        "# Train model on dataset\n",
        "history_acl_axial = model4.fit_generator(generator=training_generator,\n",
        "                    validation_data=validation_generator,\n",
        "                    use_multiprocessing=False,\n",
        "                    workers=6, epochs = 5 )\n",
        "model4.save('/content/gdrive/My Drive/transferVGG_models/model4.h5')"
      ],
      "execution_count": null,
      "outputs": [
        {
          "output_type": "stream",
          "text": [
            "/usr/local/lib/python3.6/dist-packages/ipykernel_launcher.py:25: UserWarning: Update your `Model` call to the Keras 2 API: `Model(inputs=Tensor(\"in..., outputs=Tensor(\"gl...)`\n"
          ],
          "name": "stderr"
        },
        {
          "output_type": "stream",
          "text": [
            "Model: \"model_21\"\n",
            "_________________________________________________________________\n",
            "Layer (type)                 Output Shape              Param #   \n",
            "=================================================================\n",
            "input_19 (InputLayer)        (None, None, 256, 256, 3) 0         \n",
            "_________________________________________________________________\n",
            "time_distributed_7 (TimeDist (None, None, 512)         14714688  \n",
            "_________________________________________________________________\n",
            "model_20 (Model)             (None, 512)               0         \n",
            "_________________________________________________________________\n",
            "dense_7 (Dense)              (None, 1)                 513       \n",
            "=================================================================\n",
            "Total params: 14,715,201\n",
            "Trainable params: 513\n",
            "Non-trainable params: 14,714,688\n",
            "_________________________________________________________________\n",
            "Epoch 1/5\n",
            "1017/1017 [==============================] - 153s 150ms/step - loss: 1.3864 - accuracy: 0.7080 - val_loss: 0.0068 - val_accuracy: 0.6460\n",
            "Epoch 2/5\n",
            "1017/1017 [==============================] - 153s 150ms/step - loss: 0.9164 - accuracy: 0.7650 - val_loss: 0.0023 - val_accuracy: 0.7168\n",
            "Epoch 3/5\n",
            "1017/1017 [==============================] - 153s 150ms/step - loss: 0.8002 - accuracy: 0.7797 - val_loss: 0.1396 - val_accuracy: 0.8584\n",
            "Epoch 4/5\n",
            "1017/1017 [==============================] - 153s 150ms/step - loss: 0.7844 - accuracy: 0.7847 - val_loss: 0.0232 - val_accuracy: 0.7522\n",
            "Epoch 5/5\n",
            "1017/1017 [==============================] - 152s 150ms/step - loss: 0.6601 - accuracy: 0.8122 - val_loss: 0.9217 - val_accuracy: 0.8496\n"
          ],
          "name": "stdout"
        }
      ]
    },
    {
      "cell_type": "code",
      "metadata": {
        "id": "zsfBDFICMFEV",
        "colab_type": "code",
        "colab": {
          "base_uri": "https://localhost:8080/",
          "height": 84
        },
        "outputId": "09bf111e-5523-473e-abd4-0fe5747e4865"
      },
      "source": [
        "generator = Generator( illness = \"acl\", plane = \"axial\", type1 = \"test\")\n",
        "evaluate_acl_axial = model4.evaluate_generator(generator=generator)\n",
        "loss , acc = evaluate_acl_axial\n",
        "print(\"evaluation done\")\n",
        "print('\\nTesting loss: {}, acc: {}\\n'.format(loss, acc))"
      ],
      "execution_count": null,
      "outputs": [
        {
          "output_type": "stream",
          "text": [
            "evaluation done\n",
            "\n",
            "Testing loss: 0.1787252575159073, acc: 0.550000011920929\n",
            "\n"
          ],
          "name": "stdout"
        }
      ]
    },
    {
      "cell_type": "code",
      "metadata": {
        "id": "aWEzuhfrMrXa",
        "colab_type": "code",
        "colab": {}
      },
      "source": [
        "model5 = get_model()\n",
        "training_generator = Generator( illness = \"acl\", plane = \"coronal\", type1 = \"train\")\n",
        "validation_generator = Generator(illness = \"acl\", plane = \"coronal\", type1 = \"valid\")\n",
        "\n",
        "\n",
        "# Train model on dataset\n",
        "history_acl_coronal = model5.fit_generator(generator=training_generator,\n",
        "                    validation_data=validation_generator,\n",
        "                    use_multiprocessing=False,\n",
        "                    workers=6, epochs = 5 )\n",
        "model5.save('/content/gdrive/My Drive/transferVGG_models/model5.h5')"
      ],
      "execution_count": null,
      "outputs": []
    },
    {
      "cell_type": "code",
      "metadata": {
        "id": "G7Rdz-23MZDm",
        "colab_type": "code",
        "colab": {
          "base_uri": "https://localhost:8080/",
          "height": 84
        },
        "outputId": "ea24be4a-9c22-4153-9c9b-b785b27e2bc1"
      },
      "source": [
        "#model5 = model_load('/content/gdrive/My Drive/transferVGG_models/model5.h5')\n",
        "generator = Generator( illness = \"acl\", plane = \"coronal\", type1 = \"test\")\n",
        "evaluate_acl_coronal = model5.evaluate_generator(generator=generator)\n",
        "loss , acc = evaluate_acl_coronal\n",
        "print(\"evaluation done\")\n",
        "print('\\nTesting loss: {}, acc: {}\\n'.format(loss, acc))"
      ],
      "execution_count": null,
      "outputs": [
        {
          "output_type": "stream",
          "text": [
            "evaluation done\n",
            "\n",
            "Testing loss: 0.7524604797363281, acc: 0.5166666507720947\n",
            "\n"
          ],
          "name": "stdout"
        }
      ]
    },
    {
      "cell_type": "code",
      "metadata": {
        "id": "A8Jmld8uMy6l",
        "colab_type": "code",
        "colab": {
          "base_uri": "https://localhost:8080/",
          "height": 470
        },
        "outputId": "9de3de4f-015c-4cb6-93c5-5c34d1d06e77"
      },
      "source": [
        "model6 = get_model()\n",
        "training_generator = Generator( illness = \"acl\", plane = \"sagittal\", type1 = \"train\")\n",
        "validation_generator = Generator(illness = \"acl\", plane = \"sagittal\", type1 = \"valid\")\n",
        "\n",
        "\n",
        "# Train model on dataset\n",
        "history_acl_sagittal = model6.fit_generator(generator=training_generator,\n",
        "                    validation_data=validation_generator,\n",
        "                    use_multiprocessing=False,\n",
        "                    workers=6, epochs = 5 )\n",
        "model6.save('/content/gdrive/My Drive/transferVGG_models/model6.h5')"
      ],
      "execution_count": null,
      "outputs": [
        {
          "output_type": "stream",
          "text": [
            "/usr/local/lib/python3.6/dist-packages/ipykernel_launcher.py:25: UserWarning: Update your `Model` call to the Keras 2 API: `Model(inputs=Tensor(\"in..., outputs=Tensor(\"gl...)`\n"
          ],
          "name": "stderr"
        },
        {
          "output_type": "stream",
          "text": [
            "Model: \"model_27\"\n",
            "_________________________________________________________________\n",
            "Layer (type)                 Output Shape              Param #   \n",
            "=================================================================\n",
            "input_25 (InputLayer)        (None, None, 256, 256, 3) 0         \n",
            "_________________________________________________________________\n",
            "time_distributed_9 (TimeDist (None, None, 512)         14714688  \n",
            "_________________________________________________________________\n",
            "model_26 (Model)             (None, 512)               0         \n",
            "_________________________________________________________________\n",
            "dense_9 (Dense)              (None, 1)                 513       \n",
            "=================================================================\n",
            "Total params: 14,715,201\n",
            "Trainable params: 513\n",
            "Non-trainable params: 14,714,688\n",
            "_________________________________________________________________\n",
            "Epoch 1/5\n",
            "1017/1017 [==============================] - 139s 137ms/step - loss: 1.0386 - accuracy: 0.7512 - val_loss: 9.4163 - val_accuracy: 0.8496\n",
            "Epoch 2/5\n",
            "1017/1017 [==============================] - 138s 135ms/step - loss: 0.9196 - accuracy: 0.7581 - val_loss: 10.1569 - val_accuracy: 0.8496\n",
            "Epoch 3/5\n",
            "1017/1017 [==============================] - 137s 135ms/step - loss: 0.8352 - accuracy: 0.7984 - val_loss: 0.0213 - val_accuracy: 0.4690\n",
            "Epoch 4/5\n",
            "1017/1017 [==============================] - 137s 135ms/step - loss: 0.7106 - accuracy: 0.7856 - val_loss: 0.3128 - val_accuracy: 0.7876\n",
            "Epoch 5/5\n",
            "1017/1017 [==============================] - 137s 135ms/step - loss: 0.6107 - accuracy: 0.8102 - val_loss: 0.0194 - val_accuracy: 0.7080\n"
          ],
          "name": "stdout"
        }
      ]
    },
    {
      "cell_type": "code",
      "metadata": {
        "id": "lrcx8P0oNDfA",
        "colab_type": "code",
        "colab": {
          "base_uri": "https://localhost:8080/",
          "height": 84
        },
        "outputId": "c0bea997-0c88-46a7-d3d9-c41d27566537"
      },
      "source": [
        "generator = Generator( illness = \"acl\", plane = \"sagittal\", type1 = \"test\")\n",
        "evaluate_acl_sagittal = model6.evaluate_generator(generator=generator)\n",
        "loss , acc = evaluate_acl_sagittal\n",
        "print(\"evaluation done\")\n",
        "print('\\nTesting loss: {}, acc: {}\\n'.format(loss, acc))"
      ],
      "execution_count": null,
      "outputs": [
        {
          "output_type": "stream",
          "text": [
            "evaluation done\n",
            "\n",
            "Testing loss: 0.055601250380277634, acc: 0.75\n",
            "\n"
          ],
          "name": "stdout"
        }
      ]
    },
    {
      "cell_type": "code",
      "metadata": {
        "id": "YzTB-HFZM93L",
        "colab_type": "code",
        "colab": {
          "base_uri": "https://localhost:8080/",
          "height": 470
        },
        "outputId": "a3b97d55-1f8e-4bd4-e768-a51c67686e6b"
      },
      "source": [
        "model7 = get_model()\n",
        "training_generator = Generator( illness = \"meniscus\", plane = \"axial\", type1 = \"train\")\n",
        "validation_generator = Generator(illness = \"meniscus\", plane = \"axial\", type1 = \"valid\")\n",
        "\n",
        "\n",
        "# Train model on dataset\n",
        "history_meniscus_axial = model7.fit_generator(generator=training_generator,\n",
        "                    validation_data=validation_generator,\n",
        "                    use_multiprocessing=False,\n",
        "                    workers=6, epochs = 5 )\n",
        "model7.save('/content/gdrive/My Drive/transferVGG_models/model7.h5')"
      ],
      "execution_count": null,
      "outputs": [
        {
          "output_type": "stream",
          "text": [
            "/usr/local/lib/python3.6/dist-packages/ipykernel_launcher.py:25: UserWarning: Update your `Model` call to the Keras 2 API: `Model(inputs=Tensor(\"in..., outputs=Tensor(\"gl...)`\n"
          ],
          "name": "stderr"
        },
        {
          "output_type": "stream",
          "text": [
            "Model: \"model_30\"\n",
            "_________________________________________________________________\n",
            "Layer (type)                 Output Shape              Param #   \n",
            "=================================================================\n",
            "input_28 (InputLayer)        (None, None, 256, 256, 3) 0         \n",
            "_________________________________________________________________\n",
            "time_distributed_10 (TimeDis (None, None, 512)         14714688  \n",
            "_________________________________________________________________\n",
            "model_29 (Model)             (None, 512)               0         \n",
            "_________________________________________________________________\n",
            "dense_10 (Dense)             (None, 1)                 513       \n",
            "=================================================================\n",
            "Total params: 14,715,201\n",
            "Trainable params: 513\n",
            "Non-trainable params: 14,714,688\n",
            "_________________________________________________________________\n",
            "Epoch 1/5\n",
            "1017/1017 [==============================] - 155s 153ms/step - loss: 1.4370 - accuracy: 0.6136 - val_loss: 2.8161 - val_accuracy: 0.6637\n",
            "Epoch 2/5\n",
            "1017/1017 [==============================] - 153s 150ms/step - loss: 1.1361 - accuracy: 0.6667 - val_loss: 2.9112 - val_accuracy: 0.6903\n",
            "Epoch 3/5\n",
            "1017/1017 [==============================] - 152s 149ms/step - loss: 1.1218 - accuracy: 0.6844 - val_loss: 0.5526 - val_accuracy: 0.6637\n",
            "Epoch 4/5\n",
            "1017/1017 [==============================] - 152s 149ms/step - loss: 0.9238 - accuracy: 0.7070 - val_loss: 6.5696 - val_accuracy: 0.7257\n",
            "Epoch 5/5\n",
            "1017/1017 [==============================] - 152s 150ms/step - loss: 0.8648 - accuracy: 0.7158 - val_loss: 9.4135 - val_accuracy: 0.4956\n"
          ],
          "name": "stdout"
        }
      ]
    },
    {
      "cell_type": "code",
      "metadata": {
        "id": "Khx85jDbNruW",
        "colab_type": "code",
        "colab": {
          "base_uri": "https://localhost:8080/",
          "height": 84
        },
        "outputId": "be34b5ae-4bcb-4cbf-d354-52b2d2222deb"
      },
      "source": [
        "generator = Generator( illness = \"meniscus\", plane = \"axial\", type1 = \"test\")\n",
        "evaluate_meniscus_axial = model7.evaluate_generator(generator=generator)\n",
        "loss , acc = evaluate_meniscus_axial\n",
        "print(\"evaluation done\")\n",
        "print('\\nTesting loss: {}, acc: {}\\n'.format(loss, acc))"
      ],
      "execution_count": null,
      "outputs": [
        {
          "output_type": "stream",
          "text": [
            "evaluation done\n",
            "\n",
            "Testing loss: 0.050690341740846634, acc: 0.46666666865348816\n",
            "\n"
          ],
          "name": "stdout"
        }
      ]
    },
    {
      "cell_type": "code",
      "metadata": {
        "id": "ZKCp4LubNG4t",
        "colab_type": "code",
        "colab": {
          "base_uri": "https://localhost:8080/",
          "height": 470
        },
        "outputId": "57484460-59ea-40c3-cf3f-9cd37db696be"
      },
      "source": [
        "model8 = get_model()\n",
        "training_generator = Generator( illness = \"meniscus\", plane = \"coronal\", type1 = \"train\")\n",
        "validation_generator = Generator(illness = \"meniscus\", plane = \"coronal\", type1 = \"valid\")\n",
        "\n",
        "\n",
        "# Train model on dataset\n",
        "history_meniscus_coronal = model8.fit_generator(generator=training_generator,\n",
        "                    validation_data=validation_generator,\n",
        "                    use_multiprocessing=False,\n",
        "                    workers=6, epochs = 5 )\n",
        "model8.save('/content/gdrive/My Drive/transferVGG_models/model8.h5')"
      ],
      "execution_count": null,
      "outputs": [
        {
          "output_type": "stream",
          "text": [
            "/usr/local/lib/python3.6/dist-packages/ipykernel_launcher.py:25: UserWarning: Update your `Model` call to the Keras 2 API: `Model(inputs=Tensor(\"in..., outputs=Tensor(\"gl...)`\n"
          ],
          "name": "stderr"
        },
        {
          "output_type": "stream",
          "text": [
            "Model: \"model_33\"\n",
            "_________________________________________________________________\n",
            "Layer (type)                 Output Shape              Param #   \n",
            "=================================================================\n",
            "input_31 (InputLayer)        (None, None, 256, 256, 3) 0         \n",
            "_________________________________________________________________\n",
            "time_distributed_11 (TimeDis (None, None, 512)         14714688  \n",
            "_________________________________________________________________\n",
            "model_32 (Model)             (None, 512)               0         \n",
            "_________________________________________________________________\n",
            "dense_11 (Dense)             (None, 1)                 513       \n",
            "=================================================================\n",
            "Total params: 14,715,201\n",
            "Trainable params: 513\n",
            "Non-trainable params: 14,714,688\n",
            "_________________________________________________________________\n",
            "Epoch 1/5\n",
            "1017/1017 [==============================] - 139s 136ms/step - loss: 1.4555 - accuracy: 0.6057 - val_loss: 0.4364 - val_accuracy: 0.6637\n",
            "Epoch 2/5\n",
            "1017/1017 [==============================] - 137s 135ms/step - loss: 1.0884 - accuracy: 0.6401 - val_loss: 4.2953 - val_accuracy: 0.5664\n",
            "Epoch 3/5\n",
            "1017/1017 [==============================] - 137s 134ms/step - loss: 0.9703 - accuracy: 0.6804 - val_loss: 5.0563e-06 - val_accuracy: 0.6637\n",
            "Epoch 4/5\n",
            "1017/1017 [==============================] - 136s 134ms/step - loss: 0.9103 - accuracy: 0.6991 - val_loss: 2.3787 - val_accuracy: 0.6018\n",
            "Epoch 5/5\n",
            "1017/1017 [==============================] - 137s 134ms/step - loss: 0.7645 - accuracy: 0.7207 - val_loss: 1.4104 - val_accuracy: 0.6814\n"
          ],
          "name": "stdout"
        }
      ]
    },
    {
      "cell_type": "code",
      "metadata": {
        "id": "vQeWbViEOLeH",
        "colab_type": "code",
        "colab": {
          "base_uri": "https://localhost:8080/",
          "height": 84
        },
        "outputId": "eb8ae99d-4300-4e11-9dbd-78746b2e2d36"
      },
      "source": [
        "generator = Generator( illness = \"meniscus\", plane = \"coronal\", type1 = \"test\")\n",
        "evaluate_meniscus_coronal = model8.evaluate_generator(generator=generator)\n",
        "loss , acc = evaluate_meniscus_coronal\n",
        "print(\"evaluation done\")\n",
        "print('\\nTesting loss: {}, acc: {}\\n'.format(loss, acc))"
      ],
      "execution_count": null,
      "outputs": [
        {
          "output_type": "stream",
          "text": [
            "evaluation done\n",
            "\n",
            "Testing loss: 3.6807541847229004, acc: 0.6666666865348816\n",
            "\n"
          ],
          "name": "stdout"
        }
      ]
    },
    {
      "cell_type": "code",
      "metadata": {
        "id": "PauRgYL5NQRx",
        "colab_type": "code",
        "colab": {
          "base_uri": "https://localhost:8080/",
          "height": 470
        },
        "outputId": "3adcc321-670e-4f72-a4db-db0ec9ad90b0"
      },
      "source": [
        "model9 = get_model()\n",
        "training_generator = Generator( illness = \"meniscus\", plane = \"sagittal\", type1 = \"train\")\n",
        "validation_generator = Generator(illness = \"meniscus\", plane = \"sagittal\", type1 = \"valid\")\n",
        "\n",
        "\n",
        "# Train model on dataset\n",
        "history_meniscus_sagittal = model9.fit_generator(generator=training_generator,\n",
        "                    validation_data=validation_generator,\n",
        "                    use_multiprocessing=False,\n",
        "                    workers=6, epochs = 5 )\n",
        "model9.save('/content/gdrive/My Drive/transferVGG_models/model9.h5')"
      ],
      "execution_count": null,
      "outputs": [
        {
          "output_type": "stream",
          "text": [
            "/usr/local/lib/python3.6/dist-packages/ipykernel_launcher.py:25: UserWarning: Update your `Model` call to the Keras 2 API: `Model(inputs=Tensor(\"in..., outputs=Tensor(\"gl...)`\n"
          ],
          "name": "stderr"
        },
        {
          "output_type": "stream",
          "text": [
            "Model: \"model_36\"\n",
            "_________________________________________________________________\n",
            "Layer (type)                 Output Shape              Param #   \n",
            "=================================================================\n",
            "input_34 (InputLayer)        (None, None, 256, 256, 3) 0         \n",
            "_________________________________________________________________\n",
            "time_distributed_12 (TimeDis (None, None, 512)         14714688  \n",
            "_________________________________________________________________\n",
            "model_35 (Model)             (None, 512)               0         \n",
            "_________________________________________________________________\n",
            "dense_12 (Dense)             (None, 1)                 513       \n",
            "=================================================================\n",
            "Total params: 14,715,201\n",
            "Trainable params: 513\n",
            "Non-trainable params: 14,714,688\n",
            "_________________________________________________________________\n",
            "Epoch 1/5\n",
            "1017/1017 [==============================] - 140s 137ms/step - loss: 1.2466 - accuracy: 0.6037 - val_loss: 1.7917 - val_accuracy: 0.6903\n",
            "Epoch 2/5\n",
            "1017/1017 [==============================] - 138s 136ms/step - loss: 1.0249 - accuracy: 0.6529 - val_loss: 9.8673 - val_accuracy: 0.4956\n",
            "Epoch 3/5\n",
            "1017/1017 [==============================] - 138s 135ms/step - loss: 0.8586 - accuracy: 0.6893 - val_loss: 3.8246 - val_accuracy: 0.7080\n",
            "Epoch 4/5\n",
            "1017/1017 [==============================] - 138s 136ms/step - loss: 0.8875 - accuracy: 0.6912 - val_loss: 6.7548 - val_accuracy: 0.6283\n",
            "Epoch 5/5\n",
            "1017/1017 [==============================] - 137s 135ms/step - loss: 0.8261 - accuracy: 0.6932 - val_loss: 6.3320 - val_accuracy: 0.6372\n"
          ],
          "name": "stdout"
        }
      ]
    },
    {
      "cell_type": "code",
      "metadata": {
        "id": "7ceXuvCsOVMq",
        "colab_type": "code",
        "colab": {
          "base_uri": "https://localhost:8080/",
          "height": 84
        },
        "outputId": "95c16c3c-42c7-488f-a2e7-04526b112e8d"
      },
      "source": [
        "generator = Generator( illness = \"meniscus\", plane = \"sagittal\", type1 = \"test\")\n",
        "evaluate_meniscus_sagittal = model9.evaluate_generator(generator=generator)\n",
        "loss , acc = evaluate_meniscus_sagittal\n",
        "print(\"evaluation done\")\n",
        "print('\\nTesting loss: {}, acc: {}\\n'.format(loss, acc))"
      ],
      "execution_count": null,
      "outputs": [
        {
          "output_type": "stream",
          "text": [
            "evaluation done\n",
            "\n",
            "Testing loss: 0.2877332866191864, acc: 0.6916666626930237\n",
            "\n"
          ],
          "name": "stdout"
        }
      ]
    },
    {
      "cell_type": "code",
      "metadata": {
        "id": "ug4ixGQGsJrR",
        "colab_type": "code",
        "colab": {}
      },
      "source": [
        "abnormalTestLabels = load_labels('test','abnormal')\n",
        "aclTestLabels = load_labels('test','acl')\n",
        "meniscusTestLabels = load_labels('test','meniscus')\n",
        "\n",
        "abnormalTrainLabels = load_labels('train','abnormal')\n",
        "aclTrainLabels = load_labels('train','acl')\n",
        "meniscusTrainLabels = load_labels('train','meniscus')\n",
        "\n",
        "abnormalValidLabels = load_labels('valid','abnormal')\n",
        "aclValidLabels = load_labels('valid','acl')\n",
        "meniscusValidLabels = load_labels('valid','meniscus')"
      ],
      "execution_count": null,
      "outputs": []
    },
    {
      "cell_type": "markdown",
      "metadata": {
        "id": "V4Bz8NxPusKw",
        "colab_type": "text"
      },
      "source": [
        "**Predict generator**"
      ]
    },
    {
      "cell_type": "code",
      "metadata": {
        "id": "8dEwRqhyr6Jh",
        "colab_type": "code",
        "colab": {
          "base_uri": "https://localhost:8080/",
          "height": 50
        },
        "outputId": "ee6344b8-7fa1-4e9d-b562-bb0e1b4fe56e"
      },
      "source": [
        "model_abnormal_axial = load_model(\"/content/gdrive/My Drive/transferVGG_models/model3.h5\")\n",
        "print(model_abnormal_axial)\n",
        "generator = Generator( illness = \"abnormal\", plane = \"axial\", type1 = \"test\")\n",
        "predict_abnormal_axial_test = model_abnormal_axial.predict_generator(generator)\n",
        "\n",
        "generator = Generator( illness = \"abnormal\", plane = \"axial\", type1 = \"train\")\n",
        "predict_abnormal_axial_train = model_abnormal_axial.predict_generator(generator)\n",
        "\n",
        "generator = Generator( illness = \"abnormal\", plane = \"axial\", type1 = \"valid\")\n",
        "predict_abnormal_axial_valid = model_abnormal_axial.predict_generator(generator)\n",
        "\n",
        "print(\"prediction done\")"
      ],
      "execution_count": null,
      "outputs": [
        {
          "output_type": "stream",
          "text": [
            "<keras.engine.training.Model object at 0x7f353ea55ba8>\n",
            "prediction done\n"
          ],
          "name": "stdout"
        }
      ]
    },
    {
      "cell_type": "code",
      "metadata": {
        "id": "yKvaQM7BwCTn",
        "colab_type": "code",
        "colab": {
          "base_uri": "https://localhost:8080/",
          "height": 50
        },
        "outputId": "953680c5-fff0-44b3-b32a-dde619b6e114"
      },
      "source": [
        "model_abnormal_coronal = load_model(\"/content/gdrive/My Drive/transferVGG_models/model1.h5\")\n",
        "print(model_abnormal_coronal)\n",
        "generator = Generator( illness = \"abnormal\", plane = \"coronal\", type1 = \"test\")\n",
        "predict_abnormal_coronal_test = model_abnormal_coronal.predict_generator(generator=generator)\n",
        "\n",
        "generator = Generator( illness = \"abnormal\", plane = \"coronal\", type1 = \"train\")\n",
        "predict_abnormal_coronal_train = model_abnormal_coronal.predict_generator(generator=generator)\n",
        "\n",
        "generator = Generator( illness = \"abnormal\", plane = \"coronal\", type1 = \"valid\")\n",
        "predict_abnormal_coronal_valid = model_abnormal_coronal.predict_generator(generator=generator)\n",
        "\n",
        "print(\"--> prediction done\")"
      ],
      "execution_count": null,
      "outputs": [
        {
          "output_type": "stream",
          "text": [
            "<keras.engine.training.Model object at 0x7f353edfe518>\n",
            "--> prediction done\n"
          ],
          "name": "stdout"
        }
      ]
    },
    {
      "cell_type": "code",
      "metadata": {
        "id": "koVHGki1w98s",
        "colab_type": "code",
        "colab": {
          "base_uri": "https://localhost:8080/",
          "height": 50
        },
        "outputId": "cb3b7cfa-0f98-48c2-84da-82f81d413089"
      },
      "source": [
        "model_abnormal_sagittal = load_model(\"/content/gdrive/My Drive/transferVGG_models/model2.h5\")\n",
        "print(model_abnormal_sagittal)\n",
        "generator = Generator( illness = \"abnormal\", plane = \"sagittal\", type1 = \"test\")\n",
        "predict_abnormal_sagittal_test = model_abnormal_sagittal.predict_generator(generator=generator)\n",
        "\n",
        "generator = Generator( illness = \"abnormal\", plane = \"sagittal\", type1 = \"train\")\n",
        "predict_abnormal_sagittal_train = model_abnormal_sagittal.predict_generator(generator=generator)\n",
        "\n",
        "generator = Generator( illness = \"abnormal\", plane = \"sagittal\", type1 = \"valid\")\n",
        "predict_abnormal_sagittal_valid = model_abnormal_sagittal.predict_generator(generator=generator)\n",
        "\n",
        "print(\"--> prediction done\")"
      ],
      "execution_count": null,
      "outputs": [
        {
          "output_type": "stream",
          "text": [
            "<keras.engine.training.Model object at 0x7f353ec07dd8>\n",
            "--> prediction done\n"
          ],
          "name": "stdout"
        }
      ]
    },
    {
      "cell_type": "code",
      "metadata": {
        "id": "yGQIFXP2yiF9",
        "colab_type": "code",
        "colab": {
          "base_uri": "https://localhost:8080/",
          "height": 50
        },
        "outputId": "a382883f-3ab7-4fe7-e706-67d3e490f3d3"
      },
      "source": [
        "model_acl_axial = load_model(\"/content/gdrive/My Drive/transferVGG_models/model4.h5\")\n",
        "print(model_acl_axial)\n",
        "generator = Generator( illness = \"acl\", plane = \"axial\", type1 = \"test\")\n",
        "predict_acl_axial_test = model_acl_axial.predict_generator(generator=generator)\n",
        "\n",
        "generator = Generator( illness = \"acl\", plane = \"axial\", type1 = \"train\")\n",
        "predict_acl_axial_train = model_acl_axial.predict_generator(generator=generator)\n",
        "\n",
        "generator = Generator( illness = \"acl\", plane = \"axial\", type1 = \"valid\")\n",
        "predict_acl_axial_valid = model_acl_axial.predict_generator(generator=generator)\n",
        "\n",
        "print(\"--> prediction done\")"
      ],
      "execution_count": null,
      "outputs": [
        {
          "output_type": "stream",
          "text": [
            "<keras.engine.training.Model object at 0x7f353c1f6ba8>\n",
            "--> prediction done\n"
          ],
          "name": "stdout"
        }
      ]
    },
    {
      "cell_type": "code",
      "metadata": {
        "id": "ZI60uzKgzyOc",
        "colab_type": "code",
        "colab": {
          "base_uri": "https://localhost:8080/",
          "height": 50
        },
        "outputId": "9dae98cc-4456-4b5a-9ea0-c1fcc347a1e3"
      },
      "source": [
        "model_acl_coronal = load_model(\"/content/gdrive/My Drive/transferVGG_models/model5.h5\")\n",
        "print(model_acl_coronal)\n",
        "generator = Generator( illness = \"acl\", plane = \"coronal\", type1 = \"test\")\n",
        "predict_acl_coronal_test = model_acl_coronal.predict_generator(generator=generator)\n",
        "\n",
        "generator = Generator( illness = \"acl\", plane = \"coronal\", type1 = \"train\")\n",
        "predict_acl_coronal_train = model_acl_coronal.predict_generator(generator=generator)\n",
        "\n",
        "generator = Generator( illness = \"acl\", plane = \"coronal\", type1 = \"valid\")\n",
        "predict_acl_coronal_valid = model_acl_coronal.predict_generator(generator=generator)\n",
        "\n",
        "print(\"--> prediction done\")"
      ],
      "execution_count": null,
      "outputs": [
        {
          "output_type": "stream",
          "text": [
            "<keras.engine.training.Model object at 0x7f332aed72b0>\n",
            "--> prediction done\n"
          ],
          "name": "stdout"
        }
      ]
    },
    {
      "cell_type": "code",
      "metadata": {
        "id": "1826CbaT0Vt9",
        "colab_type": "code",
        "colab": {
          "base_uri": "https://localhost:8080/",
          "height": 50
        },
        "outputId": "b158d778-4213-4c5d-8742-e7b5e78e102a"
      },
      "source": [
        "model_acl_sagittal = load_model(\"/content/gdrive/My Drive/transferVGG_models/model6.h5\")\n",
        "print(model_acl_sagittal)\n",
        "generator = Generator( illness = \"acl\", plane = \"sagittal\", type1 = \"test\")\n",
        "predict_acl_sagittal_test = model_acl_sagittal.predict_generator(generator=generator)\n",
        "\n",
        "generator = Generator( illness = \"acl\", plane = \"sagittal\", type1 = \"train\")\n",
        "predict_acl_sagittal_train = model_acl_sagittal.predict_generator(generator=generator)\n",
        "\n",
        "generator = Generator( illness = \"acl\", plane = \"sagittal\", type1 = \"valid\")\n",
        "predict_acl_sagittal_valid = model_acl_sagittal.predict_generator(generator=generator)\n",
        "\n",
        "print(\"--> prediction done\")"
      ],
      "execution_count": null,
      "outputs": [
        {
          "output_type": "stream",
          "text": [
            "<keras.engine.training.Model object at 0x7f332ad25550>\n",
            "--> prediction done\n"
          ],
          "name": "stdout"
        }
      ]
    },
    {
      "cell_type": "code",
      "metadata": {
        "id": "8L9f6vdk_Cfw",
        "colab_type": "code",
        "colab": {
          "base_uri": "https://localhost:8080/",
          "height": 50
        },
        "outputId": "5b4fbec2-1778-4d3c-b9ac-612bf50d474c"
      },
      "source": [
        "model_meniscus_axial = load_model(\"/content/gdrive/My Drive/transferVGG_models/model7.h5\")\n",
        "print(model_meniscus_axial)\n",
        "generator = Generator( illness = \"meniscus\", plane = \"axial\", type1 = \"test\")\n",
        "predict_meniscus_axial_test = model_meniscus_axial.predict_generator(generator=generator)\n",
        "\n",
        "generator = Generator( illness = \"meniscus\", plane = \"axial\", type1 = \"train\")\n",
        "predict_meniscus_axial_train = model_meniscus_axial.predict_generator(generator=generator)\n",
        "\n",
        "generator = Generator( illness = \"meniscus\", plane = \"axial\", type1 = \"valid\")\n",
        "predict_meniscus_axial_valid = model_meniscus_axial.predict_generator(generator=generator)\n",
        "\n",
        "print(\"--> prediction done\")"
      ],
      "execution_count": null,
      "outputs": [
        {
          "output_type": "stream",
          "text": [
            "<keras.engine.training.Model object at 0x7f332a911320>\n",
            "--> prediction done\n"
          ],
          "name": "stdout"
        }
      ]
    },
    {
      "cell_type": "code",
      "metadata": {
        "id": "YOnzQe7w_HoN",
        "colab_type": "code",
        "colab": {
          "base_uri": "https://localhost:8080/",
          "height": 50
        },
        "outputId": "b10dcb12-1a01-4075-8af6-7140e404cdb0"
      },
      "source": [
        "model_meniscus_coronal = load_model(\"/content/gdrive/My Drive/transferVGG_models/model8.h5\")\n",
        "print(model_meniscus_coronal)\n",
        "generator = Generator( illness = \"meniscus\", plane = \"coronal\", type1 = \"test\")\n",
        "predict_meniscus_coronal_test = model_meniscus_coronal.predict_generator(generator=generator)\n",
        "\n",
        "generator = Generator( illness = \"meniscus\", plane = \"coronal\", type1 = \"train\")\n",
        "predict_meniscus_coronal_train = model_meniscus_coronal.predict_generator(generator=generator)\n",
        "\n",
        "generator = Generator( illness = \"meniscus\", plane = \"coronal\", type1 = \"valid\")\n",
        "predict_meniscus_coronal_valid = model_meniscus_coronal.predict_generator(generator=generator)\n",
        "\n",
        "print(\"--> prediction done\")"
      ],
      "execution_count": null,
      "outputs": [
        {
          "output_type": "stream",
          "text": [
            "<keras.engine.training.Model object at 0x7f3329f88390>\n",
            "--> prediction done\n"
          ],
          "name": "stdout"
        }
      ]
    },
    {
      "cell_type": "code",
      "metadata": {
        "id": "sK9XPzwx_O6N",
        "colab_type": "code",
        "colab": {
          "base_uri": "https://localhost:8080/",
          "height": 50
        },
        "outputId": "e27485d0-7a91-4c8d-cb25-622e2331bbd1"
      },
      "source": [
        "model_meniscus_sagittal = load_model(\"/content/gdrive/My Drive/transferVGG_models/model9.h5\")\n",
        "print(model_meniscus_sagittal)\n",
        "generator = Generator( illness = \"meniscus\", plane = \"sagittal\", type1 = \"test\")\n",
        "predict_meniscus_sagittal_test = model_meniscus_sagittal.predict_generator(generator=generator)\n",
        "\n",
        "generator = Generator( illness = \"meniscus\", plane = \"sagittal\", type1 = \"train\")\n",
        "predict_meniscus_sagittal_train = model_meniscus_sagittal.predict_generator(generator=generator)\n",
        "\n",
        "generator = Generator( illness = \"meniscus\", plane = \"sagittal\", type1 = \"valid\")\n",
        "predict_meniscus_sagittal_valid = model_meniscus_sagittal.predict_generator(generator=generator)\n",
        "\n",
        "print(\"--> prediction done\")"
      ],
      "execution_count": null,
      "outputs": [
        {
          "output_type": "stream",
          "text": [
            "<keras.engine.training.Model object at 0x7f353ec07860>\n",
            "--> prediction done\n"
          ],
          "name": "stdout"
        }
      ]
    },
    {
      "cell_type": "markdown",
      "metadata": {
        "id": "PISGrzJXu58e",
        "colab_type": "text"
      },
      "source": [
        "**Start linear regression**"
      ]
    },
    {
      "cell_type": "code",
      "metadata": {
        "id": "gbplguWU5t2X",
        "colab_type": "code",
        "colab": {
          "base_uri": "https://localhost:8080/",
          "height": 1000
        },
        "outputId": "89b0a93b-d0ca-4e94-d4e0-de9c5f920591"
      },
      "source": [
        "Abnormal_model = logistic_regression()\n",
        "\n",
        "abnormal_train_predictions = []\n",
        "\n",
        "abnormal_train_predictions.append(predict_abnormal_axial_train)\n",
        "abnormal_train_predictions.append(predict_abnormal_coronal_train)\n",
        "abnormal_train_predictions.append(predict_abnormal_sagittal_train)\n",
        "\n",
        "abnormal_train_predictions = np.transpose(abnormal_train_predictions)\n",
        "\n",
        "#print(np.array(abnormal_train_predictions)[0].shape)\n",
        "\n",
        "abnormal_valid_predictions = []\n",
        "abnormal_valid_predictions.append(predict_abnormal_axial_valid)\n",
        "abnormal_valid_predictions.append(predict_abnormal_coronal_valid)\n",
        "abnormal_valid_predictions.append(predict_abnormal_sagittal_valid)\n",
        "\n",
        "#print(np.array(abnormalValidLabels).shape)\n",
        "\n",
        "abnormal_valid_predictions = np.transpose(abnormal_valid_predictions)\n",
        "\n",
        "\n",
        "Abnormal_model.fit( np.array(abnormal_train_predictions)[0] , [abnormalTrainLabels],\n",
        "                   validation_data = ( np.array(abnormal_valid_predictions)[0] , np.array(abnormalValidLabels)),\n",
        "                   epochs = 50,use_multiprocessing=True, workers=6)\n",
        "\n",
        "Abnormal_model.save(\"/content/gdrive/My Drive/transferVGG_models/Abnormal_model.h5\")"
      ],
      "execution_count": null,
      "outputs": [
        {
          "output_type": "stream",
          "text": [
            "Train on 1017 samples, validate on 113 samples\n",
            "Epoch 1/50\n",
            "1017/1017 [==============================] - 0s 408us/step - loss: 2.0917 - accuracy: 0.1917 - val_loss: 1.9578 - val_accuracy: 0.1947\n",
            "Epoch 2/50\n",
            "1017/1017 [==============================] - 0s 72us/step - loss: 2.0074 - accuracy: 0.1898 - val_loss: 1.8772 - val_accuracy: 0.1947\n",
            "Epoch 3/50\n",
            "1017/1017 [==============================] - 0s 71us/step - loss: 1.9250 - accuracy: 0.1858 - val_loss: 1.7986 - val_accuracy: 0.1858\n",
            "Epoch 4/50\n",
            "1017/1017 [==============================] - 0s 70us/step - loss: 1.8441 - accuracy: 0.1799 - val_loss: 1.7221 - val_accuracy: 0.1858\n",
            "Epoch 5/50\n",
            "1017/1017 [==============================] - 0s 69us/step - loss: 1.7658 - accuracy: 0.1770 - val_loss: 1.6468 - val_accuracy: 0.1858\n",
            "Epoch 6/50\n",
            "1017/1017 [==============================] - 0s 83us/step - loss: 1.6886 - accuracy: 0.1711 - val_loss: 1.5749 - val_accuracy: 0.1858\n",
            "Epoch 7/50\n",
            "1017/1017 [==============================] - 0s 75us/step - loss: 1.6144 - accuracy: 0.1672 - val_loss: 1.5040 - val_accuracy: 0.1858\n",
            "Epoch 8/50\n",
            "1017/1017 [==============================] - 0s 82us/step - loss: 1.5421 - accuracy: 0.1603 - val_loss: 1.4362 - val_accuracy: 0.1858\n",
            "Epoch 9/50\n",
            "1017/1017 [==============================] - 0s 75us/step - loss: 1.4721 - accuracy: 0.1563 - val_loss: 1.3712 - val_accuracy: 0.1770\n",
            "Epoch 10/50\n",
            "1017/1017 [==============================] - 0s 71us/step - loss: 1.4052 - accuracy: 0.1504 - val_loss: 1.3077 - val_accuracy: 0.1770\n",
            "Epoch 11/50\n",
            "1017/1017 [==============================] - 0s 77us/step - loss: 1.3404 - accuracy: 0.1465 - val_loss: 1.2474 - val_accuracy: 0.1858\n",
            "Epoch 12/50\n",
            "1017/1017 [==============================] - 0s 84us/step - loss: 1.2785 - accuracy: 0.1367 - val_loss: 1.1902 - val_accuracy: 0.1858\n",
            "Epoch 13/50\n",
            "1017/1017 [==============================] - 0s 89us/step - loss: 1.2197 - accuracy: 0.1308 - val_loss: 1.1350 - val_accuracy: 0.1947\n",
            "Epoch 14/50\n",
            "1017/1017 [==============================] - 0s 70us/step - loss: 1.1634 - accuracy: 0.1259 - val_loss: 1.0834 - val_accuracy: 0.1947\n",
            "Epoch 15/50\n",
            "1017/1017 [==============================] - 0s 71us/step - loss: 1.1104 - accuracy: 0.1229 - val_loss: 1.0341 - val_accuracy: 0.1947\n",
            "Epoch 16/50\n",
            "1017/1017 [==============================] - 0s 70us/step - loss: 1.0601 - accuracy: 0.1170 - val_loss: 0.9880 - val_accuracy: 0.1947\n",
            "Epoch 17/50\n",
            "1017/1017 [==============================] - 0s 72us/step - loss: 1.0130 - accuracy: 0.1072 - val_loss: 0.9440 - val_accuracy: 0.1858\n",
            "Epoch 18/50\n",
            "1017/1017 [==============================] - 0s 79us/step - loss: 0.9684 - accuracy: 0.0924 - val_loss: 0.9036 - val_accuracy: 0.1858\n",
            "Epoch 19/50\n",
            "1017/1017 [==============================] - 0s 71us/step - loss: 0.9269 - accuracy: 0.0954 - val_loss: 0.8661 - val_accuracy: 0.2212\n",
            "Epoch 20/50\n",
            "1017/1017 [==============================] - 0s 72us/step - loss: 0.8881 - accuracy: 0.1101 - val_loss: 0.8312 - val_accuracy: 0.2301\n",
            "Epoch 21/50\n",
            "1017/1017 [==============================] - 0s 71us/step - loss: 0.8520 - accuracy: 0.1327 - val_loss: 0.7987 - val_accuracy: 0.2301\n",
            "Epoch 22/50\n",
            "1017/1017 [==============================] - 0s 78us/step - loss: 0.8188 - accuracy: 0.1436 - val_loss: 0.7680 - val_accuracy: 0.2389\n",
            "Epoch 23/50\n",
            "1017/1017 [==============================] - 0s 71us/step - loss: 0.7873 - accuracy: 0.1701 - val_loss: 0.7405 - val_accuracy: 0.2566\n",
            "Epoch 24/50\n",
            "1017/1017 [==============================] - 0s 71us/step - loss: 0.7587 - accuracy: 0.1947 - val_loss: 0.7146 - val_accuracy: 0.2655\n",
            "Epoch 25/50\n",
            "1017/1017 [==============================] - 0s 82us/step - loss: 0.7322 - accuracy: 0.2557 - val_loss: 0.6908 - val_accuracy: 0.3186\n",
            "Epoch 26/50\n",
            "1017/1017 [==============================] - 0s 84us/step - loss: 0.7076 - accuracy: 0.6332 - val_loss: 0.6690 - val_accuracy: 0.8053\n",
            "Epoch 27/50\n",
            "1017/1017 [==============================] - 0s 71us/step - loss: 0.6851 - accuracy: 0.8063 - val_loss: 0.6489 - val_accuracy: 0.8053\n",
            "Epoch 28/50\n",
            "1017/1017 [==============================] - 0s 70us/step - loss: 0.6643 - accuracy: 0.8083 - val_loss: 0.6307 - val_accuracy: 0.8053\n",
            "Epoch 29/50\n",
            "1017/1017 [==============================] - 0s 72us/step - loss: 0.6454 - accuracy: 0.8083 - val_loss: 0.6139 - val_accuracy: 0.8053\n",
            "Epoch 30/50\n",
            "1017/1017 [==============================] - 0s 73us/step - loss: 0.6278 - accuracy: 0.8083 - val_loss: 0.5988 - val_accuracy: 0.8053\n",
            "Epoch 31/50\n",
            "1017/1017 [==============================] - 0s 71us/step - loss: 0.6119 - accuracy: 0.8083 - val_loss: 0.5847 - val_accuracy: 0.8053\n",
            "Epoch 32/50\n",
            "1017/1017 [==============================] - 0s 81us/step - loss: 0.5971 - accuracy: 0.8083 - val_loss: 0.5721 - val_accuracy: 0.8053\n",
            "Epoch 33/50\n",
            "1017/1017 [==============================] - 0s 71us/step - loss: 0.5837 - accuracy: 0.8083 - val_loss: 0.5601 - val_accuracy: 0.8053\n",
            "Epoch 34/50\n",
            "1017/1017 [==============================] - 0s 72us/step - loss: 0.5712 - accuracy: 0.8083 - val_loss: 0.5496 - val_accuracy: 0.8053\n",
            "Epoch 35/50\n",
            "1017/1017 [==============================] - 0s 76us/step - loss: 0.5599 - accuracy: 0.8083 - val_loss: 0.5397 - val_accuracy: 0.8053\n",
            "Epoch 36/50\n",
            "1017/1017 [==============================] - 0s 71us/step - loss: 0.5494 - accuracy: 0.8083 - val_loss: 0.5311 - val_accuracy: 0.8053\n",
            "Epoch 37/50\n",
            "1017/1017 [==============================] - 0s 73us/step - loss: 0.5400 - accuracy: 0.8083 - val_loss: 0.5227 - val_accuracy: 0.8053\n",
            "Epoch 38/50\n",
            "1017/1017 [==============================] - 0s 78us/step - loss: 0.5312 - accuracy: 0.8083 - val_loss: 0.5154 - val_accuracy: 0.8053\n",
            "Epoch 39/50\n",
            "1017/1017 [==============================] - 0s 82us/step - loss: 0.5231 - accuracy: 0.8083 - val_loss: 0.5087 - val_accuracy: 0.8053\n",
            "Epoch 40/50\n",
            "1017/1017 [==============================] - 0s 72us/step - loss: 0.5158 - accuracy: 0.8083 - val_loss: 0.5024 - val_accuracy: 0.8053\n",
            "Epoch 41/50\n",
            "1017/1017 [==============================] - 0s 71us/step - loss: 0.5089 - accuracy: 0.8083 - val_loss: 0.4969 - val_accuracy: 0.8053\n",
            "Epoch 42/50\n",
            "1017/1017 [==============================] - 0s 72us/step - loss: 0.5027 - accuracy: 0.8083 - val_loss: 0.4916 - val_accuracy: 0.8053\n",
            "Epoch 43/50\n",
            "1017/1017 [==============================] - 0s 75us/step - loss: 0.4969 - accuracy: 0.8083 - val_loss: 0.4869 - val_accuracy: 0.8053\n",
            "Epoch 44/50\n",
            "1017/1017 [==============================] - 0s 73us/step - loss: 0.4916 - accuracy: 0.8083 - val_loss: 0.4826 - val_accuracy: 0.8053\n",
            "Epoch 45/50\n",
            "1017/1017 [==============================] - 0s 70us/step - loss: 0.4867 - accuracy: 0.8083 - val_loss: 0.4787 - val_accuracy: 0.8053\n",
            "Epoch 46/50\n",
            "1017/1017 [==============================] - 0s 73us/step - loss: 0.4821 - accuracy: 0.8083 - val_loss: 0.4750 - val_accuracy: 0.8053\n",
            "Epoch 47/50\n",
            "1017/1017 [==============================] - 0s 71us/step - loss: 0.4779 - accuracy: 0.8083 - val_loss: 0.4717 - val_accuracy: 0.8053\n",
            "Epoch 48/50\n",
            "1017/1017 [==============================] - 0s 80us/step - loss: 0.4741 - accuracy: 0.8083 - val_loss: 0.4685 - val_accuracy: 0.8053\n",
            "Epoch 49/50\n",
            "1017/1017 [==============================] - 0s 74us/step - loss: 0.4704 - accuracy: 0.8083 - val_loss: 0.4657 - val_accuracy: 0.8053\n",
            "Epoch 50/50\n",
            "1017/1017 [==============================] - 0s 74us/step - loss: 0.4670 - accuracy: 0.8083 - val_loss: 0.4631 - val_accuracy: 0.8053\n"
          ],
          "name": "stdout"
        }
      ]
    },
    {
      "cell_type": "code",
      "metadata": {
        "id": "V_HCv-PV5xoP",
        "colab_type": "code",
        "colab": {
          "base_uri": "https://localhost:8080/",
          "height": 101
        },
        "outputId": "c9c2923d-bdc6-4c2d-931f-b6e7937f1a73"
      },
      "source": [
        "abnormal_test_predictions = []\n",
        "abnormal_test_predictions.append(predict_abnormal_axial_test)\n",
        "abnormal_test_predictions.append(predict_abnormal_coronal_test)\n",
        "abnormal_test_predictions.append(predict_abnormal_sagittal_test)\n",
        "\n",
        "abnormal_test_predictions = np.transpose(abnormal_test_predictions)\n",
        "\n",
        "\n",
        "loss1 , acc1 = Abnormal_model.evaluate(abnormal_test_predictions[0] , [abnormalTestLabels])\n",
        "print(\"evaluation done\")\n",
        "print('\\nTesting loss: {}, acc: {}\\n'.format(loss1, acc1))"
      ],
      "execution_count": null,
      "outputs": [
        {
          "output_type": "stream",
          "text": [
            "120/120 [==============================] - 0s 81us/step\n",
            "evaluation done\n",
            "\n",
            "Testing loss: 0.5000303079684575, acc: 0.7916666865348816\n",
            "\n"
          ],
          "name": "stdout"
        }
      ]
    },
    {
      "cell_type": "code",
      "metadata": {
        "id": "wAzDLi-N54VS",
        "colab_type": "code",
        "colab": {
          "base_uri": "https://localhost:8080/",
          "height": 1000
        },
        "outputId": "61b75a57-556c-404b-b372-2da2c17ee094"
      },
      "source": [
        "ACL_model = logistic_regression()\n",
        "\n",
        "acl_train_predictions = []\n",
        "acl_train_predictions.append(predict_acl_axial_train)\n",
        "acl_train_predictions.append(predict_acl_coronal_train)\n",
        "acl_train_predictions.append(predict_acl_sagittal_train)\n",
        "\n",
        "acl_train_predictions = np.transpose(acl_train_predictions)\n",
        "\n",
        "acl_valid_predictions = []\n",
        "acl_valid_predictions.append(predict_acl_axial_valid)\n",
        "acl_valid_predictions.append(predict_acl_coronal_valid)\n",
        "acl_valid_predictions.append(predict_acl_sagittal_valid)\n",
        "\n",
        "acl_valid_predictions = np.transpose(acl_valid_predictions)\n",
        "\n",
        "ACL_model.fit(np.array(acl_train_predictions)[0] , [aclTrainLabels],\n",
        "                   validation_data = (np.array(acl_valid_predictions)[0], [aclValidLabels]),\n",
        "                   epochs = 50,use_multiprocessing=True, workers=6)\n",
        "\n",
        "ACL_model.save(\"/content/gdrive/My Drive/transferVGG_models/ACL_model.h5\")"
      ],
      "execution_count": null,
      "outputs": [
        {
          "output_type": "stream",
          "text": [
            "Train on 1017 samples, validate on 113 samples\n",
            "Epoch 1/50\n",
            "1017/1017 [==============================] - 0s 146us/step - loss: 0.6847 - accuracy: 0.8269 - val_loss: 0.6607 - val_accuracy: 0.8584\n",
            "Epoch 2/50\n",
            "1017/1017 [==============================] - 0s 75us/step - loss: 0.6743 - accuracy: 0.8220 - val_loss: 0.6492 - val_accuracy: 0.8584\n",
            "Epoch 3/50\n",
            "1017/1017 [==============================] - 0s 69us/step - loss: 0.6644 - accuracy: 0.8201 - val_loss: 0.6390 - val_accuracy: 0.8584\n",
            "Epoch 4/50\n",
            "1017/1017 [==============================] - 0s 83us/step - loss: 0.6551 - accuracy: 0.8171 - val_loss: 0.6291 - val_accuracy: 0.8584\n",
            "Epoch 5/50\n",
            "1017/1017 [==============================] - 0s 76us/step - loss: 0.6462 - accuracy: 0.8161 - val_loss: 0.6197 - val_accuracy: 0.8584\n",
            "Epoch 6/50\n",
            "1017/1017 [==============================] - 0s 72us/step - loss: 0.6376 - accuracy: 0.8151 - val_loss: 0.6110 - val_accuracy: 0.8496\n",
            "Epoch 7/50\n",
            "1017/1017 [==============================] - 0s 71us/step - loss: 0.6296 - accuracy: 0.8151 - val_loss: 0.6023 - val_accuracy: 0.8496\n",
            "Epoch 8/50\n",
            "1017/1017 [==============================] - 0s 74us/step - loss: 0.6216 - accuracy: 0.8161 - val_loss: 0.5947 - val_accuracy: 0.8496\n",
            "Epoch 9/50\n",
            "1017/1017 [==============================] - 0s 75us/step - loss: 0.6141 - accuracy: 0.8161 - val_loss: 0.5874 - val_accuracy: 0.8496\n",
            "Epoch 10/50\n",
            "1017/1017 [==============================] - 0s 77us/step - loss: 0.6069 - accuracy: 0.8151 - val_loss: 0.5804 - val_accuracy: 0.8496\n",
            "Epoch 11/50\n",
            "1017/1017 [==============================] - 0s 72us/step - loss: 0.5999 - accuracy: 0.8151 - val_loss: 0.5735 - val_accuracy: 0.8496\n",
            "Epoch 12/50\n",
            "1017/1017 [==============================] - 0s 72us/step - loss: 0.5931 - accuracy: 0.8161 - val_loss: 0.5673 - val_accuracy: 0.8496\n",
            "Epoch 13/50\n",
            "1017/1017 [==============================] - 0s 72us/step - loss: 0.5865 - accuracy: 0.8161 - val_loss: 0.5610 - val_accuracy: 0.8496\n",
            "Epoch 14/50\n",
            "1017/1017 [==============================] - 0s 85us/step - loss: 0.5801 - accuracy: 0.8171 - val_loss: 0.5553 - val_accuracy: 0.8496\n",
            "Epoch 15/50\n",
            "1017/1017 [==============================] - 0s 77us/step - loss: 0.5740 - accuracy: 0.8171 - val_loss: 0.5495 - val_accuracy: 0.8496\n",
            "Epoch 16/50\n",
            "1017/1017 [==============================] - 0s 71us/step - loss: 0.5680 - accuracy: 0.8181 - val_loss: 0.5442 - val_accuracy: 0.8496\n",
            "Epoch 17/50\n",
            "1017/1017 [==============================] - 0s 72us/step - loss: 0.5622 - accuracy: 0.8191 - val_loss: 0.5392 - val_accuracy: 0.8496\n",
            "Epoch 18/50\n",
            "1017/1017 [==============================] - 0s 70us/step - loss: 0.5566 - accuracy: 0.8181 - val_loss: 0.5344 - val_accuracy: 0.8496\n",
            "Epoch 19/50\n",
            "1017/1017 [==============================] - 0s 72us/step - loss: 0.5511 - accuracy: 0.8201 - val_loss: 0.5298 - val_accuracy: 0.8496\n",
            "Epoch 20/50\n",
            "1017/1017 [==============================] - 0s 71us/step - loss: 0.5457 - accuracy: 0.8201 - val_loss: 0.5254 - val_accuracy: 0.8496\n",
            "Epoch 21/50\n",
            "1017/1017 [==============================] - 0s 71us/step - loss: 0.5405 - accuracy: 0.8201 - val_loss: 0.5208 - val_accuracy: 0.8496\n",
            "Epoch 22/50\n",
            "1017/1017 [==============================] - 0s 70us/step - loss: 0.5354 - accuracy: 0.8210 - val_loss: 0.5165 - val_accuracy: 0.8496\n",
            "Epoch 23/50\n",
            "1017/1017 [==============================] - 0s 74us/step - loss: 0.5304 - accuracy: 0.8220 - val_loss: 0.5124 - val_accuracy: 0.8496\n",
            "Epoch 24/50\n",
            "1017/1017 [==============================] - 0s 71us/step - loss: 0.5256 - accuracy: 0.8230 - val_loss: 0.5087 - val_accuracy: 0.8496\n",
            "Epoch 25/50\n",
            "1017/1017 [==============================] - 0s 73us/step - loss: 0.5208 - accuracy: 0.8230 - val_loss: 0.5051 - val_accuracy: 0.8496\n",
            "Epoch 26/50\n",
            "1017/1017 [==============================] - 0s 70us/step - loss: 0.5162 - accuracy: 0.8240 - val_loss: 0.5015 - val_accuracy: 0.8496\n",
            "Epoch 27/50\n",
            "1017/1017 [==============================] - 0s 87us/step - loss: 0.5117 - accuracy: 0.8250 - val_loss: 0.4981 - val_accuracy: 0.8496\n",
            "Epoch 28/50\n",
            "1017/1017 [==============================] - 0s 80us/step - loss: 0.5072 - accuracy: 0.8260 - val_loss: 0.4945 - val_accuracy: 0.8496\n",
            "Epoch 29/50\n",
            "1017/1017 [==============================] - 0s 72us/step - loss: 0.5028 - accuracy: 0.8269 - val_loss: 0.4912 - val_accuracy: 0.8496\n",
            "Epoch 30/50\n",
            "1017/1017 [==============================] - 0s 70us/step - loss: 0.4986 - accuracy: 0.8269 - val_loss: 0.4882 - val_accuracy: 0.8496\n",
            "Epoch 31/50\n",
            "1017/1017 [==============================] - 0s 70us/step - loss: 0.4944 - accuracy: 0.8269 - val_loss: 0.4850 - val_accuracy: 0.8496\n",
            "Epoch 32/50\n",
            "1017/1017 [==============================] - 0s 72us/step - loss: 0.4903 - accuracy: 0.8279 - val_loss: 0.4823 - val_accuracy: 0.8496\n",
            "Epoch 33/50\n",
            "1017/1017 [==============================] - 0s 71us/step - loss: 0.4863 - accuracy: 0.8289 - val_loss: 0.4794 - val_accuracy: 0.8496\n",
            "Epoch 34/50\n",
            "1017/1017 [==============================] - 0s 70us/step - loss: 0.4823 - accuracy: 0.8309 - val_loss: 0.4766 - val_accuracy: 0.8496\n",
            "Epoch 35/50\n",
            "1017/1017 [==============================] - 0s 69us/step - loss: 0.4785 - accuracy: 0.8328 - val_loss: 0.4738 - val_accuracy: 0.8496\n",
            "Epoch 36/50\n",
            "1017/1017 [==============================] - 0s 73us/step - loss: 0.4747 - accuracy: 0.8338 - val_loss: 0.4712 - val_accuracy: 0.8496\n",
            "Epoch 37/50\n",
            "1017/1017 [==============================] - 0s 71us/step - loss: 0.4711 - accuracy: 0.8338 - val_loss: 0.4686 - val_accuracy: 0.8496\n",
            "Epoch 38/50\n",
            "1017/1017 [==============================] - 0s 82us/step - loss: 0.4675 - accuracy: 0.8338 - val_loss: 0.4665 - val_accuracy: 0.8496\n",
            "Epoch 39/50\n",
            "1017/1017 [==============================] - 0s 70us/step - loss: 0.4639 - accuracy: 0.8348 - val_loss: 0.4639 - val_accuracy: 0.8496\n",
            "Epoch 40/50\n",
            "1017/1017 [==============================] - 0s 78us/step - loss: 0.4604 - accuracy: 0.8368 - val_loss: 0.4616 - val_accuracy: 0.8496\n",
            "Epoch 41/50\n",
            "1017/1017 [==============================] - 0s 82us/step - loss: 0.4570 - accuracy: 0.8378 - val_loss: 0.4596 - val_accuracy: 0.8584\n",
            "Epoch 42/50\n",
            "1017/1017 [==============================] - 0s 74us/step - loss: 0.4537 - accuracy: 0.8378 - val_loss: 0.4572 - val_accuracy: 0.8584\n",
            "Epoch 43/50\n",
            "1017/1017 [==============================] - 0s 71us/step - loss: 0.4504 - accuracy: 0.8387 - val_loss: 0.4551 - val_accuracy: 0.8584\n",
            "Epoch 44/50\n",
            "1017/1017 [==============================] - 0s 71us/step - loss: 0.4472 - accuracy: 0.8397 - val_loss: 0.4530 - val_accuracy: 0.8584\n",
            "Epoch 45/50\n",
            "1017/1017 [==============================] - 0s 72us/step - loss: 0.4441 - accuracy: 0.8397 - val_loss: 0.4510 - val_accuracy: 0.8584\n",
            "Epoch 46/50\n",
            "1017/1017 [==============================] - 0s 71us/step - loss: 0.4410 - accuracy: 0.8427 - val_loss: 0.4490 - val_accuracy: 0.8584\n",
            "Epoch 47/50\n",
            "1017/1017 [==============================] - 0s 70us/step - loss: 0.4379 - accuracy: 0.8437 - val_loss: 0.4472 - val_accuracy: 0.8584\n",
            "Epoch 48/50\n",
            "1017/1017 [==============================] - 0s 72us/step - loss: 0.4349 - accuracy: 0.8437 - val_loss: 0.4453 - val_accuracy: 0.8584\n",
            "Epoch 49/50\n",
            "1017/1017 [==============================] - 0s 71us/step - loss: 0.4320 - accuracy: 0.8437 - val_loss: 0.4436 - val_accuracy: 0.8584\n",
            "Epoch 50/50\n",
            "1017/1017 [==============================] - 0s 70us/step - loss: 0.4292 - accuracy: 0.8437 - val_loss: 0.4417 - val_accuracy: 0.8496\n"
          ],
          "name": "stdout"
        }
      ]
    },
    {
      "cell_type": "code",
      "metadata": {
        "id": "TufxMEB46LZ0",
        "colab_type": "code",
        "colab": {
          "base_uri": "https://localhost:8080/",
          "height": 101
        },
        "outputId": "7bfdd87f-806c-4b86-eef6-7921c4130a51"
      },
      "source": [
        "acl_test_predictions = []\n",
        "acl_test_predictions.append(predict_acl_axial_test)\n",
        "acl_test_predictions.append(predict_acl_coronal_test)\n",
        "acl_test_predictions.append(predict_acl_sagittal_test)\n",
        "\n",
        "acl_test_predictions = np.transpose(acl_test_predictions)\n",
        "\n",
        "loss2, acc2 = ACL_model.evaluate(acl_test_predictions[0], [aclTestLabels])\n",
        "print(\"evaluation done\")\n",
        "print('\\nTesting loss: {}, acc: {}\\n'.format(loss2, acc2))"
      ],
      "execution_count": null,
      "outputs": [
        {
          "output_type": "stream",
          "text": [
            "120/120 [==============================] - 0s 76us/step\n",
            "evaluation done\n",
            "\n",
            "Testing loss: 0.6761730670928955, acc: 0.574999988079071\n",
            "\n"
          ],
          "name": "stdout"
        }
      ]
    },
    {
      "cell_type": "code",
      "metadata": {
        "id": "TRMsLiLWFfqh",
        "colab_type": "code",
        "colab": {
          "base_uri": "https://localhost:8080/",
          "height": 1000
        },
        "outputId": "35039488-1392-4b7e-842b-7263d3a32dcb"
      },
      "source": [
        "Meniscus_model = logistic_regression()\n",
        "\n",
        "meniscus_train_predictions = []\n",
        "meniscus_train_predictions.append(predict_meniscus_axial_train)\n",
        "meniscus_train_predictions.append(predict_meniscus_coronal_train)\n",
        "meniscus_train_predictions.append(predict_meniscus_sagittal_train)\n",
        "\n",
        "meniscus_train_predictions = np.transpose(meniscus_train_predictions)\n",
        "\n",
        "meniscus_valid_predictions = []\n",
        "meniscus_valid_predictions.append(predict_meniscus_axial_valid)\n",
        "meniscus_valid_predictions.append(predict_meniscus_coronal_valid)\n",
        "meniscus_valid_predictions.append(predict_meniscus_sagittal_valid)\n",
        "\n",
        "meniscus_valid_predictions = np.transpose(meniscus_valid_predictions)\n",
        "\n",
        "Meniscus_model.fit(np.array(meniscus_train_predictions)[0] , [meniscusTrainLabels],\n",
        "                   validation_data = (np.array(meniscus_valid_predictions)[0], [meniscusValidLabels]),\n",
        "                   epochs = 50,use_multiprocessing=True, workers=6)\n",
        "\n",
        "Meniscus_model.save(\"/content/gdrive/My Drive/transferVGG_models/Meniscus_model.h5\")"
      ],
      "execution_count": null,
      "outputs": [
        {
          "output_type": "stream",
          "text": [
            "Train on 1017 samples, validate on 113 samples\n",
            "Epoch 1/50\n",
            "1017/1017 [==============================] - 0s 133us/step - loss: 0.6229 - accuracy: 0.6441 - val_loss: 0.6499 - val_accuracy: 0.6283\n",
            "Epoch 2/50\n",
            "1017/1017 [==============================] - 0s 71us/step - loss: 0.6183 - accuracy: 0.6775 - val_loss: 0.6479 - val_accuracy: 0.6283\n",
            "Epoch 3/50\n",
            "1017/1017 [==============================] - 0s 71us/step - loss: 0.6139 - accuracy: 0.6991 - val_loss: 0.6459 - val_accuracy: 0.6372\n",
            "Epoch 4/50\n",
            "1017/1017 [==============================] - 0s 71us/step - loss: 0.6100 - accuracy: 0.7129 - val_loss: 0.6441 - val_accuracy: 0.6372\n",
            "Epoch 5/50\n",
            "1017/1017 [==============================] - 0s 70us/step - loss: 0.6058 - accuracy: 0.7158 - val_loss: 0.6421 - val_accuracy: 0.6372\n",
            "Epoch 6/50\n",
            "1017/1017 [==============================] - 0s 70us/step - loss: 0.6018 - accuracy: 0.7276 - val_loss: 0.6404 - val_accuracy: 0.6195\n",
            "Epoch 7/50\n",
            "1017/1017 [==============================] - 0s 74us/step - loss: 0.5980 - accuracy: 0.7325 - val_loss: 0.6388 - val_accuracy: 0.6372\n",
            "Epoch 8/50\n",
            "1017/1017 [==============================] - 0s 89us/step - loss: 0.5944 - accuracy: 0.7384 - val_loss: 0.6368 - val_accuracy: 0.6372\n",
            "Epoch 9/50\n",
            "1017/1017 [==============================] - 0s 84us/step - loss: 0.5908 - accuracy: 0.7424 - val_loss: 0.6354 - val_accuracy: 0.6460\n",
            "Epoch 10/50\n",
            "1017/1017 [==============================] - 0s 78us/step - loss: 0.5871 - accuracy: 0.7434 - val_loss: 0.6335 - val_accuracy: 0.6460\n",
            "Epoch 11/50\n",
            "1017/1017 [==============================] - 0s 72us/step - loss: 0.5837 - accuracy: 0.7463 - val_loss: 0.6319 - val_accuracy: 0.6372\n",
            "Epoch 12/50\n",
            "1017/1017 [==============================] - 0s 79us/step - loss: 0.5803 - accuracy: 0.7532 - val_loss: 0.6302 - val_accuracy: 0.6283\n",
            "Epoch 13/50\n",
            "1017/1017 [==============================] - 0s 71us/step - loss: 0.5770 - accuracy: 0.7571 - val_loss: 0.6287 - val_accuracy: 0.6283\n",
            "Epoch 14/50\n",
            "1017/1017 [==============================] - 0s 70us/step - loss: 0.5738 - accuracy: 0.7601 - val_loss: 0.6273 - val_accuracy: 0.6283\n",
            "Epoch 15/50\n",
            "1017/1017 [==============================] - 0s 75us/step - loss: 0.5707 - accuracy: 0.7611 - val_loss: 0.6258 - val_accuracy: 0.6283\n",
            "Epoch 16/50\n",
            "1017/1017 [==============================] - 0s 71us/step - loss: 0.5675 - accuracy: 0.7630 - val_loss: 0.6241 - val_accuracy: 0.6283\n",
            "Epoch 17/50\n",
            "1017/1017 [==============================] - 0s 70us/step - loss: 0.5645 - accuracy: 0.7650 - val_loss: 0.6228 - val_accuracy: 0.6283\n",
            "Epoch 18/50\n",
            "1017/1017 [==============================] - 0s 70us/step - loss: 0.5615 - accuracy: 0.7679 - val_loss: 0.6214 - val_accuracy: 0.6283\n",
            "Epoch 19/50\n",
            "1017/1017 [==============================] - 0s 71us/step - loss: 0.5586 - accuracy: 0.7660 - val_loss: 0.6201 - val_accuracy: 0.6283\n",
            "Epoch 20/50\n",
            "1017/1017 [==============================] - 0s 73us/step - loss: 0.5559 - accuracy: 0.7670 - val_loss: 0.6192 - val_accuracy: 0.6195\n",
            "Epoch 21/50\n",
            "1017/1017 [==============================] - 0s 70us/step - loss: 0.5530 - accuracy: 0.7679 - val_loss: 0.6178 - val_accuracy: 0.6106\n",
            "Epoch 22/50\n",
            "1017/1017 [==============================] - 0s 71us/step - loss: 0.5503 - accuracy: 0.7670 - val_loss: 0.6162 - val_accuracy: 0.6106\n",
            "Epoch 23/50\n",
            "1017/1017 [==============================] - 0s 82us/step - loss: 0.5476 - accuracy: 0.7699 - val_loss: 0.6153 - val_accuracy: 0.6106\n",
            "Epoch 24/50\n",
            "1017/1017 [==============================] - 0s 72us/step - loss: 0.5449 - accuracy: 0.7689 - val_loss: 0.6142 - val_accuracy: 0.6106\n",
            "Epoch 25/50\n",
            "1017/1017 [==============================] - 0s 78us/step - loss: 0.5424 - accuracy: 0.7738 - val_loss: 0.6128 - val_accuracy: 0.6106\n",
            "Epoch 26/50\n",
            "1017/1017 [==============================] - 0s 74us/step - loss: 0.5399 - accuracy: 0.7778 - val_loss: 0.6117 - val_accuracy: 0.6106\n",
            "Epoch 27/50\n",
            "1017/1017 [==============================] - 0s 76us/step - loss: 0.5374 - accuracy: 0.7768 - val_loss: 0.6110 - val_accuracy: 0.6106\n",
            "Epoch 28/50\n",
            "1017/1017 [==============================] - 0s 72us/step - loss: 0.5349 - accuracy: 0.7768 - val_loss: 0.6097 - val_accuracy: 0.6106\n",
            "Epoch 29/50\n",
            "1017/1017 [==============================] - 0s 72us/step - loss: 0.5326 - accuracy: 0.7768 - val_loss: 0.6088 - val_accuracy: 0.6195\n",
            "Epoch 30/50\n",
            "1017/1017 [==============================] - 0s 71us/step - loss: 0.5302 - accuracy: 0.7768 - val_loss: 0.6078 - val_accuracy: 0.6195\n",
            "Epoch 31/50\n",
            "1017/1017 [==============================] - 0s 71us/step - loss: 0.5279 - accuracy: 0.7788 - val_loss: 0.6066 - val_accuracy: 0.6106\n",
            "Epoch 32/50\n",
            "1017/1017 [==============================] - 0s 72us/step - loss: 0.5257 - accuracy: 0.7797 - val_loss: 0.6061 - val_accuracy: 0.6106\n",
            "Epoch 33/50\n",
            "1017/1017 [==============================] - 0s 71us/step - loss: 0.5235 - accuracy: 0.7827 - val_loss: 0.6051 - val_accuracy: 0.6106\n",
            "Epoch 34/50\n",
            "1017/1017 [==============================] - 0s 72us/step - loss: 0.5214 - accuracy: 0.7827 - val_loss: 0.6045 - val_accuracy: 0.6106\n",
            "Epoch 35/50\n",
            "1017/1017 [==============================] - 0s 74us/step - loss: 0.5193 - accuracy: 0.7847 - val_loss: 0.6035 - val_accuracy: 0.6106\n",
            "Epoch 36/50\n",
            "1017/1017 [==============================] - 0s 103us/step - loss: 0.5173 - accuracy: 0.7837 - val_loss: 0.6026 - val_accuracy: 0.6195\n",
            "Epoch 37/50\n",
            "1017/1017 [==============================] - 0s 71us/step - loss: 0.5152 - accuracy: 0.7847 - val_loss: 0.6019 - val_accuracy: 0.6195\n",
            "Epoch 38/50\n",
            "1017/1017 [==============================] - 0s 77us/step - loss: 0.5133 - accuracy: 0.7847 - val_loss: 0.6009 - val_accuracy: 0.6195\n",
            "Epoch 39/50\n",
            "1017/1017 [==============================] - 0s 70us/step - loss: 0.5113 - accuracy: 0.7856 - val_loss: 0.6006 - val_accuracy: 0.6195\n",
            "Epoch 40/50\n",
            "1017/1017 [==============================] - 0s 71us/step - loss: 0.5094 - accuracy: 0.7866 - val_loss: 0.5997 - val_accuracy: 0.6283\n",
            "Epoch 41/50\n",
            "1017/1017 [==============================] - 0s 75us/step - loss: 0.5075 - accuracy: 0.7876 - val_loss: 0.5991 - val_accuracy: 0.6283\n",
            "Epoch 42/50\n",
            "1017/1017 [==============================] - 0s 73us/step - loss: 0.5057 - accuracy: 0.7886 - val_loss: 0.5984 - val_accuracy: 0.6283\n",
            "Epoch 43/50\n",
            "1017/1017 [==============================] - 0s 69us/step - loss: 0.5039 - accuracy: 0.7876 - val_loss: 0.5979 - val_accuracy: 0.6283\n",
            "Epoch 44/50\n",
            "1017/1017 [==============================] - 0s 71us/step - loss: 0.5021 - accuracy: 0.7896 - val_loss: 0.5973 - val_accuracy: 0.6283\n",
            "Epoch 45/50\n",
            "1017/1017 [==============================] - 0s 75us/step - loss: 0.5004 - accuracy: 0.7886 - val_loss: 0.5968 - val_accuracy: 0.6283\n",
            "Epoch 46/50\n",
            "1017/1017 [==============================] - 0s 73us/step - loss: 0.4987 - accuracy: 0.7896 - val_loss: 0.5961 - val_accuracy: 0.6372\n",
            "Epoch 47/50\n",
            "1017/1017 [==============================] - 0s 71us/step - loss: 0.4970 - accuracy: 0.7906 - val_loss: 0.5956 - val_accuracy: 0.6372\n",
            "Epoch 48/50\n",
            "1017/1017 [==============================] - 0s 71us/step - loss: 0.4953 - accuracy: 0.7925 - val_loss: 0.5953 - val_accuracy: 0.6372\n",
            "Epoch 49/50\n",
            "1017/1017 [==============================] - 0s 80us/step - loss: 0.4937 - accuracy: 0.7925 - val_loss: 0.5947 - val_accuracy: 0.6372\n",
            "Epoch 50/50\n",
            "1017/1017 [==============================] - 0s 73us/step - loss: 0.4921 - accuracy: 0.7935 - val_loss: 0.5944 - val_accuracy: 0.6372\n"
          ],
          "name": "stdout"
        }
      ]
    },
    {
      "cell_type": "code",
      "metadata": {
        "id": "fhDAKhzMFllj",
        "colab_type": "code",
        "colab": {
          "base_uri": "https://localhost:8080/",
          "height": 101
        },
        "outputId": "493c50ca-4ead-4b7f-b669-09cc078df3f6"
      },
      "source": [
        "meniscus_test_predictions = []\n",
        "meniscus_test_predictions.append(predict_meniscus_axial_test)\n",
        "meniscus_test_predictions.append(predict_meniscus_coronal_test)\n",
        "meniscus_test_predictions.append(predict_meniscus_sagittal_test)\n",
        "meniscus_test_predictions = np.transpose(meniscus_test_predictions)\n",
        "loss3, acc3 = Meniscus_model.evaluate(meniscus_test_predictions[0] ,   [meniscusTestLabels])\n",
        "print(\"evaluation done\")\n",
        "print('\\nTesting loss: {}, acc: {}\\n'.format(loss3, acc3))"
      ],
      "execution_count": null,
      "outputs": [
        {
          "output_type": "stream",
          "text": [
            "120/120 [==============================] - 0s 100us/step\n",
            "evaluation done\n",
            "\n",
            "Testing loss: 0.5914988954861958, acc: 0.675000011920929\n",
            "\n"
          ],
          "name": "stdout"
        }
      ]
    },
    {
      "cell_type": "markdown",
      "metadata": {
        "id": "965mAQThvMxB",
        "colab_type": "text"
      },
      "source": [
        "**Get final accurancy and loss**"
      ]
    },
    {
      "cell_type": "code",
      "metadata": {
        "id": "I0fTdCogFy6A",
        "colab_type": "code",
        "colab": {
          "base_uri": "https://localhost:8080/",
          "height": 202
        },
        "outputId": "92d10180-38a5-4792-aed6-117a49b1211d"
      },
      "source": [
        "print('\\nAbnormal Accuracy: {}'.format(acc1))\n",
        "print('Abnormal Loss    : {}'.format(loss1))\n",
        "print('\\nACL Accuracy     : {}'.format(acc2))\n",
        "print('ACL Loss         : {}'.format(loss2))\n",
        "print('\\nMeniscus Accuracy: {}\\n'.format(acc3))\n",
        "print('Meniscus Loss    : {}\\n'.format(loss3))"
      ],
      "execution_count": null,
      "outputs": [
        {
          "output_type": "stream",
          "text": [
            "\n",
            "Abnormal Accuracy: 0.7916666865348816\n",
            "Abnormal Loss    : 0.5000303079684575\n",
            "\n",
            "ACL Accuracy     : 0.574999988079071\n",
            "ACL Loss         : 0.6761730670928955\n",
            "\n",
            "Meniscus Accuracy: 0.675000011920929\n",
            "\n",
            "Meniscus Loss    : 0.5914988954861958\n",
            "\n"
          ],
          "name": "stdout"
        }
      ]
    }
  ]
}